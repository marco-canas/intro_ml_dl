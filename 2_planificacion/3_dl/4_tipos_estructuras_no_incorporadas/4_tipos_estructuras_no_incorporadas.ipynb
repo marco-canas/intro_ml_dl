{
 "cells": [
  {
   "cell_type": "markdown",
   "id": "7bdb4e4e",
   "metadata": {},
   "source": [
    "# [Encuesta de satisfacción en Google Form](https://forms.gle/YUc83ygwGoEcHgM2A) "
   ]
  },
  {
   "cell_type": "markdown",
   "id": "dc06dec7",
   "metadata": {
    "slideshow": {
     "slide_type": "slide"
    }
   },
   "source": [
    "<table align=\"left\">\n",
    "  <td>\n",
    "    <a href=\"https://colab.research.google.com/github/marco-canas/intro_ml_dl/blob/main/2_planificacion/3_dl/4_tipos_estructuras_no_incorporadas/4_tipos_estructuras_no_incorporadas.ipynb\" target=\"_parent\"><img src=\"https://colab.research.google.com/assets/colab-badge.svg\" alt=\"Open In Colab\"/></a>\n",
    "  </td>\n",
    "  <td>\n",
    "    <a target=\"_blank\" href=\"https://kaggle.com/kernels/welcome?src=https://github.com/marco-canas/intro_ml_dl/blob/main/2_planificacion/3_dl/4_tipos_estructuras_no_incorporadas/4_tipos_estructuras_no_incorporadas.ipynb\"><img src=\"https://kaggle.com/static/images/open-in-kaggle.svg\" /></a>\n",
    "  </td>\n",
    "</table>"
   ]
  },
  {
   "cell_type": "markdown",
   "id": "e0c5b198",
   "metadata": {
    "slideshow": {
     "slide_type": "slide"
    }
   },
   "source": [
    "### [Video de apoyo a la lectura interactiva y experimental de este cuaderno]()"
   ]
  },
  {
   "cell_type": "markdown",
   "id": "41e82203",
   "metadata": {
    "slideshow": {
     "slide_type": "slide"
    }
   },
   "source": [
    "### [Vínculo al programa del curso:  ]()\n",
    "\n"
   ]
  },
  {
   "cell_type": "markdown",
   "id": "d11ab06d",
   "metadata": {
    "slideshow": {
     "slide_type": "slide"
    }
   },
   "source": [
    "Un reconocimiento a mis estudiantes que han construido conmigo este saber pedagógico:\n",
    "\n",
    "<img src = 'https://github.com/marco-canas/intro_ml_dl/blob/main/5_images/taller_estructuras_datos_python_2025-09-04%20a%20las%2020.38.jpg?raw=true' width = 500> \n",
    "\n"
   ]
  },
  {
   "cell_type": "code",
   "execution_count": 1,
   "id": "b179a7ed",
   "metadata": {},
   "outputs": [
    {
     "data": {
      "application/vnd.microsoft.datawrangler.viewer.v0+json": {
       "columns": [
        {
         "name": "index",
         "rawType": "int64",
         "type": "integer"
        },
        {
         "name": "Nombre",
         "rawType": "object",
         "type": "string"
        },
        {
         "name": "Programa",
         "rawType": "object",
         "type": "string"
        }
       ],
       "ref": "9095e0cd-9226-4f11-8c55-aaddfbae516d",
       "rows": [
        [
         "0",
         "marco julio cañas campillo",
         "licenciatura en matemáticas"
        ]
       ],
       "shape": {
        "columns": 2,
        "rows": 1
       }
      },
      "text/html": [
       "<div>\n",
       "<style scoped>\n",
       "    .dataframe tbody tr th:only-of-type {\n",
       "        vertical-align: middle;\n",
       "    }\n",
       "\n",
       "    .dataframe tbody tr th {\n",
       "        vertical-align: top;\n",
       "    }\n",
       "\n",
       "    .dataframe thead th {\n",
       "        text-align: right;\n",
       "    }\n",
       "</style>\n",
       "<table border=\"1\" class=\"dataframe\">\n",
       "  <thead>\n",
       "    <tr style=\"text-align: right;\">\n",
       "      <th></th>\n",
       "      <th>Nombre</th>\n",
       "      <th>Programa</th>\n",
       "    </tr>\n",
       "  </thead>\n",
       "  <tbody>\n",
       "    <tr>\n",
       "      <th>0</th>\n",
       "      <td>marco julio cañas campillo</td>\n",
       "      <td>licenciatura en matemáticas</td>\n",
       "    </tr>\n",
       "  </tbody>\n",
       "</table>\n",
       "</div>"
      ],
      "text/plain": [
       "                       Nombre                     Programa\n",
       "0  marco julio cañas campillo  licenciatura en matemáticas"
      ]
     },
     "execution_count": 1,
     "metadata": {},
     "output_type": "execute_result"
    }
   ],
   "source": [
    "import pandas as pd\n",
    "import numpy as np\n",
    "\n",
    "# Cargar la lista de estudiantes desde el archivo CSV\n",
    "path = 'C:/Users/marco/Documentos/docencia/groups_list/g_lideres.xlsx'\n",
    "df = pd.read_excel(path)\n",
    "\n",
    "df.head(3)"
   ]
  },
  {
   "cell_type": "markdown",
   "id": "f916feb9",
   "metadata": {},
   "source": [
    "# Los tipos de estructuras de datos no incorporadas de Python: nd-arrays, Series y DataFrames con NumPy y Pandas.   \n",
    "\n"
   ]
  },
  {
   "cell_type": "markdown",
   "id": "7f889898",
   "metadata": {},
   "source": [
    "\n",
    "## Tema: *Los tipos de estructuras de datos no incorporadas de Python: nd-arrays, Series y DataFrames con NumPy y Pandas*\n"
   ]
  },
  {
   "cell_type": "markdown",
   "id": "3ec48c99",
   "metadata": {},
   "source": [
    "\n",
    "### Contexto: Microeconomía aplicada a la Administración de Empresas (G-Líderes)\n",
    "\n",
    "---\n"
   ]
  },
  {
   "cell_type": "markdown",
   "id": "642e4b85",
   "metadata": {},
   "source": [
    "\n",
    "## Objetivos de aprendizaje\n"
   ]
  },
  {
   "cell_type": "markdown",
   "id": "6dfc2b5a",
   "metadata": {},
   "source": [
    "\n",
    "1. Reconocer y diferenciar los tipos de estructuras de datos no incorporadas en Python: `ndarray` (NumPy), `Series` y `DataFrame` (Pandas).\n",
    "2. Manipular datos económicos básicos de microeconomía usando estas estructuras.\n",
    "3. Comprender cómo estas herramientas apoyan la toma de decisiones en administración de empresas.\n",
    "4. Interpretar resultados a partir de ejemplos reales de **ingresos, costos, demanda y oferta** en microempresas.\n",
    "\n",
    "---\n"
   ]
  },
  {
   "cell_type": "markdown",
   "id": "0c813073",
   "metadata": {},
   "source": [
    "\n",
    "## Contenidos\n",
    "\n",
    "* Introducción a **NumPy** y `ndarray`.\n",
    "* Introducción a **Pandas**: `Series` y `DataFrame`.\n",
    "* Propiedades, métodos y operaciones fundamentales.\n",
    "* Ejemplos aplicados a microeconomía:\n",
    "\n",
    "  * Demanda de un bien en distintos precios.\n",
    "  * Registro de ingresos y costos mensuales.\n",
    "  * Comparación entre empresas (pequeños productores).\n",
    "\n",
    "---\n"
   ]
  },
  {
   "cell_type": "markdown",
   "id": "e859a2ce",
   "metadata": {},
   "source": [
    "\n",
    "## Metodología (Aula invertida + ABP)\n",
    "\n",
    "* **Antes de clase**:\n",
    "\n",
    "  * Los estudiantes revisan un cuaderno Jupyter disponible en GitHub y un video en YouTube sobre NumPy y Pandas.\n",
    "  * Deben traer un ejemplo de microempresa de su entorno (tienda, panadería, emprendimiento).\n"
   ]
  },
  {
   "cell_type": "markdown",
   "id": "ac87403e",
   "metadata": {},
   "source": [
    "\n",
    "* **Durante la clase (taller práctico)**:\n",
    "\n",
    "  * Se trabaja con casos de microeconomía donde los estudiantes construyen y manipulan datos con Python.\n",
    "  * Se resuelven problemas en equipo con retroalimentación docente.\n",
    "\n",
    "---\n"
   ]
  },
  {
   "cell_type": "markdown",
   "id": "4704e07c",
   "metadata": {},
   "source": [
    "\n",
    "## Actividades del taller\n",
    "\n",
    "### **Actividad 1: nd-arrays con NumPy (demanda de un bien)**\n",
    "\n",
    "* Supón que la **cantidad demandada** de un producto depende del precio:\n"
   ]
  },
  {
   "cell_type": "code",
   "execution_count": 1,
   "id": "3a148297",
   "metadata": {},
   "outputs": [],
   "source": [
    "\n",
    "\n",
    "import numpy as np\n"
   ]
  },
  {
   "cell_type": "code",
   "execution_count": 2,
   "id": "3054a66c",
   "metadata": {},
   "outputs": [],
   "source": [
    "\n",
    "precios = np.array([1000, 2000, 3000, 4000, 5000])\n"
   ]
  },
  {
   "cell_type": "code",
   "execution_count": 6,
   "id": "4b46c396",
   "metadata": {},
   "outputs": [],
   "source": [
    "cantidades_vendidas = np.array([500, 400, 300, 200, 100])\n",
    "cantidades_producidas = np.array([100, 200, 300, 400, 500])\n"
   ]
  },
  {
   "cell_type": "code",
   "execution_count": 4,
   "id": "e4c36fab",
   "metadata": {},
   "outputs": [
    {
     "name": "stdout",
     "output_type": "stream",
     "text": [
      "Ingresos totales: [500000 800000 900000 800000 500000]\n"
     ]
    }
   ],
   "source": [
    "\n",
    "ingreso_total = precios * cantidades\n",
    "print(\"Ingresos totales:\", ingreso_total)\n",
    "\n"
   ]
  },
  {
   "cell_type": "code",
   "execution_count": 8,
   "id": "99b582d0",
   "metadata": {},
   "outputs": [
    {
     "data": {
      "image/png": "[encoded data removed]",
      "text/plain": [
       "<Figure size 640x480 with 1 Axes>"
      ]
     },
     "metadata": {},
     "output_type": "display_data"
    }
   ],
   "source": [
    "import matplotlib.pyplot as plt\n",
    "plt.plot(precios, cantidades_vendidas, marker='o')\n",
    "plt.plot(precios, cantidades_producidas, marker='o')\n",
    "plt.title('Curva de Demanda')\n",
    "plt.grid() \n",
    "plt.xlabel('Precio')\n",
    "plt.ylabel('Cantidad')\n",
    "plt.savefig(r\"C:\\Users\\marco\\Downloads\\curva_demanda.png\")\n",
    "plt.show()\n",
    "\n"
   ]
  },
  {
   "cell_type": "markdown",
   "id": "649a17ee",
   "metadata": {},
   "source": [
    "* **Preguntas guía**:\n",
    "\n",
    "  1. ¿Qué tipo de estructura es `precios`?\n",
    "  2. ¿Qué propiedades de `ndarray` permiten operar sin bucles? A estas propiedades se les llama *vectorización*.\n",
    "  3. ¿Qué precio maximiza el ingreso total?\n",
    "\n",
    "---\n"
   ]
  },
  {
   "cell_type": "code",
   "execution_count": null,
   "id": "fa101007",
   "metadata": {},
   "outputs": [
    {
     "data": {
      "text/plain": [
       "np.int64(3000)"
      ]
     },
     "execution_count": 19,
     "metadata": {},
     "output_type": "execute_result"
    }
   ],
   "source": [
    "precios[np.argmax(ingreso_total)]  # Precio que maximiza el ingreso total  "
   ]
  },
  {
   "cell_type": "markdown",
   "id": "35d9a08c",
   "metadata": {},
   "source": [
    "\n",
    "#  **Actividad 2: Series en Pandas (registro de costos)**\n"
   ]
  },
  {
   "cell_type": "markdown",
   "id": "24a1b681",
   "metadata": {},
   "source": [
    "\n",
    "* Un microempresario registra sus **costos mensuales** en materias primas:\n"
   ]
  },
  {
   "cell_type": "code",
   "execution_count": 9,
   "id": "6d2a39ab",
   "metadata": {},
   "outputs": [],
   "source": [
    "\n",
    "import pandas as pd\n"
   ]
  },
  {
   "cell_type": "code",
   "execution_count": 10,
   "id": "b97e4c7e",
   "metadata": {},
   "outputs": [],
   "source": [
    "\n",
    "costos = pd.Series( [1_200_000, 1_150_000, 1_180_000, 1_300_000], index=[\"Enero\", \"Febrero\", \"Marzo\", \"Abril\"] )\n"
   ]
  },
  {
   "cell_type": "code",
   "execution_count": 12,
   "id": "75556da4",
   "metadata": {},
   "outputs": [],
   "source": [
    "costos_como_lista = [1_200_000, 1_150_000, 1_180_000, 1_300_000] "
   ]
  },
  {
   "cell_type": "code",
   "execution_count": 13,
   "id": "34057691",
   "metadata": {},
   "outputs": [
    {
     "data": {
      "text/plain": [
       "[1200000, 1150000, 1180000, 1300000]"
      ]
     },
     "execution_count": 13,
     "metadata": {},
     "output_type": "execute_result"
    }
   ],
   "source": [
    "costos_como_lista"
   ]
  },
  {
   "cell_type": "code",
   "execution_count": 11,
   "id": "b8fbcff3",
   "metadata": {},
   "outputs": [
    {
     "data": {
      "application/vnd.microsoft.datawrangler.viewer.v0+json": {
       "columns": [
        {
         "name": "index",
         "rawType": "object",
         "type": "string"
        },
        {
         "name": "0",
         "rawType": "int64",
         "type": "integer"
        }
       ],
       "ref": "b10924fb-2b09-46bf-ba5b-8327bcdbaa57",
       "rows": [
        [
         "Enero",
         "1200000"
        ],
        [
         "Febrero",
         "1150000"
        ],
        [
         "Marzo",
         "1180000"
        ],
        [
         "Abril",
         "1300000"
        ]
       ],
       "shape": {
        "columns": 1,
        "rows": 4
       }
      },
      "text/plain": [
       "Enero      1200000\n",
       "Febrero    1150000\n",
       "Marzo      1180000\n",
       "Abril      1300000\n",
       "dtype: int64"
      ]
     },
     "execution_count": 11,
     "metadata": {},
     "output_type": "execute_result"
    }
   ],
   "source": [
    "costos "
   ]
  },
  {
   "cell_type": "code",
   "execution_count": 15,
   "id": "8e715722",
   "metadata": {},
   "outputs": [
    {
     "data": {
      "text/plain": [
       "1150000"
      ]
     },
     "execution_count": 15,
     "metadata": {},
     "output_type": "execute_result"
    }
   ],
   "source": [
    "costos_como_lista[1]"
   ]
  },
  {
   "cell_type": "code",
   "execution_count": 16,
   "id": "c3965dcb",
   "metadata": {},
   "outputs": [
    {
     "data": {
      "text/plain": [
       "np.int64(1200000)"
      ]
     },
     "execution_count": 16,
     "metadata": {},
     "output_type": "execute_result"
    }
   ],
   "source": [
    "costos['Enero']"
   ]
  },
  {
   "cell_type": "code",
   "execution_count": 17,
   "id": "ca9c4811",
   "metadata": {},
   "outputs": [
    {
     "name": "stderr",
     "output_type": "stream",
     "text": [
      "C:\\Users\\marco\\AppData\\Local\\Temp\\ipykernel_17680\\183380367.py:1: FutureWarning: Series.__getitem__ treating keys as positions is deprecated. In a future version, integer keys will always be treated as labels (consistent with DataFrame behavior). To access a value by position, use `ser.iloc[pos]`\n",
      "  costos[0]\n"
     ]
    },
    {
     "data": {
      "text/plain": [
       "np.int64(1200000)"
      ]
     },
     "execution_count": 17,
     "metadata": {},
     "output_type": "execute_result"
    }
   ],
   "source": [
    "costos[0]"
   ]
  },
  {
   "cell_type": "code",
   "execution_count": 18,
   "id": "c9d3a8ad",
   "metadata": {},
   "outputs": [
    {
     "name": "stdout",
     "output_type": "stream",
     "text": [
      "Enero      1200000\n",
      "Febrero    1150000\n",
      "Marzo      1180000\n",
      "Abril      1300000\n",
      "dtype: int64\n",
      "Costo promedio: 1207500.0\n"
     ]
    }
   ],
   "source": [
    "\n",
    "print(costos)\n",
    "print(\"Costo promedio:\", costos.mean())\n",
    "\n"
   ]
  },
  {
   "cell_type": "code",
   "execution_count": 23,
   "id": "c514db5f",
   "metadata": {},
   "outputs": [
    {
     "data": {
      "text/plain": [
       "np.int64(1200000)"
      ]
     },
     "execution_count": 23,
     "metadata": {},
     "output_type": "execute_result"
    }
   ],
   "source": [
    "costos.iloc[0]"
   ]
  },
  {
   "cell_type": "code",
   "execution_count": 22,
   "id": "d30a431f",
   "metadata": {},
   "outputs": [
    {
     "data": {
      "text/plain": [
       "np.int64(1200000)"
      ]
     },
     "execution_count": 22,
     "metadata": {},
     "output_type": "execute_result"
    }
   ],
   "source": [
    "costos['Enero']"
   ]
  },
  {
   "cell_type": "markdown",
   "id": "5b127883",
   "metadata": {},
   "source": [
    "* **Preguntas guía**:\n",
    "\n",
    "  1. ¿Qué ventajas ofrece una `Series` sobre un `ndarray`?\n",
    "  2. ¿Qué mes tuvo el menor costo?\n",
    "  3. ¿Cómo interpretar esta información para la gestión de compras?\n",
    "\n",
    "---\n"
   ]
  },
  {
   "cell_type": "code",
   "execution_count": null,
   "id": "780b8886",
   "metadata": {},
   "outputs": [],
   "source": [
    "# Cómo agregar información a una Serie \n",
    "costos['Mayo'] = 1_250_000"
   ]
  },
  {
   "cell_type": "code",
   "execution_count": 24,
   "id": "7a8b654f",
   "metadata": {},
   "outputs": [
    {
     "data": {
      "application/vnd.microsoft.datawrangler.viewer.v0+json": {
       "columns": [
        {
         "name": "index",
         "rawType": "object",
         "type": "string"
        },
        {
         "name": "0",
         "rawType": "int64",
         "type": "integer"
        }
       ],
       "ref": "9f7394b6-bc4d-4693-b8e7-02260c711e0d",
       "rows": [
        [
         "Enero",
         "1200000"
        ],
        [
         "Febrero",
         "1150000"
        ],
        [
         "Marzo",
         "1180000"
        ],
        [
         "Abril",
         "1300000"
        ]
       ],
       "shape": {
        "columns": 1,
        "rows": 4
       }
      },
      "text/plain": [
       "Enero      1200000\n",
       "Febrero    1150000\n",
       "Marzo      1180000\n",
       "Abril      1300000\n",
       "dtype: int64"
      ]
     },
     "execution_count": 24,
     "metadata": {},
     "output_type": "execute_result"
    }
   ],
   "source": [
    "costos "
   ]
  },
  {
   "cell_type": "code",
   "execution_count": 19,
   "id": "4d5e9820",
   "metadata": {},
   "outputs": [
    {
     "data": {
      "application/vnd.microsoft.datawrangler.viewer.v0+json": {
       "columns": [
        {
         "name": "index",
         "rawType": "object",
         "type": "string"
        },
        {
         "name": "0",
         "rawType": "float64",
         "type": "float"
        }
       ],
       "ref": "c9d3c003-85f9-4205-97c5-a88880d7302d",
       "rows": [
        [
         "count",
         "4.0"
        ],
        [
         "mean",
         "1207500.0"
        ],
        [
         "std",
         "65000.0"
        ],
        [
         "min",
         "1150000.0"
        ],
        [
         "25%",
         "1172500.0"
        ],
        [
         "50%",
         "1190000.0"
        ],
        [
         "75%",
         "1225000.0"
        ],
        [
         "max",
         "1300000.0"
        ]
       ],
       "shape": {
        "columns": 1,
        "rows": 8
       }
      },
      "text/plain": [
       "count          4.0\n",
       "mean     1207500.0\n",
       "std        65000.0\n",
       "min      1150000.0\n",
       "25%      1172500.0\n",
       "50%      1190000.0\n",
       "75%      1225000.0\n",
       "max      1300000.0\n",
       "dtype: float64"
      ]
     },
     "execution_count": 19,
     "metadata": {},
     "output_type": "execute_result"
    }
   ],
   "source": [
    "costos.describe()"
   ]
  },
  {
   "cell_type": "code",
   "execution_count": 9,
   "id": "e9ee79d2",
   "metadata": {},
   "outputs": [
    {
     "data": {
      "text/plain": [
       "np.int64(1300000)"
      ]
     },
     "execution_count": 9,
     "metadata": {},
     "output_type": "execute_result"
    }
   ],
   "source": [
    "costos['Abril'] "
   ]
  },
  {
   "cell_type": "markdown",
   "id": "ba86e9ca",
   "metadata": {},
   "source": [
    "\n",
    "### **Actividad 3: DataFrames en Pandas (comparación entre empresas)**\n"
   ]
  },
  {
   "cell_type": "markdown",
   "id": "667f8527",
   "metadata": {},
   "source": [
    "\n",
    "* Tres microempresas producen y venden el mismo bien. Sus datos de **ingresos y costos** se registran así:\n"
   ]
  },
  {
   "cell_type": "code",
   "execution_count": 20,
   "id": "04cc47b7",
   "metadata": {},
   "outputs": [],
   "source": [
    "# Empezaremos creando un  diccionario de datos y luego lo convertiremos en un DataFrame de Pandas\n",
    "\n",
    "datos = {\n",
    "      \"Empresa\": [\"A\", \"B\", \"C\"],\n",
    "      \"Ingresos\": [5_000_000, 6_500_000, 4_800_000],\n",
    "      \"Costos\": [3_000_000, 4_000_000, 3_200_000]\n",
    "  }\n"
   ]
  },
  {
   "cell_type": "code",
   "execution_count": 21,
   "id": "a5e9b41b",
   "metadata": {},
   "outputs": [
    {
     "data": {
      "text/plain": [
       "{'Empresa': ['A', 'B', 'C'],\n",
       " 'Ingresos': [5000000, 6500000, 4800000],\n",
       " 'Costos': [3000000, 4000000, 3200000]}"
      ]
     },
     "execution_count": 21,
     "metadata": {},
     "output_type": "execute_result"
    }
   ],
   "source": [
    "datos "
   ]
  },
  {
   "cell_type": "code",
   "execution_count": 24,
   "id": "1e0c7293",
   "metadata": {},
   "outputs": [],
   "source": [
    "\n",
    "df = pd.DataFrame(datos) # convertir el diccionario en DataFrame\n",
    " "
   ]
  },
  {
   "cell_type": "code",
   "execution_count": 25,
   "id": "0376df81",
   "metadata": {},
   "outputs": [
    {
     "data": {
      "application/vnd.microsoft.datawrangler.viewer.v0+json": {
       "columns": [
        {
         "name": "index",
         "rawType": "int64",
         "type": "integer"
        },
        {
         "name": "Empresa",
         "rawType": "object",
         "type": "string"
        },
        {
         "name": "Ingresos",
         "rawType": "int64",
         "type": "integer"
        },
        {
         "name": "Costos",
         "rawType": "int64",
         "type": "integer"
        }
       ],
       "ref": "3bd8c8ad-e73b-46c2-abe4-b5ceb5416b21",
       "rows": [
        [
         "0",
         "A",
         "5000000",
         "3000000"
        ],
        [
         "1",
         "B",
         "6500000",
         "4000000"
        ],
        [
         "2",
         "C",
         "4800000",
         "3200000"
        ]
       ],
       "shape": {
        "columns": 3,
        "rows": 3
       }
      },
      "text/html": [
       "<div>\n",
       "<style scoped>\n",
       "    .dataframe tbody tr th:only-of-type {\n",
       "        vertical-align: middle;\n",
       "    }\n",
       "\n",
       "    .dataframe tbody tr th {\n",
       "        vertical-align: top;\n",
       "    }\n",
       "\n",
       "    .dataframe thead th {\n",
       "        text-align: right;\n",
       "    }\n",
       "</style>\n",
       "<table border=\"1\" class=\"dataframe\">\n",
       "  <thead>\n",
       "    <tr style=\"text-align: right;\">\n",
       "      <th></th>\n",
       "      <th>Empresa</th>\n",
       "      <th>Ingresos</th>\n",
       "      <th>Costos</th>\n",
       "    </tr>\n",
       "  </thead>\n",
       "  <tbody>\n",
       "    <tr>\n",
       "      <th>0</th>\n",
       "      <td>A</td>\n",
       "      <td>5000000</td>\n",
       "      <td>3000000</td>\n",
       "    </tr>\n",
       "    <tr>\n",
       "      <th>1</th>\n",
       "      <td>B</td>\n",
       "      <td>6500000</td>\n",
       "      <td>4000000</td>\n",
       "    </tr>\n",
       "    <tr>\n",
       "      <th>2</th>\n",
       "      <td>C</td>\n",
       "      <td>4800000</td>\n",
       "      <td>3200000</td>\n",
       "    </tr>\n",
       "  </tbody>\n",
       "</table>\n",
       "</div>"
      ],
      "text/plain": [
       "  Empresa  Ingresos   Costos\n",
       "0       A   5000000  3000000\n",
       "1       B   6500000  4000000\n",
       "2       C   4800000  3200000"
      ]
     },
     "execution_count": 25,
     "metadata": {},
     "output_type": "execute_result"
    }
   ],
   "source": [
    "df"
   ]
  },
  {
   "cell_type": "code",
   "execution_count": 30,
   "id": "0d872464",
   "metadata": {},
   "outputs": [
    {
     "data": {
      "text/plain": [
       "np.int64(3000000)"
      ]
     },
     "execution_count": 30,
     "metadata": {},
     "output_type": "execute_result"
    }
   ],
   "source": [
    "df.Costos[0]"
   ]
  },
  {
   "cell_type": "code",
   "execution_count": 31,
   "id": "6709f4ab",
   "metadata": {},
   "outputs": [
    {
     "data": {
      "application/vnd.microsoft.datawrangler.viewer.v0+json": {
       "columns": [
        {
         "name": "index",
         "rawType": "int64",
         "type": "integer"
        },
        {
         "name": "Empresa",
         "rawType": "object",
         "type": "string"
        },
        {
         "name": "Ingresos",
         "rawType": "int64",
         "type": "integer"
        },
        {
         "name": "Costos",
         "rawType": "int64",
         "type": "integer"
        },
        {
         "name": "Utilidad",
         "rawType": "int64",
         "type": "integer"
        }
       ],
       "ref": "50d4de95-6b7e-4dd5-bfdf-ffdcdd816153",
       "rows": [
        [
         "0",
         "A",
         "5000000",
         "3000000",
         "2000000"
        ],
        [
         "1",
         "B",
         "6500000",
         "4000000",
         "2500000"
        ],
        [
         "2",
         "C",
         "4800000",
         "3200000",
         "1600000"
        ]
       ],
       "shape": {
        "columns": 4,
        "rows": 3
       }
      },
      "text/html": [
       "<div>\n",
       "<style scoped>\n",
       "    .dataframe tbody tr th:only-of-type {\n",
       "        vertical-align: middle;\n",
       "    }\n",
       "\n",
       "    .dataframe tbody tr th {\n",
       "        vertical-align: top;\n",
       "    }\n",
       "\n",
       "    .dataframe thead th {\n",
       "        text-align: right;\n",
       "    }\n",
       "</style>\n",
       "<table border=\"1\" class=\"dataframe\">\n",
       "  <thead>\n",
       "    <tr style=\"text-align: right;\">\n",
       "      <th></th>\n",
       "      <th>Empresa</th>\n",
       "      <th>Ingresos</th>\n",
       "      <th>Costos</th>\n",
       "      <th>Utilidad</th>\n",
       "    </tr>\n",
       "  </thead>\n",
       "  <tbody>\n",
       "    <tr>\n",
       "      <th>0</th>\n",
       "      <td>A</td>\n",
       "      <td>5000000</td>\n",
       "      <td>3000000</td>\n",
       "      <td>2000000</td>\n",
       "    </tr>\n",
       "    <tr>\n",
       "      <th>1</th>\n",
       "      <td>B</td>\n",
       "      <td>6500000</td>\n",
       "      <td>4000000</td>\n",
       "      <td>2500000</td>\n",
       "    </tr>\n",
       "    <tr>\n",
       "      <th>2</th>\n",
       "      <td>C</td>\n",
       "      <td>4800000</td>\n",
       "      <td>3200000</td>\n",
       "      <td>1600000</td>\n",
       "    </tr>\n",
       "  </tbody>\n",
       "</table>\n",
       "</div>"
      ],
      "text/plain": [
       "  Empresa  Ingresos   Costos  Utilidad\n",
       "0       A   5000000  3000000   2000000\n",
       "1       B   6500000  4000000   2500000\n",
       "2       C   4800000  3200000   1600000"
      ]
     },
     "execution_count": 31,
     "metadata": {},
     "output_type": "execute_result"
    }
   ],
   "source": [
    "df[\"Utilidad\"] = df[\"Ingresos\"] - df[\"Costos\"]\n",
    "df\n",
    "\n"
   ]
  },
  {
   "cell_type": "markdown",
   "id": "2510dd60",
   "metadata": {},
   "source": [
    "* **Preguntas guía**:\n",
    "\n",
    "  1. ¿Cuál empresa obtuvo mayor utilidad?\n",
    "  2. ¿Qué operaciones básicas de DataFrames facilitan el análisis empresarial?\n",
    "  3. ¿Cómo se podría extender este análisis a 12 meses?\n",
    "\n",
    "---\n"
   ]
  },
  {
   "cell_type": "markdown",
   "id": "aa7982a6",
   "metadata": {},
   "source": [
    "\n",
    "## 🔍 Producto esperado\n",
    "\n",
    "* Un cuaderno Jupyter con el desarrollo de las tres actividades.\n",
    "* Un breve informe (máx. 1 página) respondiendo a las preguntas guía y reflexionando sobre:\n",
    "\n",
    "  * **¿Cómo apoyan estas estructuras de datos a la toma de decisiones en administración de empresas?**\n",
    "\n",
    "---\n"
   ]
  },
  {
   "cell_type": "markdown",
   "id": "b978b53f",
   "metadata": {},
   "source": [
    "\n",
    "## 📊 Evaluación (rúbrica simplificada)\n",
    "\n",
    "* **Reconocimiento de estructuras de datos** (30%).\n",
    "* **Aplicación en ejemplos de microeconomía** (40%).\n",
    "* **Interpretación y análisis económico** (20%).\n",
    "* **Trabajo en equipo y comunicación** (10%).\n",
    "\n",
    "---\n"
   ]
  },
  {
   "cell_type": "markdown",
   "id": "a1988946",
   "metadata": {},
   "source": [
    "# Secuencia de Tareas y Actividades de Trabajo Independiente\n",
    "\n",
    "Ahora te diseño una **secuencia de tareas y actividades de trabajo independiente** para los estudiantes de **Administración de Empresas (G-Líderes)**, posterior al taller que trabajamos sobre **estructuras de datos no incorporadas (ndarray, Series y DataFrames con NumPy y Pandas)**.\n"
   ]
  },
  {
   "cell_type": "markdown",
   "id": "d32caa93",
   "metadata": {},
   "source": [
    "\n",
    "El enfoque será que **fijen los conceptos básicos** en **microeconomía** y los conecten con un **primer vistazo a aplicaciones de deep learning para predicción** en administración de empresas.\n",
    "\n",
    "---\n"
   ]
  },
  {
   "cell_type": "markdown",
   "id": "f227f326",
   "metadata": {},
   "source": [
    "\n",
    "# Tareas y Actividades de Trabajo Independiente\n",
    "\n",
    "## Tema: *Estructuras de datos en Python (NumPy y Pandas) y su aplicación en microeconomía y predicción con deep learning*\n",
    "\n",
    "---\n"
   ]
  },
  {
   "cell_type": "markdown",
   "id": "0d5b0f1f",
   "metadata": {},
   "source": [
    "\n",
    "## Objetivos del trabajo independiente\n",
    "\n",
    "1. Consolidar el manejo de **nd-arrays, Series y DataFrames** en Python.\n",
    "2. Aplicar estas estructuras a situaciones de **microeconomía empresarial**: costos, ingresos, demanda y oferta.\n",
    "3. Explorar un primer contacto con **modelos de predicción** basados en deep learning aplicados a la administración de empresas.\n",
    "4. Desarrollar autonomía en la organización, análisis e interpretación de datos.\n",
    "\n",
    "---\n"
   ]
  },
  {
   "cell_type": "markdown",
   "id": "076d88f4",
   "metadata": {},
   "source": [
    "\n",
    "## Actividades\n",
    "\n",
    "### 🔹 **Tarea 1: Práctica con nd-arrays (Elasticidad-precio de la demanda)**\n",
    "\n",
    "* Crear un `ndarray` con los precios de un producto y otro con las cantidades demandadas.\n",
    "* Calcular la **elasticidad-precio de la demanda** usando la fórmula:\n",
    "\n",
    "$$\n",
    "E_p = \\frac{\\Delta Q / Q}{\\Delta P / P}\n",
    "$$\n"
   ]
  },
  {
   "cell_type": "markdown",
   "id": "3f53865a",
   "metadata": {},
   "source": [
    "Esta es una **guía didáctica** bien estructurada para la **Tarea 1: Práctica con nd-arrays (Elasticidad-precio de la demanda)**, con explicaciones paso a paso, ejemplos en Python con **NumPy**, interpretación económica y preguntas de reflexión para tus estudiantes de Administración de Empresas.\n",
    "\n",
    "---\n"
   ]
  },
  {
   "cell_type": "markdown",
   "id": "931eaeef",
   "metadata": {},
   "source": [
    "\n",
    "#  Guía Didáctica\n",
    "\n",
    "## Tarea 1: Práctica con `nd-arrays` (Elasticidad-precio de la demanda)\n",
    "\n",
    "---\n"
   ]
  },
  {
   "cell_type": "markdown",
   "id": "2b63ae4b",
   "metadata": {},
   "source": [
    "\n",
    "### 🎯 Objetivo\n",
    "\n",
    "Que los estudiantes aprendan a:\n",
    "\n",
    "1. Representar datos de precios y cantidades demandadas usando `ndarray` de NumPy.\n",
    "2. Calcular la **elasticidad-precio de la demanda (Eₚ)** de un bien.\n",
    "3. Interpretar los resultados en un contexto de **microeconomía aplicada a la administración de empresas**.\n",
    "\n",
    "---\n"
   ]
  },
  {
   "cell_type": "markdown",
   "id": "c8eb3642",
   "metadata": {},
   "source": [
    "\n",
    "### 🧩 Contexto\n",
    "\n",
    "En microeconomía, la **elasticidad-precio de la demanda** mide cómo reacciona la cantidad demandada de un bien ante cambios en su precio.\n",
    "\n",
    "$$\n",
    "E_p = \\frac{\\Delta Q / Q}{\\Delta P / P}\n",
    "$$\n",
    "\n",
    "* Si $E_p > 1$: demanda **elástica** (sensible al precio).\n",
    "* Si $E_p < 1$: demanda **inelástica** (poco sensible al precio).\n",
    "* Si $E_p = 1$: demanda **unitaria**.\n",
    "\n",
    "---\n"
   ]
  },
  {
   "cell_type": "markdown",
   "id": "8f8ef998",
   "metadata": {},
   "source": [
    "\n",
    "### 🛠️ Paso 1: Representar los datos en `ndarrays`\n",
    "\n",
    "Supongamos que tenemos los siguientes precios y cantidades de un producto:\n",
    "\n",
    "| Precio (P) | Cantidad demandada (Q) |\n",
    "| ---------- | ---------------------- |\n",
    "| 1000       | 500                    |\n",
    "| 2000       | 400                    |\n",
    "| 3000       | 300                    |\n",
    "| 4000       | 200                    |\n",
    "| 5000       | 100                    |\n",
    "\n",
    "En Python:\n"
   ]
  },
  {
   "cell_type": "markdown",
   "id": "9fe51763",
   "metadata": {},
   "source": [
    "import numpy as np\n",
    "\n",
    "# Precios y cantidades\n",
    "precios = np.array([1000, 2000, 3000, 4000, 5000])\n",
    "cantidades = np.array([500, 400, 300, 200, 100])\n",
    "\n"
   ]
  },
  {
   "cell_type": "markdown",
   "id": "29f3a39e",
   "metadata": {},
   "source": [
    "\n",
    "---\n",
    "\n",
    "### 🛠️ Paso 2: Calcular cambios relativos ΔQ/Q y ΔP/P\n",
    "\n",
    "Para calcular la elasticidad entre cada par de precios consecutivos:\n"
   ]
  },
  {
   "cell_type": "markdown",
   "id": "6778d4d5",
   "metadata": {},
   "source": [
    "\n",
    "```python\n",
    "# Diferencias entre valores consecutivos\n",
    "delta_p = np.diff(precios)\n",
    "delta_q = np.diff(cantidades)\n",
    "\n",
    "# Promedios de P y Q (usados para el cálculo de elasticidad arco)\n",
    "p_prom = (precios[:-1] + precios[1:]) / 2\n",
    "q_prom = (cantidades[:-1] + cantidades[1:]) / 2\n",
    "\n",
    "# Cambios relativos\n",
    "delta_p_rel = delta_p / p_prom\n",
    "delta_q_rel = delta_q / q_prom\n",
    "\n"
   ]
  },
  {
   "cell_type": "markdown",
   "id": "129315de",
   "metadata": {},
   "source": [
    "\n",
    "---\n",
    "\n",
    "### 🛠️ Paso 3: Calcular la elasticidad-precio\n"
   ]
  },
  {
   "cell_type": "code",
   "execution_count": null,
   "id": "81ad3f41",
   "metadata": {},
   "outputs": [],
   "source": [
    "\n",
    "# Elasticidad-precio de la demanda\n",
    "elasticidad = delta_q_rel / delta_p_rel\n",
    "print(\"Elasticidades-precio:\", elasticidad)\n",
    "\n"
   ]
  },
  {
   "cell_type": "markdown",
   "id": "9177a1d5",
   "metadata": {},
   "source": [
    "\n",
    "**Salida esperada (aproximada):**\n",
    "\n",
    "```\n",
    "Elasticidades-precio: [-1.11 -1.11 -1.11 -1.11]\n",
    "```\n",
    "\n",
    "---\n",
    "\n",
    "### 📊 Interpretación económica\n",
    "\n",
    "* El valor de la elasticidad es cercano a **-1.11** en cada intervalo.\n",
    "* El signo negativo refleja la relación inversa entre precio y cantidad demandada (Ley de la Demanda).\n",
    "* En términos absolutos:\n",
    "\n",
    "  * $|E_p| = 1.11 > 1$ → la demanda es **elástica**.\n",
    "  * Esto significa que **una variación porcentual en el precio genera una variación mayor en la cantidad demandada**.\n",
    "\n",
    "**Implicación empresarial:**\n",
    "\n",
    "* Si la empresa sube el precio, perderá más de lo que gana: sus ingresos totales bajarán.\n",
    "* Si baja el precio, venderá mucho más y sus ingresos totales aumentarán.\n",
    "\n",
    "---\n"
   ]
  },
  {
   "cell_type": "markdown",
   "id": "2966cb68",
   "metadata": {},
   "source": [
    "\n",
    "### Actividades de consolidación\n",
    "\n",
    "1. Repite el ejercicio con otros datos de precios y cantidades.\n",
    "2. Interpreta si la demanda de tu ejemplo es elástica, inelástica o unitaria.\n",
    "3. Responde:\n",
    "\n",
    "   * ¿Qué estrategia de precios le conviene a la empresa si la demanda es elástica?\n",
    "   * ¿Y si fuera inelástica?\n",
    "\n",
    "---\n"
   ]
  },
  {
   "cell_type": "markdown",
   "id": "d587c0f2",
   "metadata": {},
   "source": [
    "\n",
    "### Conclusión\n",
    "\n",
    "Con NumPy y `ndarrays`, los estudiantes pueden:\n",
    "\n",
    "* Manejar datos de precios y cantidades de forma eficiente.\n",
    "* Calcular elasticidades automáticamente.\n",
    "* Conectar conceptos de **microeconomía** con herramientas de **ciencia de datos**.\n",
    "\n",
    "---\n"
   ]
  },
  {
   "cell_type": "markdown",
   "id": "e1897f99",
   "metadata": {},
   "source": [
    "\n",
    "* Responder:\n",
    "\n",
    "  1. ¿La demanda es elástica, inelástica o unitaria?\n",
    "  2. ¿Qué implicaciones tiene para la estrategia de precios de la empresa?\n",
    "\n",
    "---\n"
   ]
  },
  {
   "cell_type": "markdown",
   "id": "24fa259a",
   "metadata": {},
   "source": [
    "\n",
    "### 🔹 **Tarea 2: Series en Pandas (Costos fijos y variables)**\n",
    "\n",
    "* Construir una `Series` con los **costos fijos** de un microemprendimiento (arriendo, servicios, salarios).\n",
    "* Otra `Series` con los **costos variables** según la cantidad producida.\n",
    "* Calcular el **costo total medio (CTMe)** y el **costo marginal (CMg)**.\n",
    "* Reflexión: ¿cómo ayuda esta información a decidir cuánto producir?\n",
    "\n",
    "---\n"
   ]
  },
  {
   "cell_type": "markdown",
   "id": "2a7951c2",
   "metadata": {},
   "source": [
    "\n",
    "### 🔹 **Tarea 3: DataFrames en Pandas (Comparación de utilidades)**\n",
    "\n",
    "* Crear un `DataFrame` con los ingresos y costos mensuales de **tres microempresas** durante 6 meses.\n",
    "* Agregar la columna de **utilidad mensual**.\n",
    "* Graficar las utilidades en un diagrama de líneas y responder:\n",
    "\n",
    "  1. ¿Cuál empresa tiene un crecimiento más estable?\n",
    "  2. ¿Cuál muestra mayor riesgo de pérdidas?\n",
    "\n",
    "---\n"
   ]
  },
  {
   "cell_type": "markdown",
   "id": "4c80f3f2",
   "metadata": {},
   "source": [
    "\n",
    "### 🔹 **Tarea 4: Introducción al Deep Learning (Predicción de ventas)**\n",
    "\n",
    "* Usar **Pandas** para cargar un dataset sencillo de ventas mensuales (puede ser inventado por el estudiante, p. ej. 24 meses).\n",
    "* Dividir los datos en entrenamiento y prueba.\n",
    "* Con **TensorFlow/Keras** construir un modelo muy básico de red neuronal para predecir la venta del mes siguiente.\n"
   ]
  },
  {
   "cell_type": "markdown",
   "id": "dbd24c70",
   "metadata": {},
   "source": [
    "\n",
    "Ejemplo guía:\n",
    "\n",
    "\n"
   ]
  },
  {
   "cell_type": "code",
   "execution_count": 10,
   "id": "a18eac83",
   "metadata": {},
   "outputs": [
    {
     "ename": "ModuleNotFoundError",
     "evalue": "No module named 'tensorflow'",
     "output_type": "error",
     "traceback": [
      "\u001b[31m---------------------------------------------------------------------------\u001b[39m",
      "\u001b[31mModuleNotFoundError\u001b[39m                       Traceback (most recent call last)",
      "\u001b[36mCell\u001b[39m\u001b[36m \u001b[39m\u001b[32mIn[10]\u001b[39m\u001b[32m, line 3\u001b[39m\n\u001b[32m      1\u001b[39m \u001b[38;5;28;01mimport\u001b[39;00m\u001b[38;5;250m \u001b[39m\u001b[34;01mpandas\u001b[39;00m\u001b[38;5;250m \u001b[39m\u001b[38;5;28;01mas\u001b[39;00m\u001b[38;5;250m \u001b[39m\u001b[34;01mpd\u001b[39;00m\n\u001b[32m      2\u001b[39m \u001b[38;5;28;01mimport\u001b[39;00m\u001b[38;5;250m \u001b[39m\u001b[34;01mnumpy\u001b[39;00m\u001b[38;5;250m \u001b[39m\u001b[38;5;28;01mas\u001b[39;00m\u001b[38;5;250m \u001b[39m\u001b[34;01mnp\u001b[39;00m\n\u001b[32m----> \u001b[39m\u001b[32m3\u001b[39m \u001b[38;5;28;01mfrom\u001b[39;00m\u001b[38;5;250m \u001b[39m\u001b[34;01mtensorflow\u001b[39;00m\u001b[38;5;250m \u001b[39m\u001b[38;5;28;01mimport\u001b[39;00m keras\n\u001b[32m      4\u001b[39m \u001b[38;5;28;01mfrom\u001b[39;00m\u001b[38;5;250m \u001b[39m\u001b[34;01mtensorflow\u001b[39;00m\u001b[34;01m.\u001b[39;00m\u001b[34;01mkeras\u001b[39;00m\u001b[38;5;250m \u001b[39m\u001b[38;5;28;01mimport\u001b[39;00m layers\n\u001b[32m      6\u001b[39m \u001b[38;5;66;03m# Datos ficticios\u001b[39;00m\n",
      "\u001b[31mModuleNotFoundError\u001b[39m: No module named 'tensorflow'"
     ]
    }
   ],
   "source": [
    "import pandas as pd\n",
    "import numpy as np\n",
    "from tensorflow import keras\n",
    "from tensorflow.keras import layers\n",
    "\n",
    "# Datos ficticios\n",
    "ventas = pd.Series([100, 120, 130, 150, 170, 180, 200, 210, 230, 250, 260, 280])\n",
    "\n",
    "# Preparación de datos\n",
    "X = np.array(range(len(ventas))).reshape(-1, 1)\n",
    "y = ventas.values\n",
    "\n",
    "# Modelo simple\n",
    "model = keras.Sequential([\n",
    "    layers.Dense(8, activation='relu', input_shape=(1,)),\n",
    "    layers.Dense(1)\n",
    "])\n",
    "\n",
    "model.compile(optimizer='adam', loss='mse')\n",
    "model.fit(X, y, epochs=100, verbose=0)\n",
    "\n",
    "print(\"Predicción del siguiente mes:\", model.predict([[len(ventas)]]))\n",
    "\n"
   ]
  },
  {
   "cell_type": "markdown",
   "id": "6a44ebb8",
   "metadata": {},
   "source": [
    "\n",
    "* Preguntas de reflexión:\n",
    "\n",
    "  1. ¿Qué tan bien predice el modelo los datos?\n",
    "  2. ¿Qué decisiones empresariales podría apoyar esta predicción?\n",
    "\n",
    "---\n"
   ]
  },
  {
   "cell_type": "markdown",
   "id": "8729e7a9",
   "metadata": {},
   "source": [
    "\n",
    "## Producto esperado\n",
    "\n",
    "* Un cuaderno Jupyter con el desarrollo de las cuatro tareas.\n",
    "* Un breve informe (1-2 páginas) con:\n",
    "\n",
    "  * Resultados de los cálculos.\n",
    "  * Interpretaciones económicas.\n",
    "  * Reflexión sobre cómo la **programación y el deep learning** pueden ayudar a los administradores en la toma de decisiones.\n",
    "\n",
    "---\n"
   ]
  },
  {
   "cell_type": "markdown",
   "id": "6d9a683b",
   "metadata": {},
   "source": [
    "\n",
    "## Evaluación\n",
    "\n",
    "* **Correcta implementación de estructuras de datos en Python** (30%).\n",
    "* **Aplicación a problemas de microeconomía** (30%).\n",
    "* **Primer acercamiento a predicción con deep learning** (30%).\n",
    "* **Claridad y reflexión en el informe** (10%).\n",
    "\n",
    "---\n"
   ]
  },
  {
   "cell_type": "code",
   "execution_count": null,
   "id": "a4ff6466",
   "metadata": {},
   "outputs": [],
   "source": []
  },
  {
   "cell_type": "code",
   "execution_count": null,
   "id": "c3a08c26",
   "metadata": {},
   "outputs": [],
   "source": []
  },
  {
   "cell_type": "code",
   "execution_count": null,
   "id": "a261b22e",
   "metadata": {},
   "outputs": [],
   "source": []
  },
  {
   "cell_type": "markdown",
   "id": "3cac948a",
   "metadata": {},
   "source": [
    "La **lectura interactiva y experimental** de los cuadernos Jupyter diseñados para el curso de **Fundamentos de Lógica** implica un enfoque dinámico y práctico para el aprendizaje, donde los estudiantes no solo consumen información teórica, sino que también interactúan con el contenido, modifican ejemplos, ejecutan código y experimentan con los conceptos lógicos en un entorno computacional. A continuación, se detallan las características clave de este enfoque:\n",
    "\n",
    "---\n"
   ]
  },
  {
   "cell_type": "markdown",
   "id": "bab6c6f9",
   "metadata": {},
   "source": [
    "\n",
    "### **1. Lectura Interactiva**  \n",
    "- **Manipulación directa del contenido**: Los estudiantes pueden ejecutar celdas de código, modificar fórmulas lógicas o ejemplos, y observar cómo cambian los resultados en tiempo real.  \n",
    "- **Visualización interactiva**: Uso de gráficos, diagramas (como árboles semánticos o tablas de verdad) o herramientas que respondan a entradas del usuario para ilustrar conceptos como validez, consistencia o inferencia.  \n",
    "- **Retroalimentación inmediata**: Los cuadernos pueden incluir ejercicios con autoevaluación (ejecutando código que verifica soluciones) o explicaciones emergentes al resolver problemas.  \n",
    "\n",
    "---\n"
   ]
  },
  {
   "cell_type": "markdown",
   "id": "05442fd7",
   "metadata": {},
   "source": [
    "\n",
    "### **2. Lectura Experimental**  \n",
    "- **Aprendizaje basado en prueba y error**: Los estudiantes pueden \"jugar\" con estructuras lógicas (por ejemplo, modificar conectores en una fórmula proposicional y ver cómo afecta su tabla de verdad).  \n",
    "- **Simulación de escenarios**: Por ejemplo, modelar argumentos en lógica de primer orden y evaluar su corrección mediante ejecución de código (usando librerías como `sympy` o herramientas ad-hoc).  \n",
    "- **Exploración guiada y abierta**: Se incluyen secciones con consignas del tipo *\"¿Qué pasa si cambias este axioma?\"* o *\"Intenta construir un contraejemplo\"* para fomentar la curiosidad.  \n",
    "\n",
    "---\n"
   ]
  },
  {
   "cell_type": "markdown",
   "id": "374a8ea9",
   "metadata": {},
   "source": [
    "\n",
    "### **3. Componentes clave de los cuadernos**  \n",
    "- **Fragmentos de código ejecutable**: Para evaluar expresiones lógicas, automatizar pruebas o implementar algoritmos (ej: verificación de tautologías).  \n",
    "- **Celdas con texto teórico y preguntas reflexivas**: Integradas con ejemplos prácticos que requieren intervención activa (ej: *\"Define aquí tu propia fórmula y comprueba si es satisfacible\"*).  \n",
    "- **Enlaces a recursos externos**: Como demostradores en línea o lecturas complementarias para profundizar.  \n",
    "\n",
    "---\n"
   ]
  },
  {
   "cell_type": "markdown",
   "id": "c750af8a",
   "metadata": {},
   "source": [
    "\n",
    "### **4. Beneficios pedagógicos**  \n",
    "- **Enganche activo**: Combina teoría y práctica sin salir del entorno digital.  \n",
    "- **Personalización**: Los estudiantes pueden ajustar el ritmo y profundidad de su aprendizaje.  \n",
    "- **Preparación para aplicaciones reales**: Familiariza a los estudiantes con herramientas usadas en investigación (ej: Python para lógica simbólica).  \n",
    "\n",
    "---\n"
   ]
  },
  {
   "cell_type": "markdown",
   "id": "0602e6ee",
   "metadata": {},
   "source": [
    "\n",
    "### **Ejemplo concreto**  \n",
    "Un cuaderno podría incluir:  \n",
    "1. Una explicación de *modus ponens* con una fórmula predefinida (`p → q`, `p`, luego `q`).  \n",
    "2. Una celda interactiva donde el estudiante modifique `p` o `q` y observe cómo falla la regla si las premisas cambian.  \n",
    "3. Un ejercicio para programar un verificador de *modus ponens* usando diccionarios de Python.  \n"
   ]
  },
  {
   "cell_type": "markdown",
   "id": "70e1a505",
   "metadata": {},
   "source": [
    "\n",
    "Este enfoque transforma la lógica (a menudo abstracta) en una experiencia tangible y adaptable."
   ]
  },
  {
   "cell_type": "markdown",
   "id": "8396c0ed",
   "metadata": {},
   "source": [
    "# Presentación de la estructura de la clase  "
   ]
  },
  {
   "cell_type": "markdown",
   "id": "36bc2964",
   "metadata": {},
   "source": [
    "# Desarrollo de habilidades Metacognitivas en enseñanza con metodología IAE \n"
   ]
  },
  {
   "cell_type": "markdown",
   "id": "9c5cb582",
   "metadata": {},
   "source": [
    "\n",
    "Desarrollar habilidades metacognitivas en los estudiantes dentro de una **Investigación Acción Educativa (IAE)** implica un proceso cíclico de reflexión, acción y evaluación. Aquí te propongo una estrategia estructurada en fases, alineada con la IAE, para fomentar la metacognición:\n",
    "\n",
    "---\n"
   ]
  },
  {
   "cell_type": "markdown",
   "id": "42be70b3",
   "metadata": {},
   "source": [
    "\n",
    "### **1. Diagnóstico Inicial (Fase de Observación)**  \n",
    "- **Identifica el nivel metacognitivo actual**:  \n",
    "  - Realiza cuestionarios, entrevistas o actividades reflexivas (ej.: \"¿Cómo estudiaste para el último examen? ¿Qué te funcionó o no?\").  \n",
    "  - Observa si los estudiantes pueden explicar sus procesos de aprendizaje o identificar dificultades.  \n",
    "\n",
    "- **Registra evidencias**: Anota cómo los estudiantes planifican, monitorean y evalúan sus tareas (ej.: diarios de aprendizaje, grabaciones de debates).  \n",
    "\n",
    "---\n"
   ]
  },
  {
   "cell_type": "markdown",
   "id": "e252e7b1",
   "metadata": {},
   "source": [
    "\n",
    "### **2. Diseño de Intervenciones (Fase de Planificación)**"
   ]
  },
  {
   "cell_type": "markdown",
   "id": "4b036a02",
   "metadata": {},
   "source": [
    "  \n",
    "**a. Enseñanza explícita de estrategias metacognitivas**:  \n",
    "  - **Modelado**: Muestra cómo *tú* piensas al resolver un problema (\"Pensamiento en voz alta\"). Ejemplo:  \n",
    "    *\"Primero, voy a leer el objetivo de la clase. Luego, revisaré si entiendo los conceptos clave...\"*.  \n",
    "  - **Listas de verificación (checklists)**: Proporciona guías para autoevaluarse (ej.: \"¿Puedo explicar este tema con mis propias palabras?\").  \n"
   ]
  },
  {
   "cell_type": "markdown",
   "id": "1ba3c6a5",
   "metadata": {},
   "source": [
    "\n",
    "**b. Herramientas para la autorregulación**:  \n",
    "  - **Diarios de aprendizaje**: Pide que registren:  \n",
    "    - *\"¿Qué aprendí hoy?\"* (conocimiento).  \n",
    "    - *\"¿Cómo lo aprendí?\"* (proceso).  \n",
    "    - *\"¿Qué me falta por entender?\"* (brechas).  \n",
    "  - **Rúbricas de autoevaluación**: Incluye criterios como: *\"Puedo resolver ejercicios sin ayuda\"* o *\"Sé dónde buscar información confiable\"*.  \n",
    "\n",
    "**c. Espacios de reflexión colaborativa**:  \n",
    "  - **Debates metacognitivos**: En grupos, discuten: *\"¿Qué estrategia usamos? ¿Funcionó? ¿Por qué?\"*.  \n",
    "  - **Peer feedback**: Intercambian comentarios sobre sus procesos (ej.: \"Tú organizaste bien tus ideas, pero podrías revisar las fuentes\").  \n",
    "\n",
    "---\n"
   ]
  },
  {
   "cell_type": "markdown",
   "id": "0ed547ca",
   "metadata": {},
   "source": [
    "\n",
    "### **3. Implementación (Fase de Acción)**  \n",
    "- **Integra la metacognición en las actividades cotidianas**:  \n",
    "  - Antes de una tarea: *\"¿Qué sabes ya sobre este tema? ¿Cómo planeas abordarlo?\"*.  \n",
    "  - Durante la tarea: *\"¿Estás siguiendo tu plan? ¿Necesitas ajustarlo?\"*.  \n",
    "  - Después: *\"¿Lograste el objetivo? ¿Qué cambiarías la próxima vez?\"*.  \n",
    "- **Usa preguntas clave**:  \n",
    "  - *\"¿Qué parte fue más difícil? ¿Por qué?\"* (identificación de obstáculos).  \n",
    "  - *\"Si tuvieras que enseñarle esto a un compañero, ¿cómo lo harías?\"* (transferencia).  \n",
    "\n",
    "---\n",
    "\n",
    "### **4. Evaluación y Reflexión (Fase de Observación/Reflexión)**  \n",
    "- **Analiza el impacto**: Compara evidencias pre y post intervención (ej.: diarios, desempeño en tareas).  \n",
    "- **Reflexión grupal**: Realiza una sesión donde los estudiantes compartan:  \n",
    "  - *\"¿Qué estrategias metacognitivas les ayudaron más?\"*.  \n",
    "  - *\"¿Cómo se sintieron al gestionar su aprendizaje?\"*.  \n",
    "- **Ajusta la intervención**: Si notas que persisten dificultades, propón nuevas herramientas (ej.: mapas conceptuales para organizar ideas).  \n",
    "\n",
    "---\n",
    "\n",
    "### **5. Iteración (Ciclo de IAE)**  \n",
    "Repite el ciclo con ajustes basados en los hallazgos. Por ejemplo:  \n",
    "- Si los estudiantes no identifican errores, introduce actividades de *análisis de errores* (\"¿Por qué te equivocaste? ¿Cómo corregirlo?\").  \n",
    "- Si les cuesta planificar, usa herramientas visuales como *diagramas de flujo* para secuenciar pasos.  \n",
    "\n",
    "---\n",
    "\n",
    "### **Ejemplo Práctico**  \n",
    "**Situación**: Estudiantes no revisan sus errores en matemáticas.  \n",
    "- **Intervención**:  \n",
    "  1. **Modelado**: Resuelves un problema cometiendo un error adrede y muestras cómo detectarlo.  \n",
    "  2. **Checklist**: \"¿Revisé cada paso? ¿Mi respuesta tiene sentido?\".  \n",
    "  3. **Diario**: \"Hoy cometí un error en... Lo corregí cambiando...\".  \n",
    "\n",
    "---\n",
    "\n",
    "### **Claves para el Éxito**  \n",
    "- **Consistencia**: Integra la metacognición en todas las clases, no como actividad aislada.  \n",
    "- **Andamiaje**: Reduce gradualmente la guía del docente a medida que los estudiantes ganan autonomía.  \n",
    "- **Cultura de error**: Normaliza los errores como parte del aprendizaje (\"¿Qué podemos aprender de esto?\").  \n",
    "\n",
    "La metacognición no solo mejora el logro académico, sino que empodera a los estudiantes para ser aprendices autónomos y resilientes. En la IAE, este proceso se enriquece al ser colaborativo (docente-estudiantes) y basado en evidencia concreta.  \n",
    "\n",
    "¿Te gustaría profundizar en alguna herramienta específica o ajustar la estrategia a un nivel educativo en particular?"
   ]
  },
  {
   "cell_type": "markdown",
   "id": "239427f7",
   "metadata": {},
   "source": [
    "# Calendario Académico Semestre 2025-2  \n",
    "\n",
    "\n",
    "\n",
    "\n"
   ]
  },
  {
   "cell_type": "code",
   "execution_count": null,
   "id": "c804f8d3",
   "metadata": {},
   "outputs": [],
   "source": []
  },
  {
   "cell_type": "code",
   "execution_count": null,
   "id": "cc539357",
   "metadata": {},
   "outputs": [],
   "source": []
  },
  {
   "cell_type": "markdown",
   "id": "8ba64aed",
   "metadata": {},
   "source": [
    "# Cursos que orienta el profesor Marco Julio Cañas Campillo en 2025  \n",
    "\n",
    "1. Cálculo Vectorial para Ingeniería Agropecuaria\n",
    "2. Análisis Numérico para Licenciatura en Matemáticas. \n",
    "3. Práctica Pedagógica V para Licenciatura en Educación Infantil\n",
    "4. Fundamentos de Lógica para Licenciatura en Matemáticas \n"
   ]
  },
  {
   "cell_type": "markdown",
   "id": "8d41fe58",
   "metadata": {
    "slideshow": {
     "slide_type": "slide"
    }
   },
   "source": [
    "# Horario de clases del profesor Marco\n",
    "\n",
    "* Lunes 8-12: Cálculo Vectorial\n",
    "* Martes 8-12 M: Análisis Numérico. \n",
    "* Miércoles 10 a 11 M: Machine Learnig\n",
    "* Miércoles de 3 a 4 de la tarde: ARIMA\n",
    "* Jueves 2 a 6 PM: Práctica Pedagógica V: Desarrollo del pensamiento matemático en   \n",
    "  la infancia. \n",
    "* Viernes 8 - 12 M: Fundamentos de Lógica. \n",
    "* Sábados 8-12 Asesorías y espacio para retroalimentación y apoyo al trabajo independiente  \n",
    "  y desarrollo de habilidades metacognitivas. "
   ]
  },
  {
   "cell_type": "markdown",
   "id": "ae114e14",
   "metadata": {
    "slideshow": {
     "slide_type": "slide"
    }
   },
   "source": [
    "# Coordinador de los cursos de la Facultad de Educación para regiones:    \n",
    "\n",
    "Andrés Vélez: regioneducacion.fedu@udea.edu.co  \n",
    "Coordinador Regiones  \n",
    "Facultad de Educación  \n",
    "Universidad de Antioquia  "
   ]
  },
  {
   "cell_type": "markdown",
   "id": "b1db4b6c",
   "metadata": {
    "slideshow": {
     "slide_type": "slide"
    }
   },
   "source": [
    "## Monitores\n",
    "* Manuel San Juan Serrano: Contactar escribiendo al correo: manuel.serrano1@udea.edu.co\n",
    "* Yeifry Sebastián Uribe: Contactar escribiendo al correo: yeifry.uribe@udea.edu.co"
   ]
  },
  {
   "cell_type": "markdown",
   "id": "10bce0d0",
   "metadata": {
    "slideshow": {
     "slide_type": "slide"
    }
   },
   "source": [
    "## Referentes "
   ]
  },
  {
   "cell_type": "markdown",
   "id": "1db3c468",
   "metadata": {
    "slideshow": {
     "slide_type": "slide"
    }
   },
   "source": [
    "* [Jupyter Book de fundamentos_logica](file:///C:/Users/marco/Documentos/docencia/fundamentos_logica/fundamentos_logica_book/_build/html/index.html)\n",
    "\n",
    "\n",
    "* [Decargue Crocodile Clip aquí](https://crocodileclips.net/descargar-crocodile-clips/)\n",
    "\n",
    "* [Matemáticas discretas Una introducción abierta, 3ª edición](https://discrete.openmathbooks.org/dmoi3.html)  \n",
    "  \n",
    "* [Desarrollo del pensamiento matemático con calculadora Casio ](https://bibliotecadigital.udea.edu.co/entities/publication/17180405-9f1d-4800-aa7c-e6369779cece)\n",
    "\n",
    "* [CALCULO I DE UNA VARIABLE Ron Larson-Bruce Edwards. Mc Graw Hill. 9º Edición](https://www.academia.edu/42139251/CALCULO_I_DE_UNA_VARIABLE_Ron_Larson_Bruce_Edwards_Mc_Graw_Hill_9o_Edici%C3%B3n)   \n",
    "  \n",
    "\n",
    "* [Grajales Vanegas, L. M., Restrepo Estrada, C. E., Restrepo Ochoa, S. I., & Ruíz De Villalba, F. (2015). Matemáticas I para las ciencias económicas.](https://bibliotecadigital.udea.edu.co/handle/10495/3010)\n",
    "  \n",
    "* R. Duval y Semiosis y pensamiento humano, 2.ª ed. Cali, Colombia: Programa Editorial Universidad del Valle, 2017. [En línea]. Disponible en: https://programaeditorial.univalle.edu.co/gpd-semiosis-y-pensamiento-humano-9789587655278-63324cdb0f6b3.html\n",
    "\n",
    "* [Aylwin, C. U. (2011). Lógica, conjuntos y números. Universidad de los Andes, Consejo de Publicaciones, Colección: Ciencias Básicas, Serie: Matemáticas.](chrome-extension://efaidnbmnnnibpcajpcglclefindmkaj/https://www.u-cursos.cl/ciencias/2011/1/MC110/1/material_docente/bajar?id_material=574722)\n",
    "  \n",
    "* [Chollet, F. (2021). Deep learning with Python. Simon and Schuster.](chrome-extension://efaidnbmnnnibpcajpcglclefindmkaj/https://tanthiamhuat.wordpress.com/wp-content/uploads/2018/03/deeplearningwithpython.pdf)  \n",
    "  \n",
    "* [Watson, S., Stewart, J., & Redlin, L. (2009). Precálculo. Matemáticas para el cálculo.](chrome-extension://efaidnbmnnnibpcajpcglclefindmkaj/https://students.aiu.edu/submissions/profiles/resources/onlineBook/k6L8A3_precalculo_-_matematicas_para_el_calculo-1.pdf)  \n",
    "\n",
    "* [Purcell, E. J., Varberg, D., & Rigdon, S. E. (2007). Cálculo diferencial e integral. Pearson Educación.](https://github.com/marco-canas/calculo/blob/main/referents/purcell/purcell_calculo.pdf)\n",
    "\n",
    "  \n",
    "\n",
    "* [stewart cálculo](https://udeaeduco-my.sharepoint.com/:b:/g/personal/marco_canas_udea_edu_co/EZgXZjAp8QxPqOAim2hs6LcBNPLGjSHf-xwYnUVYkwa04w?e=RZdTCy)  \n",
    "\n",
    "\n",
    "* [Recomendación de la UNESCO sobre ciencia abierta](https://unesdoc.unesco.org/ark:/48223/pf0000379949_spa)\n",
    "\n",
    "* [chatGPT](https://openai.com/blog/chatgpt)  \n",
    "\n",
    "* [Géron, A. (2017). Hands-on machine learning with scikit-learn and tensorflow: Concepts. Tools, and Techniques to build intelligent systems.](chrome-extension://efaidnbmnnnibpcajpcglclefindmkaj/http://14.139.161.31/OddSem-0822-1122/Hands-On_Machine_Learning_with_Scikit-Learn-Keras-and-TensorFlow-2nd-Edition-Aurelien-Geron.pdf)   \n"
   ]
  },
  {
   "cell_type": "markdown",
   "id": "df925560",
   "metadata": {},
   "source": [
    "\n",
    "* [McKinney, W. (2012). Python for data analysis: Data wrangling with Pandas, NumPy, and IPython. \" O'Reilly Media, Inc.\".](https://wesmckinney.com/book/) "
   ]
  },
  {
   "cell_type": "markdown",
   "id": "8e65d6f9",
   "metadata": {},
   "source": [
    "# Como estudiante, encuentro que...   \n",
    "\n",
    "F: Mis Fortalezas son:     \n",
    "O: Mis Oportunidades son:    \n",
    "D: Mis Debilidades son:    \n",
    "A: Lo que Amenazas mi aprendizaje es:  "
   ]
  },
  {
   "cell_type": "markdown",
   "id": "6b9e56a8",
   "metadata": {
    "slideshow": {
     "slide_type": "slide"
    }
   },
   "source": [
    "### [Evaluamos al profesor Marco Cañas Aquí](https://forms.office.com/Pages/ResponsePage.aspx?id=IefhmYRxjkmK_7KtTlPBwkanXIs1i1FEujpsZgO6dXpUREJPV1kxUk1JV1ozTFJIQVNIQjY5WEY3US4u)"
   ]
  },
  {
   "cell_type": "markdown",
   "id": "10f43536",
   "metadata": {
    "slideshow": {
     "slide_type": "slide"
    }
   },
   "source": [
    "### Continue su aprendizaje en la siguiente clase a través del siguiente [vínculo]()"
   ]
  },
  {
   "cell_type": "markdown",
   "id": "53cc9115",
   "metadata": {
    "slideshow": {
     "slide_type": "slide"
    }
   },
   "source": [
    "## Agradecimientos  \n",
    "\n",
    "Doy gracias a Dios por la vida de mi Hijo Joseph Cañas Osorio y la madurez que ha alcanzado. Este hijo me enorgullece y me hace falta abrazarlo cada día. \n",
    "\n",
    "Y a mi esposa Yasmira Emperatriz Barboza Mogollón por su apoyo, orientación y acompañamiento. "
   ]
  }
 ],
 "metadata": {
  "celltoolbar": "Slideshow",
  "kernelspec": {
   "display_name": ".venv",
   "language": "python",
   "name": "python3"
  },
  "language_info": {
   "codemirror_mode": {
    "name": "ipython",
    "version": 3
   },
   "file_extension": ".py",
   "mimetype": "text/x-python",
   "name": "python",
   "nbconvert_exporter": "python",
   "pygments_lexer": "ipython3",
   "version": "3.11.9"
  },
  "rise": {
   "enable_chalkboard": true,
   "theme": "sky",
   "transition": "zoom"
  }
 },
 "nbformat": 4,
 "nbformat_minor": 5
}
