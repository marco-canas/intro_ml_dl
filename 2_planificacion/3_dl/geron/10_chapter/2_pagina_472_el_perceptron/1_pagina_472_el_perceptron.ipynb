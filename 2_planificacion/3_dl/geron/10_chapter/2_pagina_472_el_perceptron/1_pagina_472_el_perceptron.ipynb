{
 "cells": [
  {
   "cell_type": "markdown",
   "id": "dc06dec7",
   "metadata": {
    "slideshow": {
     "slide_type": "slide"
    }
   },
   "source": [
    "<table align=\"left\">\n",
    "  <td>\n",
    "    <a href=\"https://colab.research.google.com/github/ageron/handson-ml3/blob/main/tools_numpy.ipynb\" target=\"_parent\"><img src=\"https://colab.research.google.com/assets/colab-badge.svg\" alt=\"Open In Colab\"/></a>\n",
    "  </td>\n",
    "  <td>\n",
    "    <a target=\"_blank\" href=\"https://kaggle.com/kernels/welcome?src=https://github.com/ageron/handson-ml3/blob/main/tools_numpy.ipynb\"><img src=\"https://kaggle.com/static/images/open-in-kaggle.svg\" /></a>\n",
    "  </td>\n",
    "</table>"
   ]
  },
  {
   "cell_type": "markdown",
   "id": "e0c5b198",
   "metadata": {
    "slideshow": {
     "slide_type": "slide"
    }
   },
   "source": [
    "### [Video de apoyo a la lectura interactiva y experimental de este cuaderno]()"
   ]
  },
  {
   "cell_type": "markdown",
   "id": "41e82203",
   "metadata": {
    "slideshow": {
     "slide_type": "slide"
    }
   },
   "source": [
    "### [Vínculo al programa del curso:  ]()\n",
    "\n"
   ]
  },
  {
   "cell_type": "markdown",
   "id": "d11ab06d",
   "metadata": {
    "slideshow": {
     "slide_type": "slide"
    }
   },
   "source": [
    "Un reconocimiento a mis estudiantes que han construido conmigo este saber pedagógico:\n",
    "\n",
    "<img src = 'https://github.com/marco-canas/ml_dl_intro/blob/main/5_images/taller_estructuras_datos_python_2025-09-04%20a%20las%2020.38_2.jpg?raw=true'>  \n",
    "\n"
   ]
  },
  {
   "cell_type": "code",
   "execution_count": 8,
   "id": "c5cb0afe",
   "metadata": {},
   "outputs": [],
   "source": [
    "import pandas as pd\n",
    "from datetime import datetime\n",
    "\n",
    "# Ruta del archivo principal\n",
    "path = 'C:/Users/marco/Documentos/docencia/groups_list/g_lideres.xlsx'\n",
    "\n",
    "def registrar_asistencia():\n",
    "    \"\"\"Registrar asistencia de estudiantes G-líderes en el mismo archivo g_lideres.xlsx\"\"\"\n",
    "    \n",
    "    # Leer todas las hojas existentes\n",
    "    try:\n",
    "        xls = pd.ExcelFile(path)\n",
    "        df_estudiantes = pd.read_excel(xls, sheet_name=\"Estudiantes\")\n",
    "        df_asistencia = pd.read_excel(xls, sheet_name=\"Asistencia\")\n",
    "    except ValueError:\n",
    "        # Si no existen hojas, inicializarlas\n",
    "        df_estudiantes = pd.DataFrame(columns=[\"Nombre\", \"Programa\"])\n",
    "        df_asistencia = pd.DataFrame(columns=[\"Nombre\", \"Programa\", \"Taller\", \"Fecha\"])\n",
    "    \n",
    "    print(\"=== Registro de Asistencia - G-Líderes ===\")\n",
    "    \n",
    "    while True:\n",
    "        nombre = input(\"\\nIngrese el nombre completo del estudiante (ENTER para terminar): \").strip()\n",
    "        if nombre == \"\":\n",
    "            break\n",
    "        \n",
    "        # Verificar si el estudiante ya existe\n",
    "        if nombre in df_estudiantes[\"Nombre\"].values:\n",
    "            programa = df_estudiantes.loc[df_estudiantes[\"Nombre\"] == nombre, \"Programa\"].values[0]\n",
    "            print(f\"✅ {nombre} encontrado en la lista ({programa}).\")\n",
    "        else:\n",
    "            programa = input(f\"⚠️ {nombre} no está registrado. Ingrese el programa académico: \")\n",
    "            nuevo_estudiante = pd.DataFrame([[nombre, programa]], columns=[\"Nombre\", \"Programa\"])\n",
    "            df_estudiantes = pd.concat([df_estudiantes, nuevo_estudiante], ignore_index=True)\n",
    "            print(f\"✅ {nombre} agregado a la lista de estudiantes.\")\n",
    "        \n",
    "        # Registrar asistencia\n",
    "        taller = input(\"Ingrese el nombre del taller: \")\n",
    "        fecha = datetime.now().strftime(\"%Y-%m-%d %H:%M:%S\")\n",
    "        nuevo_registro = pd.DataFrame([[nombre, programa, taller, fecha]], \n",
    "                                      columns=[\"Nombre\", \"Programa\", \"Taller\", \"Fecha\"])\n",
    "        df_asistencia = pd.concat([df_asistencia, nuevo_registro], ignore_index=True)\n",
    "        print(f\"📌 Asistencia registrada para {nombre} en el taller '{taller}'.\")\n",
    "    \n",
    "    # Guardar de nuevo en el mismo archivo\n",
    "    with pd.ExcelWriter(path, engine=\"openpyxl\", mode=\"w\") as writer:\n",
    "        df_estudiantes.to_excel(writer, sheet_name=\"Estudiantes\", index=False)\n",
    "        df_asistencia.to_excel(writer, sheet_name=\"Asistencia\", index=False)\n",
    "    \n",
    "    print(f\"\\n📂 Registro actualizado en {path}\")\n",
    "\n"
   ]
  },
  {
   "cell_type": "code",
   "execution_count": 9,
   "id": "1b350e37",
   "metadata": {},
   "outputs": [
    {
     "name": "stdout",
     "output_type": "stream",
     "text": [
      "=== Registro de Asistencia - G-Líderes ===\n",
      "✅ marco julio cañas campillo agregado a la lista de estudiantes.\n",
      "📌 Asistencia registrada para marco julio cañas campillo en el taller 'clasificación con perceptrón'.\n",
      "✅ marco julio cañas campillo encontrado en la lista (licenciatura en matemáticas).\n",
      "📌 Asistencia registrada para marco julio cañas campillo en el taller 'clasificación con perceptrón'.\n",
      "\n",
      "📂 Registro actualizado en C:/Users/marco/Documentos/docencia/groups_list/g_lideres.xlsx\n"
     ]
    }
   ],
   "source": [
    "\n",
    "# Ejemplo de uso\n",
    "registrar_asistencia()\n"
   ]
  },
  {
   "cell_type": "code",
   "execution_count": 10,
   "id": "b179a7ed",
   "metadata": {},
   "outputs": [
    {
     "data": {
      "application/vnd.microsoft.datawrangler.viewer.v0+json": {
       "columns": [
        {
         "name": "index",
         "rawType": "int64",
         "type": "integer"
        },
        {
         "name": "Nombre",
         "rawType": "object",
         "type": "string"
        },
        {
         "name": "Programa",
         "rawType": "object",
         "type": "string"
        }
       ],
       "ref": "ef3f9a92-90d4-47d9-95f2-5a750859f225",
       "rows": [
        [
         "1",
         "marco julio cañas campillo",
         "licenciatura en matemáticas"
        ]
       ],
       "shape": {
        "columns": 2,
        "rows": 1
       }
      },
      "text/html": [
       "<div>\n",
       "<style scoped>\n",
       "    .dataframe tbody tr th:only-of-type {\n",
       "        vertical-align: middle;\n",
       "    }\n",
       "\n",
       "    .dataframe tbody tr th {\n",
       "        vertical-align: top;\n",
       "    }\n",
       "\n",
       "    .dataframe thead th {\n",
       "        text-align: right;\n",
       "    }\n",
       "</style>\n",
       "<table border=\"1\" class=\"dataframe\">\n",
       "  <thead>\n",
       "    <tr style=\"text-align: right;\">\n",
       "      <th></th>\n",
       "      <th>Nombre</th>\n",
       "      <th>Programa</th>\n",
       "    </tr>\n",
       "  </thead>\n",
       "  <tbody>\n",
       "    <tr>\n",
       "      <th>1</th>\n",
       "      <td>marco julio cañas campillo</td>\n",
       "      <td>licenciatura en matemáticas</td>\n",
       "    </tr>\n",
       "  </tbody>\n",
       "</table>\n",
       "</div>"
      ],
      "text/plain": [
       "                       Nombre                     Programa\n",
       "1  marco julio cañas campillo  licenciatura en matemáticas"
      ]
     },
     "execution_count": 10,
     "metadata": {},
     "output_type": "execute_result"
    }
   ],
   "source": [
    "import pandas as pd\n",
    "import numpy as np\n",
    "\n",
    "# Cargar la lista de estudiantes desde el archivo CSV\n",
    "path = 'C:/Users/marco/Documentos/docencia/groups_list/g_lideres.xlsx'\n",
    "df = pd.read_excel(path)\n",
    "\n",
    "df.index = range(1, len(df) + 1)\n",
    "df "
   ]
  },
  {
   "cell_type": "markdown",
   "id": "d7598d0a-d9b7-4ae0-b029-a0ed6ed1130b",
   "metadata": {},
   "source": [
    "\n",
    "# Principios de mi labor docente"
   ]
  },
  {
   "cell_type": "markdown",
   "id": "4f9d8cf9",
   "metadata": {
    "slideshow": {
     "slide_type": "slide"
    }
   },
   "source": [
    "## Modelo general de clase: [aula invertida](https://www3.gobiernodecanarias.org/medusa/ecoescuela/pedagotic/aprendizaje-invertido-flipped-classroom/)"
   ]
  },
  {
   "cell_type": "markdown",
   "id": "eb6ed03a",
   "metadata": {},
   "source": [
    "<img src = 'https://resources.maneuveringthemiddle.com/wp-content/uploads/2020/07/04212706/1-5.png' width = 500>  \n",
    "\n"
   ]
  },
  {
   "cell_type": "markdown",
   "id": "34319cce-a71b-4f64-aab8-b53e521efa40",
   "metadata": {},
   "source": [
    "# Metodología de Aprendizaje Basado en Problemas y Proyectos (ABPP) \n"
   ]
  },
  {
   "cell_type": "markdown",
   "id": "c4f73d81",
   "metadata": {},
   "source": [
    "\n",
    "<img src = 'https://www.unir.net/wp-content/uploads/2020/07/aprendizaje-problemas2-1-1-1-1.jpeg' width = 500>"
   ]
  },
  {
   "cell_type": "markdown",
   "id": "841a985c-bd9b-4dd3-8e4c-893983980af2",
   "metadata": {},
   "source": [
    "# Desarrollo del pensamiento computacional con Lenguajes Python y R, y con archivos Markdown orientado a la formación en ciencia de datos \n",
    "\n"
   ]
  },
  {
   "cell_type": "markdown",
   "id": "3d0eba94",
   "metadata": {},
   "source": [
    "\n",
    "<img src = 'https://i.ytimg.com/vi/mcG_wcR4e6M/maxresdefault.jpg' width = 200>"
   ]
  },
  {
   "cell_type": "markdown",
   "id": "65aa0404-f7ae-495e-864c-1aec01b4255e",
   "metadata": {},
   "source": [
    "# Principio de fomento a la ciencia abierta, enseñar en el acceso a los datos públicos y el uso de software de código abierto  \n"
   ]
  },
  {
   "cell_type": "markdown",
   "id": "18ae9b87",
   "metadata": {},
   "source": [
    "\n",
    "<img src = 'https://unesdoc.unesco.org/in/rest/Thumb/image?id=p%3A%3Ausmarcdef_0000379949_spa&author=UNESCO&title=Recomendaci%C3%B3n+de+la+UNESCO+sobre+la+Ciencia+Abierta&year=2021&publisher=UNESCO&TypeOfDocument=UnescoPhysicalDocument&mat=PGD&ct=true&size=512&isPhysical=1' width = 200>"
   ]
  },
  {
   "cell_type": "markdown",
   "id": "d9559f85",
   "metadata": {},
   "source": [
    "El enfoque STEAMS en educación preescolar, primaria y secundaria es una extensión del enfoque STEM (Ciencia, Tecnología, Ingeniería y Matemáticas) y su variante STEAM, que incorpora el Arte. "
   ]
  },
  {
   "cell_type": "markdown",
   "id": "9d556584",
   "metadata": {},
   "source": [
    "En educación preescolar, primaria, secundaria y superior, se adapta a las diferentes etapas de desarrollo cognitivo y emocional de los estudiantes, promoviendo el aprendizaje activo y contextualizado.  \n"
   ]
  },
  {
   "cell_type": "markdown",
   "id": "0130ec1b",
   "metadata": {},
   "source": [
    "\n",
    "<img src = 'https://www.campuseducacion.com/blog/wp-content/uploads/2023/03/foto01-1.jpg' width = 200>"
   ]
  },
  {
   "cell_type": "markdown",
   "id": "f916feb9",
   "metadata": {},
   "source": [
    "# Clasificación con Perceptrón en administración de empresas "
   ]
  },
  {
   "cell_type": "markdown",
   "id": "13e6e65f",
   "metadata": {},
   "source": [
    "Este es un **resumen didáctico en español** de las páginas 472–483 de *Hands-On Machine Learning (3ra ed.) de Aurélien Géron*.\n"
   ]
  },
  {
   "cell_type": "markdown",
   "id": "fcb17c3e",
   "metadata": {},
   "source": [
    "\n",
    "Está organizado como **guía de estudio** con explicaciones, fórmulas en \\$\\LaTeX\\$ y ejemplos en **Python** para que usarlo con los estudiantes de G-Líderes. \n",
    "\n",
    "---\n"
   ]
  },
  {
   "cell_type": "markdown",
   "id": "b23fe397",
   "metadata": {},
   "source": [
    "\n",
    "# Resumen Didáctico: El Perceptrón y el Perceptrón Multicapa\n"
   ]
  },
  {
   "cell_type": "markdown",
   "id": "7508adcd",
   "metadata": {},
   "source": [
    "\n",
    "## 1. El Perceptrón: idea inicial\n",
    "\n",
    "* Fue propuesto en **1957 por Frank Rosenblatt**.\n",
    "* Se basa en una **unidad lógica de umbral (TLU: Threshold Logic Unit)**.\n",
    "* Cada conexión tiene un **peso** $w_{i}$.\n",
    "* La TLU calcula una **combinación lineal** de las entradas:\n",
    "\n",
    "$$\n",
    "z = w_1 x_1 + w_2 x_2 + \\cdots + w_n x_n + b = \\mathbf{w}^\\top \\mathbf{x} + b\n",
    "$$\n",
    "\n",
    "* Luego aplica una **función escalón (step function)**:\n",
    "\n",
    "$$\n",
    "h(\\mathbf{x}) = \\text{step}(z)\n",
    "$$\n"
   ]
  },
  {
   "cell_type": "markdown",
   "id": "43ca8122",
   "metadata": {},
   "source": [
    "\n",
    "### Funciones escalón comunes:\n",
    "\n",
    "* **Heaviside**:\n",
    "\n",
    "$$\n",
    "\\text{heaviside}(z) = \\begin{cases} \n",
    "0 & \\text{si } z < 0 \\\\ \n",
    "1 & \\text{si } z \\geq 0 \n",
    "\\end{cases}\n",
    "$$\n",
    "\n",
    "* **Función signo**:\n",
    "\n",
    "$$\n",
    "\\text{sgn}(z) = \\begin{cases} \n",
    "-1 & \\text{si } z < 0 \\\\ \n",
    "0 & \\text{si } z = 0 \\\\ \n",
    "1 & \\text{si } z > 0 \n",
    "\\end{cases}\n",
    "$$\n",
    "\n",
    "📌 Esto lo hace muy similar a la **regresión logística**, pero con una función escalón en lugar de la logística.\n",
    "\n",
    "---\n"
   ]
  },
  {
   "cell_type": "markdown",
   "id": "ca83d964",
   "metadata": {},
   "source": [
    "\n",
    "## 2. Arquitectura del Perceptrón\n",
    "\n",
    "* Un **perceptrón** es una capa de TLUs totalmente conectadas.\n",
    "* La entrada es la **capa de entrada** y la salida es la **capa de salida**.\n",
    "\n",
    "Ejemplo: un perceptrón con 2 entradas y 3 salidas puede clasificar en **tres clases binarias al mismo tiempo** (clasificador multietiqueta).\n"
   ]
  },
  {
   "cell_type": "markdown",
   "id": "be962284",
   "metadata": {},
   "source": [
    "\n",
    "### Notación matricial:\n",
    "\n",
    "Si $X$ es la matriz de entradas, $W$ los pesos y $b$ los sesgos:\n",
    "\n",
    "$$\n",
    "h_{W,b}(X) = \\phi(XW + b)\n",
    "$$\n",
    "\n",
    "donde $\\phi$ es la función de activación (aquí, escalón).\n",
    "\n",
    "---\n"
   ]
  },
  {
   "cell_type": "markdown",
   "id": "036e12db",
   "metadata": {},
   "source": [
    "\n",
    "## 3. Entrenamiento del Perceptrón\n",
    "\n",
    "* Se inspira en la **regla de Hebb**:\n",
    "  *“Las neuronas que se activan juntas, se conectan más fuerte”*.\n",
    "\n",
    "* Rosenblatt adaptó la idea: actualizar pesos **según el error cometido**.\n"
   ]
  },
  {
   "cell_type": "markdown",
   "id": "81ae4eb1",
   "metadata": {},
   "source": [
    "\n",
    "### Regla de aprendizaje del perceptrón:\n",
    "\n",
    "$$\n",
    "w_{i,j} \\leftarrow w_{i,j} + \\eta (y_j - \\hat{y}_j)x_i\n",
    "$$\n",
    "\n",
    "donde:\n",
    "\n",
    "* $w_{i,j}$ = peso de la conexión entre la entrada $i$ y la neurona de salida $j$.\n",
    "* $\\eta$ = tasa de aprendizaje.\n",
    "* $y_{j}$ = salida esperada.\n",
    "* $\\hat{y}_{j}$ = salida predicha.\n",
    "\n",
    "Si los datos son **linealmente separables**, el algoritmo **converge** (Teorema de Convergencia del Perceptrón).\n",
    "\n",
    "---\n"
   ]
  },
  {
   "cell_type": "markdown",
   "id": "4434a61e",
   "metadata": {},
   "source": [
    "\n",
    "## 4. Implementación en Python con Scikit-Learn\n"
   ]
  },
  {
   "cell_type": "code",
   "execution_count": 11,
   "id": "3184349d",
   "metadata": {},
   "outputs": [
    {
     "data": {
      "text/plain": [
       "array([ True, False])"
      ]
     },
     "execution_count": 11,
     "metadata": {},
     "output_type": "execute_result"
    }
   ],
   "source": [
    "import numpy as np\n",
    "from sklearn.datasets import load_iris\n",
    "from sklearn.linear_model import Perceptron\n",
    "\n",
    "# Dataset: Iris\n",
    "iris = load_iris(as_frame=True)\n",
    "X = iris.data[[\"petal length (cm)\", \"petal width (cm)\"]].values\n",
    "y = (iris.target == 0)  # Clasificar Iris Setosa\n",
    "\n",
    "# Entrenamiento del perceptrón\n",
    "per_clf = Perceptron(random_state=42)\n",
    "per_clf.fit(X, y)\n",
    "\n",
    "# Predicción en dos nuevos ejemplos\n",
    "X_new = [[2, 0.5], [3, 1]]\n",
    "y_pred = per_clf.predict(X_new)\n",
    "y_pred  # [True, False]\n",
    "\n"
   ]
  },
  {
   "cell_type": "markdown",
   "id": "465df4fc",
   "metadata": {},
   "source": [
    "\n",
    "📌 `Perceptron` en Scikit-Learn es equivalente a `SGDClassifier` con:\n",
    "`loss=\"perceptron\"`, `learning_rate=\"constant\"`, `eta0=1`, `penalty=None`.\n",
    "\n",
    "---\n"
   ]
  },
  {
   "cell_type": "markdown",
   "id": "a4990187",
   "metadata": {},
   "source": [
    "\n",
    "## 5. Limitaciones del Perceptrón\n",
    "\n",
    "* No puede resolver problemas **no lineales**, como el famoso **XOR**.\n",
    "* Esto desmotivó la investigación en los 70s (crisis de las redes neuronales).\n",
    "\n",
    "📌 Ejemplo: XOR no es linealmente separable → el perceptrón simple falla.\n",
    "\n",
    "---\n"
   ]
  },
  {
   "cell_type": "markdown",
   "id": "97d49855",
   "metadata": {},
   "source": [
    "\n",
    "## 6. Solución: Multilayer Perceptron (MLP)\n",
    "\n",
    "* Se crea una **red de perceptrones en capas**:\n",
    "\n",
    "  * **Capa de entrada**\n",
    "  * **Capas ocultas** (una o más)\n",
    "  * **Capa de salida**\n",
    "\n",
    "* Con al menos **una capa oculta**, se puede resolver XOR.\n",
    "\n",
    "Ejemplo:\n",
    "\n",
    "* Entradas $(0,0)$ y $(1,1)$ → salida $0$.\n",
    "* Entradas $(0,1)$ y $(1,0)$ → salida $1$.\n",
    "\n",
    "Así, un **MLP sí resuelve XOR**.\n",
    "\n",
    "---\n"
   ]
  },
  {
   "cell_type": "code",
   "execution_count": 16,
   "id": "61188450",
   "metadata": {},
   "outputs": [
    {
     "name": "stdout",
     "output_type": "stream",
     "text": [
      "Predicciones XOR:\n",
      "[0 0] -> 0 (probabilidad clase 1: 0.0021)\n",
      "[0 1] -> 1 (probabilidad clase 1: 0.9956)\n",
      "[1 0] -> 1 (probabilidad clase 1: 0.9942)\n",
      "[1 1] -> 0 (probabilidad clase 1: 0.0046)\n"
     ]
    }
   ],
   "source": [
    "import numpy as np\n",
    "from sklearn.neural_network import MLPClassifier\n",
    "\n",
    "# Datos del problema XOR\n",
    "X = np.array([[0,0],\n",
    "              [0,1],\n",
    "              [1,0],\n",
    "              [1,1]])\n",
    "y = np.array([0, 1, 1, 0])  # Etiquetas\n",
    "\n",
    "# Definir un MLP con más neuronas en la capa oculta\n",
    "mlp = MLPClassifier(hidden_layer_sizes=(4,),   # más neuronas que 2\n",
    "                    activation='tanh',         # activación no lineal\n",
    "                    solver='adam',             # adam suele converger mejor\n",
    "                    learning_rate_init=0.1,    # tasa de aprendizaje más alta\n",
    "                    max_iter=5000,             # más iteraciones\n",
    "                    random_state=42)\n",
    "\n",
    "# Entrenar\n",
    "mlp.fit(X, y)\n",
    "\n",
    "# Predicciones\n",
    "print(\"Predicciones XOR:\")\n",
    "for i, x in enumerate(X):\n",
    "    pred = mlp.predict([x])[0]\n",
    "    prob = mlp.predict_proba([x])[0][1]\n",
    "    print(f\"{x} -> {pred} (probabilidad clase 1: {prob:.4f})\")\n"
   ]
  },
  {
   "cell_type": "code",
   "execution_count": null,
   "id": "517bf46c",
   "metadata": {},
   "outputs": [
    {
     "name": "stdout",
     "output_type": "stream",
     "text": [
      "\n",
      "Predicciones XOR:\n",
      "\u001b[1m1/1\u001b[0m \u001b[32m━━━━━━━━━━━━━━━━━━━━\u001b[0m\u001b[37m\u001b[0m \u001b[1m0s\u001b[0m 88ms/step\n",
      "[0 0] -> 0 (salida real: 0.0010)\n",
      "[0 1] -> 1 (salida real: 0.9952)\n",
      "[1 0] -> 1 (salida real: 0.9934)\n",
      "[1 1] -> 0 (salida real: 0.0067)\n"
     ]
    }
   ],
   "source": [
    "import numpy as np\n",
    "import tensorflow as tf\n",
    "from tensorflow import keras\n",
    "from tensorflow.keras import layers\n",
    "\n",
    "# Semilla para reproducibilidad\n",
    "np.random.seed(42)\n",
    "tf.random.set_seed(42)\n",
    "\n",
    "# Datos del problema XOR\n",
    "X = np.array([[0,0],\n",
    "              [0,1],\n",
    "              [1,0],\n",
    "              [1,1]])\n",
    "y = np.array([[0], [1], [1], [0]])\n",
    "\n",
    "# Definir modelo secuencial\n",
    "model = keras.Sequential([\n",
    "    layers.Dense(4, input_dim=2, activation='tanh'),  # más neuronas ocultas\n",
    "    layers.Dense(1, activation='sigmoid')             # salida binaria\n",
    "])\n",
    "\n",
    "# Compilar modelo (SGD suele aprender mejor en XOR)\n",
    "model.compile(optimizer=keras.optimizers.SGD(learning_rate=0.1),\n",
    "              loss='binary_crossentropy',\n",
    "              metrics=['accuracy'])\n",
    "\n",
    "# Entrenar modelo\n",
    "model.fit(X, y, epochs=5000, verbose=0)\n",
    "\n",
    "# Evaluación\n",
    "print(\"\\nPredicciones XOR:\")\n",
    "preds = model.predict(X)\n",
    "for i, p in enumerate(preds):\n",
    "    print(f\"{X[i]} -> {round(p[0])} (salida real: {p[0]:.4f})\")\n",
    "\n",
    "# Se demora más de 4 minutos en entrenar "
   ]
  },
  {
   "cell_type": "markdown",
   "id": "cf96c554",
   "metadata": {},
   "source": [
    "\n",
    "## 7. Retropropagación (Backpropagation)\n",
    "\n",
    "Problema: ¿cómo entrenar un MLP?\n",
    "\n",
    "### Solución:\n",
    "\n",
    "En 1970, **Seppo Linnainmaa** propuso la **diferenciación automática en modo reverso (autodiff)**.\n",
    "En los 80s, **Rumelhart, Hinton y Williams** la aplicaron a redes neuronales → **retropropagación**.\n"
   ]
  },
  {
   "cell_type": "markdown",
   "id": "9e8a8f4d",
   "metadata": {},
   "source": [
    "\n",
    "### Algoritmo:\n",
    "\n",
    "1. **Forward pass**: calcular las salidas.\n",
    "2. **Calcular error** (con función de pérdida).\n",
    "3. **Backward pass**: aplicar la **regla de la cadena** para calcular gradientes.\n",
    "4. **Actualizar pesos** con descenso de gradiente.\n",
    "\n",
    "**Importante**: los pesos deben inicializarse **aleatoriamente** para evitar simetría.\n",
    "\n",
    "---\n"
   ]
  },
  {
   "cell_type": "markdown",
   "id": "8a2519a1",
   "metadata": {},
   "source": [
    "\n",
    "## 8. Funciones de activación modernas\n",
    "\n",
    "La función escalón se reemplazó por funciones **diferenciables**:\n",
    "\n",
    "1. **Sigmoide**:\n",
    "\n",
    "$$\n",
    "\\sigma(z) = \\frac{1}{1+e^{-z}}\n",
    "$$\n"
   ]
  },
  {
   "cell_type": "markdown",
   "id": "051df0c6",
   "metadata": {},
   "source": [
    "\n",
    "2. **Tangente hiperbólica**:\n",
    "\n",
    "$$\n",
    "\\tanh(z) = 2\\sigma(2z) - 1\n",
    "$$\n"
   ]
  },
  {
   "cell_type": "markdown",
   "id": "1dd2365f",
   "metadata": {},
   "source": [
    "\n",
    "3. **ReLU (Rectified Linear Unit)**:\n",
    "\n",
    "$$\n",
    "\\text{ReLU}(z) = \\max(0, z)\n",
    "$$\n",
    "\n",
    "La **ReLU** es la más usada hoy: rápida, simple y efectiva.\n",
    "\n",
    "---\n"
   ]
  },
  {
   "cell_type": "markdown",
   "id": "e7f51b48",
   "metadata": {},
   "source": [
    "\n",
    "## 9. Por qué se necesitan funciones de activación\n",
    "\n",
    "* Si encadenas solo transformaciones **lineales**, el resultado siempre será **lineal**.\n",
    "* Para capturar **relaciones no lineales**, necesitas **no linealidad entre capas**.\n",
    "* Los MLP con activaciones no lineales pueden aproximar **cualquier función continua** (Teorema de aproximación universal).\n",
    "\n",
    "---\n"
   ]
  },
  {
   "cell_type": "markdown",
   "id": "2c521278",
   "metadata": {},
   "source": [
    "\n",
    "# Conclusión\n",
    "\n",
    "* El perceptrón fue la primera red neuronal artificial, pero limitado a problemas lineales.\n",
    "* El MLP, entrenado con **retropropagación**, superó esa limitación.\n",
    "* Hoy en día, MLPs con funciones como **ReLU** forman la base de las **redes profundas (DNNs)**.\n",
    "\n",
    "\n"
   ]
  },
  {
   "cell_type": "code",
   "execution_count": null,
   "id": "a102e638",
   "metadata": {},
   "outputs": [],
   "source": []
  },
  {
   "cell_type": "code",
   "execution_count": null,
   "id": "813f6904",
   "metadata": {},
   "outputs": [],
   "source": []
  },
  {
   "cell_type": "code",
   "execution_count": null,
   "id": "9cc1290a",
   "metadata": {},
   "outputs": [],
   "source": []
  },
  {
   "cell_type": "markdown",
   "id": "3cac948a",
   "metadata": {},
   "source": [
    "La **lectura interactiva y experimental** de los cuadernos Jupyter diseñados para el curso de **Fundamentos de Lógica** implica un enfoque dinámico y práctico para el aprendizaje, donde los estudiantes no solo consumen información teórica, sino que también interactúan con el contenido, modifican ejemplos, ejecutan código y experimentan con los conceptos lógicos en un entorno computacional. A continuación, se detallan las características clave de este enfoque:\n",
    "\n",
    "---\n"
   ]
  },
  {
   "cell_type": "markdown",
   "id": "bab6c6f9",
   "metadata": {},
   "source": [
    "\n",
    "### **1. Lectura Interactiva**  \n",
    "- **Manipulación directa del contenido**: Los estudiantes pueden ejecutar celdas de código, modificar fórmulas lógicas o ejemplos, y observar cómo cambian los resultados en tiempo real.  \n",
    "- **Visualización interactiva**: Uso de gráficos, diagramas (como árboles semánticos o tablas de verdad) o herramientas que respondan a entradas del usuario para ilustrar conceptos como validez, consistencia o inferencia.  \n",
    "- **Retroalimentación inmediata**: Los cuadernos pueden incluir ejercicios con autoevaluación (ejecutando código que verifica soluciones) o explicaciones emergentes al resolver problemas.  \n",
    "\n",
    "---\n"
   ]
  },
  {
   "cell_type": "markdown",
   "id": "05442fd7",
   "metadata": {},
   "source": [
    "\n",
    "### **2. Lectura Experimental**  \n",
    "- **Aprendizaje basado en prueba y error**: Los estudiantes pueden \"jugar\" con estructuras lógicas (por ejemplo, modificar conectores en una fórmula proposicional y ver cómo afecta su tabla de verdad).  \n",
    "- **Simulación de escenarios**: Por ejemplo, modelar argumentos en lógica de primer orden y evaluar su corrección mediante ejecución de código (usando librerías como `sympy` o herramientas ad-hoc).  \n",
    "- **Exploración guiada y abierta**: Se incluyen secciones con consignas del tipo *\"¿Qué pasa si cambias este axioma?\"* o *\"Intenta construir un contraejemplo\"* para fomentar la curiosidad.  \n",
    "\n",
    "---\n"
   ]
  },
  {
   "cell_type": "markdown",
   "id": "374a8ea9",
   "metadata": {},
   "source": [
    "\n",
    "### **3. Componentes clave de los cuadernos**  \n",
    "- **Fragmentos de código ejecutable**: Para evaluar expresiones lógicas, automatizar pruebas o implementar algoritmos (ej: verificación de tautologías).  \n",
    "- **Celdas con texto teórico y preguntas reflexivas**: Integradas con ejemplos prácticos que requieren intervención activa (ej: *\"Define aquí tu propia fórmula y comprueba si es satisfacible\"*).  \n",
    "- **Enlaces a recursos externos**: Como demostradores en línea o lecturas complementarias para profundizar.  \n",
    "\n",
    "---\n"
   ]
  },
  {
   "cell_type": "markdown",
   "id": "c750af8a",
   "metadata": {},
   "source": [
    "\n",
    "### **4. Beneficios pedagógicos**  \n",
    "- **Enganche activo**: Combina teoría y práctica sin salir del entorno digital.  \n",
    "- **Personalización**: Los estudiantes pueden ajustar el ritmo y profundidad de su aprendizaje.  \n",
    "- **Preparación para aplicaciones reales**: Familiariza a los estudiantes con herramientas usadas en investigación (ej: Python para lógica simbólica).  \n",
    "\n",
    "---\n"
   ]
  },
  {
   "cell_type": "markdown",
   "id": "0602e6ee",
   "metadata": {},
   "source": [
    "\n",
    "### **Ejemplo concreto**  \n",
    "Un cuaderno podría incluir:  \n",
    "1. Una explicación de *modus ponens* con una fórmula predefinida (`p → q`, `p`, luego `q`).  \n",
    "2. Una celda interactiva donde el estudiante modifique `p` o `q` y observe cómo falla la regla si las premisas cambian.  \n",
    "3. Un ejercicio para programar un verificador de *modus ponens* usando diccionarios de Python.  \n"
   ]
  },
  {
   "cell_type": "markdown",
   "id": "70e1a505",
   "metadata": {},
   "source": [
    "\n",
    "Este enfoque transforma la lógica (a menudo abstracta) en una experiencia tangible y adaptable."
   ]
  },
  {
   "cell_type": "markdown",
   "id": "8396c0ed",
   "metadata": {},
   "source": [
    "# Presentación de la estructura de la clase  "
   ]
  },
  {
   "cell_type": "markdown",
   "id": "36bc2964",
   "metadata": {},
   "source": [
    "# Desarrollo de habilidades Metacognitivas en enseñanza con metodología IAE \n"
   ]
  },
  {
   "cell_type": "markdown",
   "id": "9c5cb582",
   "metadata": {},
   "source": [
    "\n",
    "Desarrollar habilidades metacognitivas en los estudiantes dentro de una **Investigación Acción Educativa (IAE)** implica un proceso cíclico de reflexión, acción y evaluación. Aquí te propongo una estrategia estructurada en fases, alineada con la IAE, para fomentar la metacognición:\n",
    "\n",
    "---\n"
   ]
  },
  {
   "cell_type": "markdown",
   "id": "42be70b3",
   "metadata": {},
   "source": [
    "\n",
    "### **1. Diagnóstico Inicial (Fase de Observación)**  \n",
    "- **Identifica el nivel metacognitivo actual**:  \n",
    "  - Realiza cuestionarios, entrevistas o actividades reflexivas (ej.: \"¿Cómo estudiaste para el último examen? ¿Qué te funcionó o no?\").  \n",
    "  - Observa si los estudiantes pueden explicar sus procesos de aprendizaje o identificar dificultades.  \n",
    "\n",
    "- **Registra evidencias**: Anota cómo los estudiantes planifican, monitorean y evalúan sus tareas (ej.: diarios de aprendizaje, grabaciones de debates).  \n",
    "\n",
    "---\n"
   ]
  },
  {
   "cell_type": "markdown",
   "id": "e252e7b1",
   "metadata": {},
   "source": [
    "\n",
    "### **2. Diseño de Intervenciones (Fase de Planificación)**"
   ]
  },
  {
   "cell_type": "markdown",
   "id": "4b036a02",
   "metadata": {},
   "source": [
    "  \n",
    "**a. Enseñanza explícita de estrategias metacognitivas**:  \n",
    "  - **Modelado**: Muestra cómo *tú* piensas al resolver un problema (\"Pensamiento en voz alta\"). Ejemplo:  \n",
    "    *\"Primero, voy a leer el objetivo de la clase. Luego, revisaré si entiendo los conceptos clave...\"*.  \n",
    "  - **Listas de verificación (checklists)**: Proporciona guías para autoevaluarse (ej.: \"¿Puedo explicar este tema con mis propias palabras?\").  \n"
   ]
  },
  {
   "cell_type": "markdown",
   "id": "1ba3c6a5",
   "metadata": {},
   "source": [
    "\n",
    "**b. Herramientas para la autorregulación**:  \n",
    "  - **Diarios de aprendizaje**: Pide que registren:  \n",
    "    - *\"¿Qué aprendí hoy?\"* (conocimiento).  \n",
    "    - *\"¿Cómo lo aprendí?\"* (proceso).  \n",
    "    - *\"¿Qué me falta por entender?\"* (brechas).  \n",
    "  - **Rúbricas de autoevaluación**: Incluye criterios como: *\"Puedo resolver ejercicios sin ayuda\"* o *\"Sé dónde buscar información confiable\"*.  \n",
    "\n",
    "**c. Espacios de reflexión colaborativa**:  \n",
    "  - **Debates metacognitivos**: En grupos, discuten: *\"¿Qué estrategia usamos? ¿Funcionó? ¿Por qué?\"*.  \n",
    "  - **Peer feedback**: Intercambian comentarios sobre sus procesos (ej.: \"Tú organizaste bien tus ideas, pero podrías revisar las fuentes\").  \n",
    "\n",
    "---\n"
   ]
  },
  {
   "cell_type": "markdown",
   "id": "0ed547ca",
   "metadata": {},
   "source": [
    "\n",
    "### **3. Implementación (Fase de Acción)**  \n",
    "- **Integra la metacognición en las actividades cotidianas**:  \n",
    "  - Antes de una tarea: *\"¿Qué sabes ya sobre este tema? ¿Cómo planeas abordarlo?\"*.  \n",
    "  - Durante la tarea: *\"¿Estás siguiendo tu plan? ¿Necesitas ajustarlo?\"*.  \n",
    "  - Después: *\"¿Lograste el objetivo? ¿Qué cambiarías la próxima vez?\"*.  \n",
    "- **Usa preguntas clave**:  \n",
    "  - *\"¿Qué parte fue más difícil? ¿Por qué?\"* (identificación de obstáculos).  \n",
    "  - *\"Si tuvieras que enseñarle esto a un compañero, ¿cómo lo harías?\"* (transferencia).  \n",
    "\n",
    "---\n",
    "\n",
    "### **4. Evaluación y Reflexión (Fase de Observación/Reflexión)**  \n",
    "- **Analiza el impacto**: Compara evidencias pre y post intervención (ej.: diarios, desempeño en tareas).  \n",
    "- **Reflexión grupal**: Realiza una sesión donde los estudiantes compartan:  \n",
    "  - *\"¿Qué estrategias metacognitivas les ayudaron más?\"*.  \n",
    "  - *\"¿Cómo se sintieron al gestionar su aprendizaje?\"*.  \n",
    "- **Ajusta la intervención**: Si notas que persisten dificultades, propón nuevas herramientas (ej.: mapas conceptuales para organizar ideas).  \n",
    "\n",
    "---\n",
    "\n",
    "### **5. Iteración (Ciclo de IAE)**  \n",
    "Repite el ciclo con ajustes basados en los hallazgos. Por ejemplo:  \n",
    "- Si los estudiantes no identifican errores, introduce actividades de *análisis de errores* (\"¿Por qué te equivocaste? ¿Cómo corregirlo?\").  \n",
    "- Si les cuesta planificar, usa herramientas visuales como *diagramas de flujo* para secuenciar pasos.  \n",
    "\n",
    "---\n",
    "\n",
    "### **Ejemplo Práctico**  \n",
    "**Situación**: Estudiantes no revisan sus errores en matemáticas.  \n",
    "- **Intervención**:  \n",
    "  1. **Modelado**: Resuelves un problema cometiendo un error adrede y muestras cómo detectarlo.  \n",
    "  2. **Checklist**: \"¿Revisé cada paso? ¿Mi respuesta tiene sentido?\".  \n",
    "  3. **Diario**: \"Hoy cometí un error en... Lo corregí cambiando...\".  \n",
    "\n",
    "---\n",
    "\n",
    "### **Claves para el Éxito**  \n",
    "- **Consistencia**: Integra la metacognición en todas las clases, no como actividad aislada.  \n",
    "- **Andamiaje**: Reduce gradualmente la guía del docente a medida que los estudiantes ganan autonomía.  \n",
    "- **Cultura de error**: Normaliza los errores como parte del aprendizaje (\"¿Qué podemos aprender de esto?\").  \n",
    "\n",
    "La metacognición no solo mejora el logro académico, sino que empodera a los estudiantes para ser aprendices autónomos y resilientes. En la IAE, este proceso se enriquece al ser colaborativo (docente-estudiantes) y basado en evidencia concreta.  \n",
    "\n",
    "¿Te gustaría profundizar en alguna herramienta específica o ajustar la estrategia a un nivel educativo en particular?"
   ]
  },
  {
   "cell_type": "markdown",
   "id": "239427f7",
   "metadata": {},
   "source": [
    "# Calendario Académico Semestre 2025-2  \n",
    "\n",
    "\n",
    "\n",
    "\n"
   ]
  },
  {
   "cell_type": "code",
   "execution_count": null,
   "id": "c804f8d3",
   "metadata": {},
   "outputs": [],
   "source": []
  },
  {
   "cell_type": "code",
   "execution_count": null,
   "id": "cc539357",
   "metadata": {},
   "outputs": [],
   "source": []
  },
  {
   "cell_type": "markdown",
   "id": "8ba64aed",
   "metadata": {},
   "source": [
    "# Cursos que orienta el profesor Marco Julio Cañas Campillo en 2025  \n",
    "\n",
    "1. Cálculo Vectorial para Ingeniería Agropecuaria\n",
    "2. Análisis Numérico para Licenciatura en Matemáticas. \n",
    "3. Práctica Pedagógica V para Licenciatura en Educación Infantil\n",
    "4. Fundamentos de Lógica para Licenciatura en Matemáticas \n"
   ]
  },
  {
   "cell_type": "markdown",
   "id": "8d41fe58",
   "metadata": {
    "slideshow": {
     "slide_type": "slide"
    }
   },
   "source": [
    "# Horario de clases del profesor Marco\n",
    "\n",
    "* Lunes 8-12: Cálculo Vectorial\n",
    "* Martes 8-12 M: Análisis Numérico. \n",
    "* Miércoles 10 a 11 M: Machine Learnig\n",
    "* Miércoles de 3 a 4 de la tarde: ARIMA\n",
    "* Jueves 2 a 6 PM: Práctica Pedagógica V: Desarrollo del pensamiento matemático en   \n",
    "  la infancia. \n",
    "* Viernes 8 - 12 M: Fundamentos de Lógica. \n",
    "* Sábados 8-12 Asesorías y espacio para retroalimentación y apoyo al trabajo independiente  \n",
    "  y desarrollo de habilidades metacognitivas. "
   ]
  },
  {
   "cell_type": "markdown",
   "id": "ae114e14",
   "metadata": {
    "slideshow": {
     "slide_type": "slide"
    }
   },
   "source": [
    "# Coordinador de los cursos de la Facultad de Educación para regiones:    \n",
    "\n",
    "Andrés Vélez: regioneducacion.fedu@udea.edu.co  \n",
    "Coordinador Regiones  \n",
    "Facultad de Educación  \n",
    "Universidad de Antioquia  "
   ]
  },
  {
   "cell_type": "markdown",
   "id": "b1db4b6c",
   "metadata": {
    "slideshow": {
     "slide_type": "slide"
    }
   },
   "source": [
    "## Monitores\n",
    "* Manuel San Juan Serrano: Contactar escribiendo al correo: manuel.serrano1@udea.edu.co\n",
    "* Yeifry Sebastián Uribe: Contactar escribiendo al correo: yeifry.uribe@udea.edu.co"
   ]
  },
  {
   "cell_type": "markdown",
   "id": "10bce0d0",
   "metadata": {
    "slideshow": {
     "slide_type": "slide"
    }
   },
   "source": [
    "## Referentes "
   ]
  },
  {
   "cell_type": "markdown",
   "id": "1db3c468",
   "metadata": {
    "slideshow": {
     "slide_type": "slide"
    }
   },
   "source": [
    "* [Jupyter Book de fundamentos_logica](file:///C:/Users/marco/Documentos/docencia/fundamentos_logica/fundamentos_logica_book/_build/html/index.html)\n",
    "\n",
    "\n",
    "* [Decargue Crocodile Clip aquí](https://crocodileclips.net/descargar-crocodile-clips/)\n",
    "\n",
    "* [Matemáticas discretas Una introducción abierta, 3ª edición](https://discrete.openmathbooks.org/dmoi3.html)  \n",
    "  \n",
    "* [Desarrollo del pensamiento matemático con calculadora Casio ](https://bibliotecadigital.udea.edu.co/entities/publication/17180405-9f1d-4800-aa7c-e6369779cece)\n",
    "\n",
    "* [CALCULO I DE UNA VARIABLE Ron Larson-Bruce Edwards. Mc Graw Hill. 9º Edición](https://www.academia.edu/42139251/CALCULO_I_DE_UNA_VARIABLE_Ron_Larson_Bruce_Edwards_Mc_Graw_Hill_9o_Edici%C3%B3n)   \n",
    "  \n",
    "\n",
    "* [Grajales Vanegas, L. M., Restrepo Estrada, C. E., Restrepo Ochoa, S. I., & Ruíz De Villalba, F. (2015). Matemáticas I para las ciencias económicas.](https://bibliotecadigital.udea.edu.co/handle/10495/3010)\n",
    "  \n",
    "* R. Duval y Semiosis y pensamiento humano, 2.ª ed. Cali, Colombia: Programa Editorial Universidad del Valle, 2017. [En línea]. Disponible en: https://programaeditorial.univalle.edu.co/gpd-semiosis-y-pensamiento-humano-9789587655278-63324cdb0f6b3.html\n",
    "\n",
    "* [Aylwin, C. U. (2011). Lógica, conjuntos y números. Universidad de los Andes, Consejo de Publicaciones, Colección: Ciencias Básicas, Serie: Matemáticas.](chrome-extension://efaidnbmnnnibpcajpcglclefindmkaj/https://www.u-cursos.cl/ciencias/2011/1/MC110/1/material_docente/bajar?id_material=574722)\n",
    "  \n",
    "* [Chollet, F. (2021). Deep learning with Python. Simon and Schuster.](chrome-extension://efaidnbmnnnibpcajpcglclefindmkaj/https://tanthiamhuat.wordpress.com/wp-content/uploads/2018/03/deeplearningwithpython.pdf)  \n",
    "  \n",
    "* [Watson, S., Stewart, J., & Redlin, L. (2009). Precálculo. Matemáticas para el cálculo.](chrome-extension://efaidnbmnnnibpcajpcglclefindmkaj/https://students.aiu.edu/submissions/profiles/resources/onlineBook/k6L8A3_precalculo_-_matematicas_para_el_calculo-1.pdf)  \n",
    "\n",
    "* [Purcell, E. J., Varberg, D., & Rigdon, S. E. (2007). Cálculo diferencial e integral. Pearson Educación.](https://github.com/marco-canas/calculo/blob/main/referents/purcell/purcell_calculo.pdf)\n",
    "\n",
    "  \n",
    "\n",
    "* [stewart cálculo](https://udeaeduco-my.sharepoint.com/:b:/g/personal/marco_canas_udea_edu_co/EZgXZjAp8QxPqOAim2hs6LcBNPLGjSHf-xwYnUVYkwa04w?e=RZdTCy)  \n",
    "\n",
    "\n",
    "* [Recomendación de la UNESCO sobre ciencia abierta](https://unesdoc.unesco.org/ark:/48223/pf0000379949_spa)\n",
    "\n",
    "* [chatGPT](https://openai.com/blog/chatgpt)  \n",
    "\n",
    "* [Géron, A. (2017). Hands-on machine learning with scikit-learn and tensorflow: Concepts. Tools, and Techniques to build intelligent systems.](chrome-extension://efaidnbmnnnibpcajpcglclefindmkaj/http://14.139.161.31/OddSem-0822-1122/Hands-On_Machine_Learning_with_Scikit-Learn-Keras-and-TensorFlow-2nd-Edition-Aurelien-Geron.pdf)   \n"
   ]
  },
  {
   "cell_type": "markdown",
   "id": "df925560",
   "metadata": {},
   "source": [
    "\n",
    "* [McKinney, W. (2012). Python for data analysis: Data wrangling with Pandas, NumPy, and IPython. \" O'Reilly Media, Inc.\".](https://wesmckinney.com/book/) "
   ]
  },
  {
   "cell_type": "markdown",
   "id": "8e65d6f9",
   "metadata": {},
   "source": [
    "# Como estudiante, encuentro que...   \n",
    "\n",
    "F: Mis Fortalezas son:     \n",
    "O: Mis Oportunidades son:    \n",
    "D: Mis Debilidades son:    \n",
    "A: Lo que Amenazas mi aprendizaje es:  "
   ]
  },
  {
   "cell_type": "markdown",
   "id": "6b9e56a8",
   "metadata": {
    "slideshow": {
     "slide_type": "slide"
    }
   },
   "source": [
    "### [Evaluamos al profesor Marco Cañas Aquí](https://forms.office.com/Pages/ResponsePage.aspx?id=IefhmYRxjkmK_7KtTlPBwkanXIs1i1FEujpsZgO6dXpUREJPV1kxUk1JV1ozTFJIQVNIQjY5WEY3US4u)"
   ]
  },
  {
   "cell_type": "markdown",
   "id": "10f43536",
   "metadata": {
    "slideshow": {
     "slide_type": "slide"
    }
   },
   "source": [
    "### Continue su aprendizaje en la siguiente clase a través del siguiente [vínculo]()"
   ]
  },
  {
   "cell_type": "markdown",
   "id": "53cc9115",
   "metadata": {
    "slideshow": {
     "slide_type": "slide"
    }
   },
   "source": [
    "## Agradecimientos  \n",
    "\n",
    "Doy gracias a Dios por la vida de mi Hijo Joseph Cañas Osorio y la madurez que ha alcanzado. Este hijo me enorgullece y me hace falta abrazarlo cada día. \n",
    "\n",
    "Y a mi esposa Yasmira Emperatriz Barboza Mogollón por su apoyo, orientación y acompañamiento. "
   ]
  }
 ],
 "metadata": {
  "celltoolbar": "Slideshow",
  "kernelspec": {
   "display_name": ".venv",
   "language": "python",
   "name": "python3"
  },
  "language_info": {
   "codemirror_mode": {
    "name": "ipython",
    "version": 3
   },
   "file_extension": ".py",
   "mimetype": "text/x-python",
   "name": "python",
   "nbconvert_exporter": "python",
   "pygments_lexer": "ipython3",
   "version": "3.11.9"
  },
  "rise": {
   "enable_chalkboard": true,
   "theme": "sky",
   "transition": "zoom"
  }
 },
 "nbformat": 4,
 "nbformat_minor": 5
}
