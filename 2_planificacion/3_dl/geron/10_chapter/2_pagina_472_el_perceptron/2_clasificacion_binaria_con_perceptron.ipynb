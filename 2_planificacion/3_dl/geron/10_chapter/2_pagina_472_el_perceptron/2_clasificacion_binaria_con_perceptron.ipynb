{
 "cells": [
  {
   "cell_type": "markdown",
   "id": "dc06dec7",
   "metadata": {
    "slideshow": {
     "slide_type": "slide"
    }
   },
   "source": [
    "<table align=\"left\">\n",
    "  <td>\n",
    "    <a href=\"https://colab.research.google.com/github/ageron/handson-ml3/blob/main/tools_numpy.ipynb\" target=\"_parent\"><img src=\"https://colab.research.google.com/assets/colab-badge.svg\" alt=\"Open In Colab\"/></a>\n",
    "  </td>\n",
    "  <td>\n",
    "    <a target=\"_blank\" href=\"https://kaggle.com/kernels/welcome?src=https://github.com/ageron/handson-ml3/blob/main/tools_numpy.ipynb\"><img src=\"https://kaggle.com/static/images/open-in-kaggle.svg\" /></a>\n",
    "  </td>\n",
    "</table>"
   ]
  },
  {
   "cell_type": "markdown",
   "id": "e0c5b198",
   "metadata": {
    "slideshow": {
     "slide_type": "slide"
    }
   },
   "source": [
    "### [Video de apoyo a la lectura interactiva y experimental de este cuaderno]()"
   ]
  },
  {
   "cell_type": "markdown",
   "id": "41e82203",
   "metadata": {
    "slideshow": {
     "slide_type": "slide"
    }
   },
   "source": [
    "### [Vínculo al programa del curso:  ]()\n",
    "\n"
   ]
  },
  {
   "cell_type": "code",
   "execution_count": 1,
   "id": "608bcdfe",
   "metadata": {},
   "outputs": [],
   "source": [
    "import pandas as pd\n",
    "from datetime import datetime\n",
    "\n",
    "# Ruta del archivo principal\n",
    "path = 'C:/Users/marco/Documentos/docencia/groups_list/g_lideres.xlsx'\n",
    "\n",
    "def registrar_asistencia():\n",
    "    \"\"\"Registrar asistencia de estudiantes G-líderes en el mismo archivo g_lideres.xlsx\"\"\"\n",
    "    \n",
    "    # Leer todas las hojas existentes\n",
    "    try:\n",
    "        xls = pd.ExcelFile(path)\n",
    "        df_estudiantes = pd.read_excel(xls, sheet_name=\"Estudiantes\")\n",
    "        df_asistencia = pd.read_excel(xls, sheet_name=\"Asistencia\")\n",
    "    except ValueError:\n",
    "        # Si no existen hojas, inicializarlas\n",
    "        df_estudiantes = pd.DataFrame(columns=[\"Nombre\", \"Programa\"])\n",
    "        df_asistencia = pd.DataFrame(columns=[\"Nombre\", \"Programa\", \"Taller\", \"Fecha\"])\n",
    "    \n",
    "    print(\"=== Registro de Asistencia - G-Líderes ===\")\n",
    "    \n",
    "    while True:\n",
    "        nombre = input(\"\\nIngrese el nombre completo del estudiante (ENTER para terminar): \").strip()\n",
    "        if nombre == \"\":\n",
    "            break\n",
    "        \n",
    "        # Verificar si el estudiante ya existe\n",
    "        if nombre in df_estudiantes[\"Nombre\"].values:\n",
    "            programa = df_estudiantes.loc[df_estudiantes[\"Nombre\"] == nombre, \"Programa\"].values[0]\n",
    "            print(f\"✅ {nombre} encontrado en la lista ({programa}).\")\n",
    "        else:\n",
    "            programa = input(f\"⚠️ {nombre} no está registrado. Ingrese el programa académico: \")\n",
    "            nuevo_estudiante = pd.DataFrame([[nombre, programa]], columns=[\"Nombre\", \"Programa\"])\n",
    "            df_estudiantes = pd.concat([df_estudiantes, nuevo_estudiante], ignore_index=True)\n",
    "            print(f\"✅ {nombre} agregado a la lista de estudiantes.\")\n",
    "        \n",
    "        # Registrar asistencia\n",
    "        taller = input(\"Ingrese el nombre del taller: \")\n",
    "        fecha = datetime.now().strftime(\"%Y-%m-%d %H:%M:%S\")\n",
    "        nuevo_registro = pd.DataFrame([[nombre, programa, taller, fecha]], \n",
    "                                      columns=[\"Nombre\", \"Programa\", \"Taller\", \"Fecha\"])\n",
    "        df_asistencia = pd.concat([df_asistencia, nuevo_registro], ignore_index=True)\n",
    "        print(f\"📌 Asistencia registrada para {nombre} en el taller '{taller}'.\")\n",
    "    \n",
    "    # Guardar de nuevo en el mismo archivo\n",
    "    with pd.ExcelWriter(path, engine=\"openpyxl\", mode=\"w\") as writer:\n",
    "        df_estudiantes.to_excel(writer, sheet_name=\"Estudiantes\", index=False)\n",
    "        df_asistencia.to_excel(writer, sheet_name=\"Asistencia\", index=False)\n",
    "    \n",
    "    print(f\"\\n📂 Registro actualizado en {path}\")\n",
    "\n"
   ]
  },
  {
   "cell_type": "code",
   "execution_count": null,
   "id": "587a7cd0",
   "metadata": {},
   "outputs": [],
   "source": [
    "registrar_asistencia()"
   ]
  },
  {
   "cell_type": "code",
   "execution_count": 2,
   "id": "b179a7ed",
   "metadata": {},
   "outputs": [
    {
     "data": {
      "application/vnd.microsoft.datawrangler.viewer.v0+json": {
       "columns": [
        {
         "name": "index",
         "rawType": "int64",
         "type": "integer"
        },
        {
         "name": "Nombre",
         "rawType": "object",
         "type": "string"
        },
        {
         "name": "Programa",
         "rawType": "object",
         "type": "string"
        }
       ],
       "ref": "e1ada620-5a88-4f4a-8403-60dc4617850a",
       "rows": [
        [
         "1",
         "marco julio cañas campillo",
         "licenciatura en matemáticas"
        ]
       ],
       "shape": {
        "columns": 2,
        "rows": 1
       }
      },
      "text/html": [
       "<div>\n",
       "<style scoped>\n",
       "    .dataframe tbody tr th:only-of-type {\n",
       "        vertical-align: middle;\n",
       "    }\n",
       "\n",
       "    .dataframe tbody tr th {\n",
       "        vertical-align: top;\n",
       "    }\n",
       "\n",
       "    .dataframe thead th {\n",
       "        text-align: right;\n",
       "    }\n",
       "</style>\n",
       "<table border=\"1\" class=\"dataframe\">\n",
       "  <thead>\n",
       "    <tr style=\"text-align: right;\">\n",
       "      <th></th>\n",
       "      <th>Nombre</th>\n",
       "      <th>Programa</th>\n",
       "    </tr>\n",
       "  </thead>\n",
       "  <tbody>\n",
       "    <tr>\n",
       "      <th>1</th>\n",
       "      <td>marco julio cañas campillo</td>\n",
       "      <td>licenciatura en matemáticas</td>\n",
       "    </tr>\n",
       "  </tbody>\n",
       "</table>\n",
       "</div>"
      ],
      "text/plain": [
       "                       Nombre                     Programa\n",
       "1  marco julio cañas campillo  licenciatura en matemáticas"
      ]
     },
     "execution_count": 2,
     "metadata": {},
     "output_type": "execute_result"
    }
   ],
   "source": [
    "import pandas as pd\n",
    "import numpy as np\n",
    "\n",
    "# Cargar la lista de estudiantes desde el archivo CSV\n",
    "path = 'C:/Users/marco/Documentos/docencia/groups_list/g_lideres.xlsx'\n",
    "df = pd.read_excel(path)\n",
    "df.index = range(1, len(df) + 1)\n",
    "df.head(3)"
   ]
  },
  {
   "cell_type": "markdown",
   "id": "1ff444d5",
   "metadata": {},
   "source": [
    "# 2. Dataset para predicción de otorgamiento de una tarjeta de crédito  \n",
    "\n"
   ]
  },
  {
   "cell_type": "markdown",
   "id": "cac6b126",
   "metadata": {},
   "source": [
    "\n",
    "### Corrección propuesta\n"
   ]
  },
  {
   "cell_type": "markdown",
   "id": "08acef18",
   "metadata": {},
   "source": [
    "\n",
    "Definamos una **regla determinista y linealmente separable**:\n",
    "\n",
    "* Si `(ingresos > 5,000,000) + (edad > 30) + (nivel_endeudamiento < 0.5) ≥ 2` → **OtorgarTarjeta = 1**,\n",
    "* en caso contrario → **OtorgarTarjeta = 0**.\n",
    "\n",
    "Esto asegura que cualquier par de variables predictores se pueda separar linealmente con un hiperplano.\n",
    "\n",
    "---\n"
   ]
  },
  {
   "cell_type": "markdown",
   "id": "2aa5156f",
   "metadata": {},
   "source": [
    "\n",
    "###  Código corregido\n",
    "\n",
    "\n"
   ]
  },
  {
   "cell_type": "markdown",
   "id": "71229df2",
   "metadata": {},
   "source": [
    "\n",
    "Lo que pasa con tu código es que definiste la variable objetivo (`OtorgarTarjeta`) usando una **regla lógica de unión de rectas (AND/OR de condiciones)**, lo que en general NO garantiza **separabilidad lineal estricta**.\n"
   ]
  },
  {
   "cell_type": "markdown",
   "id": "a65d6bd2",
   "metadata": {},
   "source": [
    "\n",
    "Para obtener un dataset **linealmente separable con una sola recta** en el plano (Edad vs IngresosMensuales), necesitamos que la frontera de decisión pueda escribirse como:\n",
    "\n",
    "$$\n",
    "a \\cdot \\text{Edad} + b \\cdot \\text{IngresosMensuales} + c = 0\n",
    "$$\n",
    "\n",
    "y la clase se defina en función del signo de esa expresión.\n"
   ]
  },
  {
   "cell_type": "markdown",
   "id": "3657c25e",
   "metadata": {},
   "source": [
    "\n",
    "Aquí te dejo el código corregido y simplificado 👇:\n"
   ]
  },
  {
   "cell_type": "code",
   "execution_count": 9,
   "id": "8f4c47f1",
   "metadata": {},
   "outputs": [
    {
     "data": {
      "application/vnd.microsoft.datawrangler.viewer.v0+json": {
       "columns": [
        {
         "name": "index",
         "rawType": "int64",
         "type": "integer"
        },
        {
         "name": "Edad",
         "rawType": "int32",
         "type": "integer"
        },
        {
         "name": "IngresosMensuales",
         "rawType": "int32",
         "type": "integer"
        },
        {
         "name": "OtorgarTarjeta",
         "rawType": "int64",
         "type": "integer"
        }
       ],
       "ref": "977b1b77-1b88-4efa-8724-0739d4e7037a",
       "rows": [
        [
         "1",
         "36",
         "8227546",
         "1"
        ],
        [
         "2",
         "53",
         "4473550",
         "0"
        ],
        [
         "3",
         "24",
         "4073084",
         "1"
        ],
        [
         "4",
         "56",
         "1556870",
         "0"
        ],
        [
         "5",
         "52",
         "5714001",
         "0"
        ],
        [
         "6",
         "31",
         "9311586",
         "1"
        ],
        [
         "7",
         "29",
         "4930441",
         "1"
        ],
        [
         "8",
         "49",
         "7515084",
         "1"
        ],
        [
         "9",
         "29",
         "9511003",
         "1"
        ],
        [
         "10",
         "52",
         "9944231",
         "1"
        ],
        [
         "11",
         "54",
         "7325662",
         "0"
        ],
        [
         "12",
         "44",
         "4573698",
         "0"
        ],
        [
         "13",
         "35",
         "4774883",
         "0"
        ],
        [
         "14",
         "58",
         "4723860",
         "0"
        ],
        [
         "15",
         "60",
         "5152762",
         "0"
        ],
        [
         "16",
         "21",
         "8892432",
         "1"
        ],
        [
         "17",
         "18",
         "8509719",
         "1"
        ],
        [
         "18",
         "64",
         "2020203",
         "0"
        ],
        [
         "19",
         "57",
         "9932316",
         "1"
        ],
        [
         "20",
         "20",
         "6753619",
         "1"
        ],
        [
         "21",
         "21",
         "9416330",
         "1"
        ],
        [
         "22",
         "60",
         "4065290",
         "0"
        ],
        [
         "23",
         "51",
         "4207968",
         "0"
        ],
        [
         "24",
         "59",
         "7486721",
         "0"
        ],
        [
         "25",
         "21",
         "1857433",
         "0"
        ],
        [
         "26",
         "37",
         "4791304",
         "0"
        ],
        [
         "27",
         "19",
         "6135774",
         "1"
        ],
        [
         "28",
         "61",
         "8595547",
         "1"
        ],
        [
         "29",
         "62",
         "8815079",
         "1"
        ],
        [
         "30",
         "43",
         "5426308",
         "0"
        ],
        [
         "31",
         "44",
         "8849208",
         "1"
        ],
        [
         "32",
         "68",
         "1818870",
         "0"
        ],
        [
         "33",
         "23",
         "2513226",
         "0"
        ],
        [
         "34",
         "56",
         "6424814",
         "0"
        ],
        [
         "35",
         "57",
         "6358329",
         "0"
        ],
        [
         "36",
         "45",
         "5915362",
         "0"
        ],
        [
         "37",
         "55",
         "8056824",
         "1"
        ],
        [
         "38",
         "27",
         "8667222",
         "1"
        ],
        [
         "39",
         "33",
         "9401126",
         "1"
        ],
        [
         "40",
         "18",
         "8047238",
         "1"
        ],
        [
         "41",
         "47",
         "7060262",
         "1"
        ],
        [
         "42",
         "23",
         "3129065",
         "0"
        ],
        [
         "43",
         "44",
         "4752493",
         "0"
        ],
        [
         "44",
         "22",
         "6287006",
         "1"
        ],
        [
         "45",
         "20",
         "1835287",
         "0"
        ],
        [
         "46",
         "54",
         "6749348",
         "0"
        ],
        [
         "47",
         "23",
         "9569061",
         "1"
        ],
        [
         "48",
         "54",
         "9870747",
         "1"
        ],
        [
         "49",
         "21",
         "2199908",
         "0"
        ],
        [
         "50",
         "22",
         "9904951",
         "1"
        ]
       ],
       "shape": {
        "columns": 3,
        "rows": 100
       }
      },
      "text/html": [
       "<div>\n",
       "<style scoped>\n",
       "    .dataframe tbody tr th:only-of-type {\n",
       "        vertical-align: middle;\n",
       "    }\n",
       "\n",
       "    .dataframe tbody tr th {\n",
       "        vertical-align: top;\n",
       "    }\n",
       "\n",
       "    .dataframe thead th {\n",
       "        text-align: right;\n",
       "    }\n",
       "</style>\n",
       "<table border=\"1\" class=\"dataframe\">\n",
       "  <thead>\n",
       "    <tr style=\"text-align: right;\">\n",
       "      <th></th>\n",
       "      <th>Edad</th>\n",
       "      <th>IngresosMensuales</th>\n",
       "      <th>OtorgarTarjeta</th>\n",
       "    </tr>\n",
       "  </thead>\n",
       "  <tbody>\n",
       "    <tr>\n",
       "      <th>1</th>\n",
       "      <td>36</td>\n",
       "      <td>8227546</td>\n",
       "      <td>1</td>\n",
       "    </tr>\n",
       "    <tr>\n",
       "      <th>2</th>\n",
       "      <td>53</td>\n",
       "      <td>4473550</td>\n",
       "      <td>0</td>\n",
       "    </tr>\n",
       "    <tr>\n",
       "      <th>3</th>\n",
       "      <td>24</td>\n",
       "      <td>4073084</td>\n",
       "      <td>1</td>\n",
       "    </tr>\n",
       "    <tr>\n",
       "      <th>4</th>\n",
       "      <td>56</td>\n",
       "      <td>1556870</td>\n",
       "      <td>0</td>\n",
       "    </tr>\n",
       "    <tr>\n",
       "      <th>5</th>\n",
       "      <td>52</td>\n",
       "      <td>5714001</td>\n",
       "      <td>0</td>\n",
       "    </tr>\n",
       "    <tr>\n",
       "      <th>...</th>\n",
       "      <td>...</td>\n",
       "      <td>...</td>\n",
       "      <td>...</td>\n",
       "    </tr>\n",
       "    <tr>\n",
       "      <th>96</th>\n",
       "      <td>18</td>\n",
       "      <td>1724575</td>\n",
       "      <td>0</td>\n",
       "    </tr>\n",
       "    <tr>\n",
       "      <th>97</th>\n",
       "      <td>49</td>\n",
       "      <td>2946726</td>\n",
       "      <td>0</td>\n",
       "    </tr>\n",
       "    <tr>\n",
       "      <th>98</th>\n",
       "      <td>29</td>\n",
       "      <td>6179579</td>\n",
       "      <td>1</td>\n",
       "    </tr>\n",
       "    <tr>\n",
       "      <th>99</th>\n",
       "      <td>37</td>\n",
       "      <td>1931376</td>\n",
       "      <td>0</td>\n",
       "    </tr>\n",
       "    <tr>\n",
       "      <th>100</th>\n",
       "      <td>35</td>\n",
       "      <td>9419004</td>\n",
       "      <td>1</td>\n",
       "    </tr>\n",
       "  </tbody>\n",
       "</table>\n",
       "<p>100 rows × 3 columns</p>\n",
       "</div>"
      ],
      "text/plain": [
       "     Edad  IngresosMensuales  OtorgarTarjeta\n",
       "1      36            8227546               1\n",
       "2      53            4473550               0\n",
       "3      24            4073084               1\n",
       "4      56            1556870               0\n",
       "5      52            5714001               0\n",
       "..    ...                ...             ...\n",
       "96     18            1724575               0\n",
       "97     49            2946726               0\n",
       "98     29            6179579               1\n",
       "99     37            1931376               0\n",
       "100    35            9419004               1\n",
       "\n",
       "[100 rows x 3 columns]"
      ]
     },
     "execution_count": 9,
     "metadata": {},
     "output_type": "execute_result"
    }
   ],
   "source": [
    "\n",
    "\n",
    "import numpy as np\n",
    "import pandas as pd\n",
    "import matplotlib.pyplot as plt\n",
    "\n",
    "# Fijamos semilla para reproducibilidad\n",
    "np.random.seed(702)\n",
    "\n",
    "# Número de muestras\n",
    "n_samples = 100\n",
    "\n",
    "# Variables simuladas: solo 2 atributos\n",
    "edad = np.random.randint(18, 70, n_samples)\n",
    "ingresos_mensuales = np.random.randint(1_423_500, 10_000_000, n_samples)\n",
    "\n",
    "# Definimos una recta de separación: y = 120000 * Edad + 1e6\n",
    "umbral = 120_000 * edad + 1_000_000\n",
    "\n",
    "# Regla determinista linealmente separable\n",
    "aprobacion = (ingresos_mensuales > umbral).astype(int)\n",
    "\n",
    "# Crear DataFrame\n",
    "df = pd.DataFrame({\n",
    "    'Edad': edad,\n",
    "    'IngresosMensuales': ingresos_mensuales,\n",
    "    'OtorgarTarjeta': aprobacion\n",
    "})\n",
    "df.index = range(1, len(df)+1)\n",
    "df\n"
   ]
  },
  {
   "cell_type": "code",
   "execution_count": 10,
   "id": "9373be97",
   "metadata": {},
   "outputs": [
    {
     "data": {
      "image/png": "[encoded data removed]",
      "text/plain": [
       "<Figure size 800x600 with 1 Axes>"
      ]
     },
     "metadata": {},
     "output_type": "display_data"
    },
    {
     "data": {
      "application/vnd.microsoft.datawrangler.viewer.v0+json": {
       "columns": [
        {
         "name": "index",
         "rawType": "int64",
         "type": "integer"
        },
        {
         "name": "Edad",
         "rawType": "int32",
         "type": "integer"
        },
        {
         "name": "IngresosMensuales",
         "rawType": "int32",
         "type": "integer"
        },
        {
         "name": "OtorgarTarjeta",
         "rawType": "int64",
         "type": "integer"
        }
       ],
       "ref": "0e4ee9d2-35db-438c-9c70-b6fc6aea1c89",
       "rows": [
        [
         "1",
         "36",
         "8227546",
         "1"
        ],
        [
         "2",
         "53",
         "4473550",
         "0"
        ],
        [
         "3",
         "24",
         "4073084",
         "1"
        ],
        [
         "4",
         "56",
         "1556870",
         "0"
        ],
        [
         "5",
         "52",
         "5714001",
         "0"
        ]
       ],
       "shape": {
        "columns": 3,
        "rows": 5
       }
      },
      "text/html": [
       "<div>\n",
       "<style scoped>\n",
       "    .dataframe tbody tr th:only-of-type {\n",
       "        vertical-align: middle;\n",
       "    }\n",
       "\n",
       "    .dataframe tbody tr th {\n",
       "        vertical-align: top;\n",
       "    }\n",
       "\n",
       "    .dataframe thead th {\n",
       "        text-align: right;\n",
       "    }\n",
       "</style>\n",
       "<table border=\"1\" class=\"dataframe\">\n",
       "  <thead>\n",
       "    <tr style=\"text-align: right;\">\n",
       "      <th></th>\n",
       "      <th>Edad</th>\n",
       "      <th>IngresosMensuales</th>\n",
       "      <th>OtorgarTarjeta</th>\n",
       "    </tr>\n",
       "  </thead>\n",
       "  <tbody>\n",
       "    <tr>\n",
       "      <th>1</th>\n",
       "      <td>36</td>\n",
       "      <td>8227546</td>\n",
       "      <td>1</td>\n",
       "    </tr>\n",
       "    <tr>\n",
       "      <th>2</th>\n",
       "      <td>53</td>\n",
       "      <td>4473550</td>\n",
       "      <td>0</td>\n",
       "    </tr>\n",
       "    <tr>\n",
       "      <th>3</th>\n",
       "      <td>24</td>\n",
       "      <td>4073084</td>\n",
       "      <td>1</td>\n",
       "    </tr>\n",
       "    <tr>\n",
       "      <th>4</th>\n",
       "      <td>56</td>\n",
       "      <td>1556870</td>\n",
       "      <td>0</td>\n",
       "    </tr>\n",
       "    <tr>\n",
       "      <th>5</th>\n",
       "      <td>52</td>\n",
       "      <td>5714001</td>\n",
       "      <td>0</td>\n",
       "    </tr>\n",
       "  </tbody>\n",
       "</table>\n",
       "</div>"
      ],
      "text/plain": [
       "   Edad  IngresosMensuales  OtorgarTarjeta\n",
       "1    36            8227546               1\n",
       "2    53            4473550               0\n",
       "3    24            4073084               1\n",
       "4    56            1556870               0\n",
       "5    52            5714001               0"
      ]
     },
     "execution_count": 10,
     "metadata": {},
     "output_type": "execute_result"
    },
    {
     "data": {
      "text/plain": [
       "<Figure size 640x480 with 0 Axes>"
      ]
     },
     "metadata": {},
     "output_type": "display_data"
    }
   ],
   "source": [
    "# Gráfico: Edad vs IngresosMensuales con separación lineal\n",
    "plt.figure(figsize=(8,6))\n",
    "colors = df['OtorgarTarjeta'].map({0: 'red', 1: 'green'})\n",
    "plt.scatter(df['Edad'], df['IngresosMensuales'], c=colors, s=80, alpha=0.7, edgecolor='k')\n",
    "\n",
    "# Línea de separación exacta\n",
    "x_vals = np.array([18, 70])\n",
    "y_vals = 120000 * x_vals + 1_000_000\n",
    "plt.plot(x_vals, y_vals, '--b', label=\"Frontera lineal\")\n",
    "\n",
    "plt.xlabel(\"Edad\")\n",
    "plt.ylabel(\"Ingresos Mensuales (COP)\")\n",
    "plt.title(\"Separación lineal: Edad vs IngresosMensuales\")\n",
    "plt.legend()\n",
    "plt.grid(True)\n",
    "plt.show()\n",
    "plt.savefig(r\"C:\\Users\\marco\\Downloads\\otorgar_tarjeta_linealmente_separable.png\")\n",
    "df.head()\n",
    "\n"
   ]
  },
  {
   "cell_type": "markdown",
   "id": "a6fc862e",
   "metadata": {},
   "source": [
    "\n",
    "### Cambios clave:\n",
    "\n",
    "* Dejé **solo dos atributos**: `Edad` y `IngresosMensuales`.\n",
    "* Definí la clase objetivo con una **única desigualdad lineal** respecto a una recta.\n",
    "* Ahora **sí es estrictamente separable linealmente**: toda la clase positiva queda arriba de la recta y toda la negativa queda abajo.\n",
    "\n",
    "---\n"
   ]
  },
  {
   "cell_type": "markdown",
   "id": "ee280172",
   "metadata": {},
   "source": [
    "\n",
    "👉 ¿Quieres que te deje parametrizable el **pendiente e intercepto de la recta** (para que la ajustes manualmente a tus datos)?\n"
   ]
  },
  {
   "cell_type": "markdown",
   "id": "2e375beb",
   "metadata": {},
   "source": [
    "\n",
    "Ya que tus datos son **linealmente separables**, el **Perceptrón clásico** (de Rosenblatt, 1958) debería converger y aprender la frontera lineal que definimos.\n",
    "\n",
    "Aquí te paso el código en Python paso a paso:\n",
    "\n",
    "---\n"
   ]
  },
  {
   "cell_type": "markdown",
   "id": "3070690c",
   "metadata": {},
   "source": [
    "\n",
    "# Implementación del Perceptrón\n"
   ]
  },
  {
   "cell_type": "code",
   "execution_count": 12,
   "id": "24dcf8b5",
   "metadata": {},
   "outputs": [
    {
     "name": "stdout",
     "output_type": "stream",
     "text": [
      "🔹 Exactitud (accuracy): 0.565\n",
      "\n",
      "🔹 Matriz de confusión:\n",
      " [[113   0]\n",
      " [ 87   0]]\n",
      "\n",
      "🔹 Reporte de clasificación:\n",
      "               precision    recall  f1-score   support\n",
      "\n",
      "           0       0.56      1.00      0.72       113\n",
      "           1       0.00      0.00      0.00        87\n",
      "\n",
      "    accuracy                           0.56       200\n",
      "   macro avg       0.28      0.50      0.36       200\n",
      "weighted avg       0.32      0.56      0.41       200\n",
      "\n"
     ]
    },
    {
     "name": "stderr",
     "output_type": "stream",
     "text": [
      "c:\\Users\\marco\\Documentos\\investigacion\\ml_dl_intro\\.venv\\Lib\\site-packages\\sklearn\\metrics\\_classification.py:1731: UndefinedMetricWarning: Precision is ill-defined and being set to 0.0 in labels with no predicted samples. Use `zero_division` parameter to control this behavior.\n",
      "  _warn_prf(average, modifier, f\"{metric.capitalize()} is\", result.shape[0])\n",
      "c:\\Users\\marco\\Documentos\\investigacion\\ml_dl_intro\\.venv\\Lib\\site-packages\\sklearn\\metrics\\_classification.py:1731: UndefinedMetricWarning: Precision is ill-defined and being set to 0.0 in labels with no predicted samples. Use `zero_division` parameter to control this behavior.\n",
      "  _warn_prf(average, modifier, f\"{metric.capitalize()} is\", result.shape[0])\n",
      "c:\\Users\\marco\\Documentos\\investigacion\\ml_dl_intro\\.venv\\Lib\\site-packages\\sklearn\\metrics\\_classification.py:1731: UndefinedMetricWarning: Precision is ill-defined and being set to 0.0 in labels with no predicted samples. Use `zero_division` parameter to control this behavior.\n",
      "  _warn_prf(average, modifier, f\"{metric.capitalize()} is\", result.shape[0])\n"
     ]
    },
    {
     "data": {
      "image/png": "[encoded data removed]",
      "text/plain": [
       "<Figure size 800x600 with 1 Axes>"
      ]
     },
     "metadata": {},
     "output_type": "display_data"
    }
   ],
   "source": [
    "import numpy as np\n",
    "import pandas as pd\n",
    "import matplotlib.pyplot as plt\n",
    "from sklearn.linear_model import Perceptron\n",
    "from sklearn.metrics import accuracy_score, confusion_matrix, classification_report\n",
    "\n",
    "# ============================\n",
    "# 1. Generar dataset linealmente separable\n",
    "# ============================\n",
    "np.random.seed(702)\n",
    "n_samples = 200\n",
    "\n",
    "edad = np.random.randint(18, 70, n_samples)\n",
    "ingresos_mensuales = np.random.randint(1_423_500, 10_000_000, n_samples)\n",
    "\n",
    "# Frontera lineal: y = 120000 * edad + 1e6\n",
    "umbral = 120000 * edad + 1_000_000\n",
    "aprobacion = (ingresos_mensuales > umbral).astype(int)\n",
    "\n",
    "df = pd.DataFrame({\n",
    "    \"Edad\": edad,\n",
    "    \"IngresosMensuales\": ingresos_mensuales,\n",
    "    \"OtorgarTarjeta\": aprobacion\n",
    "})\n",
    "\n",
    "# ============================\n",
    "# 2. Dividir en predictores (X) y variable objetivo (y)\n",
    "# ============================\n",
    "X = df[[\"Edad\", \"IngresosMensuales\"]].values\n",
    "y = df[\"OtorgarTarjeta\"].values\n",
    "\n",
    "# ============================\n",
    "# 3. Entrenar Perceptrón\n",
    "# ============================\n",
    "perceptron = Perceptron(max_iter=1000, tol=1e-3, random_state=42)\n",
    "perceptron.fit(X, y)\n",
    "\n",
    "# ============================\n",
    "# 4. Evaluar desempeño\n",
    "# ============================\n",
    "y_pred = perceptron.predict(X)\n",
    "acc = accuracy_score(y, y_pred)\n",
    "\n",
    "print(\"🔹 Exactitud (accuracy):\", acc)\n",
    "print(\"\\n🔹 Matriz de confusión:\\n\", confusion_matrix(y, y_pred))\n",
    "print(\"\\n🔹 Reporte de clasificación:\\n\", classification_report(y, y_pred))\n",
    "\n",
    "# ============================\n",
    "# 5. Visualizar frontera de decisión\n",
    "# ============================\n",
    "plt.figure(figsize=(8,6))\n",
    "\n",
    "# Puntos de datos\n",
    "colors = df['OtorgarTarjeta'].map({0:'red', 1:'green'})\n",
    "plt.scatter(df['Edad'], df['IngresosMensuales'], c=colors, s=60, alpha=0.7, edgecolor='k')\n",
    "\n",
    "# Frontera aprendida por el perceptrón\n",
    "x_vals = np.linspace(18, 70, 100)\n",
    "# w0 + w1*x1 + w2*x2 = 0  ->  x2 = -(w0 + w1*x1)/w2\n",
    "w0 = perceptron.intercept_[0]\n",
    "w1, w2 = perceptron.coef_[0]\n",
    "y_vals = -(w0 + w1*x_vals) / w2\n",
    "plt.plot(x_vals, y_vals, '--b', label=\"Frontera aprendida (Perceptrón)\")\n",
    "\n",
    "# Frontera real (para comparar)\n",
    "y_real = 120000 * x_vals + 1_000_000\n",
    "plt.plot(x_vals, y_real, '--m', label=\"Frontera real\")\n",
    "\n",
    "plt.xlabel(\"Edad\")\n",
    "plt.ylabel(\"Ingresos Mensuales (COP)\")\n",
    "plt.title(\"Perceptrón en datos linealmente separables\")\n",
    "plt.legend()\n",
    "plt.grid(True)\n",
    "plt.show()\n"
   ]
  },
  {
   "cell_type": "markdown",
   "id": "f4458ab5",
   "metadata": {},
   "source": [
    "\n",
    "\n",
    "---\n",
    "\n",
    "## 📊 ¿Qué hace este código?\n",
    "\n",
    "1. **Genera los datos** (dos atributos: `Edad`, `IngresosMensuales`).\n",
    "2. **Define una regla lineal de clasificación** → clase positiva si está por encima de la recta.\n",
    "3. **Entrena un Perceptrón** usando `sklearn.linear_model.Perceptron`.\n",
    "4. **Evalúa con métricas**: exactitud, matriz de confusión y reporte de clasificación.\n",
    "5. **Grafica la frontera de decisión aprendida vs. la frontera real**.\n",
    "\n",
    "Como los datos son **perfectamente separables**, deberías obtener `accuracy = 1.0` (o muy cercano). ✅\n",
    "\n",
    "---\n",
    "\n",
    "👉 ¿Quieres que te prepare también la **implementación desde cero (con NumPy)** del Perceptrón clásico (sin `sklearn`) para que tus estudiantes vean el algoritmo paso a paso?\n"
   ]
  },
  {
   "cell_type": "markdown",
   "id": "29e38af4",
   "metadata": {},
   "source": [
    "# Implementación desde cero con numpy  \n",
    "\n",
    "¡Excelente, Marco! 🚀\n",
    "Vamos a implementar el **Perceptrón clásico desde cero con NumPy**, de forma que tus estudiantes vean el **algoritmo de aprendizaje paso a paso**:\n",
    "\n",
    "---\n",
    "\n",
    "## 📌 Perceptrón clásico con NumPy\n",
    "\n",
    "```python\n",
    "import numpy as np\n",
    "import matplotlib.pyplot as plt\n",
    "\n",
    "# ============================\n",
    "# 1. Generar dataset linealmente separable\n",
    "# ============================\n",
    "np.random.seed(702)\n",
    "n_samples = 200\n",
    "\n",
    "edad = np.random.randint(18, 70, n_samples)\n",
    "ingresos_mensuales = np.random.randint(1_423_500, 10_000_000, n_samples)\n",
    "\n",
    "# Frontera real: ingresos > 120000*edad + 1e6\n",
    "umbral = 120000 * edad + 1_000_000\n",
    "y = (ingresos_mensuales > umbral).astype(int)\n",
    "\n",
    "X = np.c_[edad, ingresos_mensuales]\n",
    "\n",
    "# ============================\n",
    "# 2. Implementación Perceptrón clásico\n",
    "# ============================\n",
    "class Perceptron:\n",
    "    def __init__(self, learning_rate=0.01, n_iter=1000):\n",
    "        self.lr = learning_rate\n",
    "        self.n_iter = n_iter\n",
    "    \n",
    "    def fit(self, X, y):\n",
    "        # Convertir etiquetas a {-1, 1} (requisito del algoritmo clásico)\n",
    "        y_ = np.where(y == 0, -1, 1)\n",
    "        \n",
    "        # Inicializar pesos\n",
    "        self.w = np.zeros(X.shape[1])\n",
    "        self.b = 0\n",
    "        \n",
    "        # Entrenamiento\n",
    "        for _ in range(self.n_iter):\n",
    "            for xi, target in zip(X, y_):\n",
    "                # Regla de actualización si hay error\n",
    "                condition = target * (np.dot(xi, self.w) + self.b)\n",
    "                if condition <= 0:\n",
    "                    self.w += self.lr * target * xi\n",
    "                    self.b += self.lr * target\n",
    "        return self\n",
    "    \n",
    "    def predict(self, X):\n",
    "        linear_output = np.dot(X, self.w) + self.b\n",
    "        return np.where(linear_output >= 0, 1, 0)  # salida en {0,1}\n",
    "\n",
    "# ============================\n",
    "# 3. Entrenar perceptrón\n",
    "# ============================\n",
    "perceptron = Perceptron(learning_rate=0.000000001, n_iter=20)  # lr pequeño por escala de ingresos\n",
    "perceptron.fit(X, y)\n",
    "\n",
    "# Predicciones\n",
    "y_pred = perceptron.predict(X)\n",
    "acc = np.mean(y_pred == y)\n",
    "print(\"🔹 Exactitud (accuracy):\", acc)\n",
    "\n",
    "# ============================\n",
    "# 4. Visualizar frontera aprendida\n",
    "# ============================\n",
    "plt.figure(figsize=(8,6))\n",
    "\n",
    "# Puntos de datos\n",
    "colors = np.where(y==0, \"red\", \"green\")\n",
    "plt.scatter(X[:,0], X[:,1], c=colors, s=60, alpha=0.7, edgecolor=\"k\")\n",
    "\n",
    "# Frontera aprendida\n",
    "x_vals = np.linspace(18, 70, 100)\n",
    "# w0*x1 + w1*x2 + b = 0  ->  x2 = -(w0*x1 + b)/w1\n",
    "y_vals = -(perceptron.w[0]*x_vals + perceptron.b) / perceptron.w[1]\n",
    "plt.plot(x_vals, y_vals, \"--b\", label=\"Frontera aprendida\")\n",
    "\n",
    "# Frontera real\n",
    "y_real = 120000*x_vals + 1_000_000\n",
    "plt.plot(x_vals, y_real, \"--m\", label=\"Frontera real\")\n",
    "\n",
    "plt.xlabel(\"Edad\")\n",
    "plt.ylabel(\"Ingresos Mensuales (COP)\")\n",
    "plt.title(\"Perceptrón clásico desde cero\")\n",
    "plt.legend()\n",
    "plt.grid(True)\n",
    "plt.show()\n",
    "```\n",
    "\n",
    "---\n",
    "\n",
    "## 📊 Explicación del algoritmo\n",
    "\n",
    "1. **Inicialización:** pesos y sesgo en cero.\n",
    "2. **Regla de actualización:**\n",
    "\n",
    "   * Si una muestra está mal clasificada:\n",
    "\n",
    "     $$\n",
    "     w \\leftarrow w + \\eta \\cdot y_i \\cdot x_i, \\quad b \\leftarrow b + \\eta \\cdot y_i\n",
    "     $$\n",
    "   * Donde $\\eta$ es la tasa de aprendizaje.\n",
    "3. **Iteraciones:** repite el proceso sobre el dataset varias veces.\n",
    "4. **Predicción:** signo de $w \\cdot x + b$.\n",
    "\n",
    "---\n",
    "\n",
    "✅ Con este código, tus estudiantes pueden **ver cómo el perceptrón ajusta los pesos paso a paso** hasta aprender la frontera lineal.\n",
    "\n",
    "---\n",
    "\n",
    "¿Quieres que te prepare también una **visualización animada del proceso de entrenamiento** (cómo la frontera va cambiando en cada época) para hacerlo más didáctico en clase?\n"
   ]
  },
  {
   "cell_type": "markdown",
   "id": "146a5f7d",
   "metadata": {},
   "source": [
    "# Visualización animada del proceso de entrenamiento\n",
    "\n",
    "¡Perfecto, Marco! 🚀\n",
    "Vamos a hacer una **visualización animada del entrenamiento del perceptrón**, para que tus estudiantes vean cómo la **frontera de decisión** va cambiando a lo largo de las épocas.\n",
    "\n",
    "Aquí tienes el código:\n",
    "\n",
    "---\n",
    "\n",
    "## 📌 Perceptrón con animación de la frontera de decisión\n",
    "\n",
    "```python\n",
    "import numpy as np\n",
    "import matplotlib.pyplot as plt\n",
    "from matplotlib.animation import FuncAnimation\n",
    "\n",
    "# ============================\n",
    "# 1. Generar dataset linealmente separable\n",
    "# ============================\n",
    "np.random.seed(702)\n",
    "n_samples = 100\n",
    "\n",
    "edad = np.random.randint(18, 70, n_samples)\n",
    "ingresos_mensuales = np.random.randint(1_423_500, 10_000_000, n_samples)\n",
    "\n",
    "# Frontera real: ingresos > 120000*edad + 1e6\n",
    "umbral = 120000 * edad + 1_000_000\n",
    "y = (ingresos_mensuales > umbral).astype(int)\n",
    "\n",
    "X = np.c_[edad, ingresos_mensuales]\n",
    "\n",
    "# ============================\n",
    "# 2. Implementación Perceptrón con registro de pesos\n",
    "# ============================\n",
    "class Perceptron:\n",
    "    def __init__(self, learning_rate=1e-9, n_iter=20):\n",
    "        self.lr = learning_rate\n",
    "        self.n_iter = n_iter\n",
    "        self.history = []  # para guardar pesos y bias en cada época\n",
    "    \n",
    "    def fit(self, X, y):\n",
    "        y_ = np.where(y == 0, -1, 1)\n",
    "        self.w = np.zeros(X.shape[1])\n",
    "        self.b = 0\n",
    "        \n",
    "        for _ in range(self.n_iter):\n",
    "            for xi, target in zip(X, y_):\n",
    "                condition = target * (np.dot(xi, self.w) + self.b)\n",
    "                if condition <= 0:\n",
    "                    self.w += self.lr * target * xi\n",
    "                    self.b += self.lr * target\n",
    "            # guardar copia de los parámetros al final de cada época\n",
    "            self.history.append((self.w.copy(), self.b))\n",
    "        return self\n",
    "    \n",
    "    def predict(self, X):\n",
    "        linear_output = np.dot(X, self.w) + self.b\n",
    "        return np.where(linear_output >= 0, 1, 0)\n",
    "\n",
    "# ============================\n",
    "# 3. Entrenar perceptrón\n",
    "# ============================\n",
    "perceptron = Perceptron(learning_rate=1e-9, n_iter=20)\n",
    "perceptron.fit(X, y)\n",
    "\n",
    "# ============================\n",
    "# 4. Animación del entrenamiento\n",
    "# ============================\n",
    "fig, ax = plt.subplots(figsize=(8,6))\n",
    "\n",
    "# Dibujar datos\n",
    "colors = np.where(y==0, \"red\", \"green\")\n",
    "ax.scatter(X[:,0], X[:,1], c=colors, s=60, alpha=0.7, edgecolor=\"k\")\n",
    "\n",
    "# Frontera real\n",
    "x_vals = np.linspace(18, 70, 100)\n",
    "y_real = 120000*x_vals + 1_000_000\n",
    "ax.plot(x_vals, y_real, \"--m\", label=\"Frontera real\")\n",
    "\n",
    "# Línea inicial de decisión (será actualizada en la animación)\n",
    "line, = ax.plot([], [], \"--b\", label=\"Frontera aprendida\")\n",
    "\n",
    "ax.set_xlim(15, 75)\n",
    "ax.set_ylim(0, 11_000_000)\n",
    "ax.set_xlabel(\"Edad\")\n",
    "ax.set_ylabel(\"Ingresos Mensuales (COP)\")\n",
    "ax.set_title(\"Entrenamiento del Perceptrón\")\n",
    "ax.legend()\n",
    "ax.grid(True)\n",
    "\n",
    "# Función de actualización de la animación\n",
    "def update(frame):\n",
    "    w, b = perceptron.history[frame]\n",
    "    y_vals = -(w[0]*x_vals + b) / w[1]\n",
    "    line.set_data(x_vals, y_vals)\n",
    "    ax.set_title(f\"Época {frame+1}\")\n",
    "    return line,\n",
    "\n",
    "# Crear animación\n",
    "ani = FuncAnimation(fig, update, frames=len(perceptron.history),\n",
    "                    interval=700, blit=True, repeat=True)\n",
    "\n",
    "plt.show()\n",
    "```\n",
    "\n",
    "---\n",
    "\n",
    "### 🔎 ¿Qué verán tus estudiantes?\n",
    "\n",
    "* Los **puntos rojos** son la clase negativa (rechazo).\n",
    "* Los **puntos verdes** son la clase positiva (aprobación).\n",
    "* La **línea magenta** es la frontera real (regla determinista).\n",
    "* La **línea azul** es la frontera que el perceptrón va aprendiendo.\n",
    "* En cada **época**, la línea azul se ajusta hasta converger.\n",
    "\n",
    "---\n",
    "\n",
    "¿Quieres que además te genere una **versión exportable a GIF/MP4** (con `matplotlib.animation`) para que puedas mostrar la animación en clase sin necesidad de ejecutar el notebook en vivo?\n"
   ]
  },
  {
   "cell_type": "markdown",
   "id": "3cac948a",
   "metadata": {},
   "source": [
    "# Sobre la lectura interactiva y experimental  \n",
    "\n",
    "La **lectura interactiva y experimental** de los cuadernos Jupyter diseñados para el curso de **Fundamentos de Lógica** implica un enfoque dinámico y práctico para el aprendizaje, donde los estudiantes no solo consumen información teórica, sino que también interactúan con el contenido, modifican ejemplos, ejecutan código y experimentan con los conceptos lógicos en un entorno computacional. A continuación, se detallan las características clave de este enfoque:\n",
    "\n",
    "---\n"
   ]
  },
  {
   "cell_type": "markdown",
   "id": "bab6c6f9",
   "metadata": {},
   "source": [
    "\n",
    "### **1. Lectura Interactiva**  \n",
    "- **Manipulación directa del contenido**: Los estudiantes pueden ejecutar celdas de código, modificar fórmulas lógicas o ejemplos, y observar cómo cambian los resultados en tiempo real.  \n",
    "- **Visualización interactiva**: Uso de gráficos, diagramas (como árboles semánticos o tablas de verdad) o herramientas que respondan a entradas del usuario para ilustrar conceptos como validez, consistencia o inferencia.  \n",
    "- **Retroalimentación inmediata**: Los cuadernos pueden incluir ejercicios con autoevaluación (ejecutando código que verifica soluciones) o explicaciones emergentes al resolver problemas.  \n",
    "\n",
    "---\n"
   ]
  },
  {
   "cell_type": "markdown",
   "id": "05442fd7",
   "metadata": {},
   "source": [
    "\n",
    "### **2. Lectura Experimental**  \n",
    "- **Aprendizaje basado en prueba y error**: Los estudiantes pueden \"jugar\" con estructuras lógicas (por ejemplo, modificar conectores en una fórmula proposicional y ver cómo afecta su tabla de verdad).  \n",
    "- **Simulación de escenarios**: Por ejemplo, modelar argumentos en lógica de primer orden y evaluar su corrección mediante ejecución de código (usando librerías como `sympy` o herramientas ad-hoc).  \n",
    "- **Exploración guiada y abierta**: Se incluyen secciones con consignas del tipo *\"¿Qué pasa si cambias este axioma?\"* o *\"Intenta construir un contraejemplo\"* para fomentar la curiosidad.  \n",
    "\n",
    "---\n"
   ]
  },
  {
   "cell_type": "markdown",
   "id": "374a8ea9",
   "metadata": {},
   "source": [
    "\n",
    "### **3. Componentes clave de los cuadernos**  \n",
    "- **Fragmentos de código ejecutable**: Para evaluar expresiones lógicas, automatizar pruebas o implementar algoritmos (ej: verificación de tautologías).  \n",
    "- **Celdas con texto teórico y preguntas reflexivas**: Integradas con ejemplos prácticos que requieren intervención activa (ej: *\"Define aquí tu propia fórmula y comprueba si es satisfacible\"*).  \n",
    "- **Enlaces a recursos externos**: Como demostradores en línea o lecturas complementarias para profundizar.  \n",
    "\n",
    "---\n"
   ]
  },
  {
   "cell_type": "markdown",
   "id": "c750af8a",
   "metadata": {},
   "source": [
    "\n",
    "### **4. Beneficios pedagógicos**  \n",
    "- **Enganche activo**: Combina teoría y práctica sin salir del entorno digital.  \n",
    "- **Personalización**: Los estudiantes pueden ajustar el ritmo y profundidad de su aprendizaje.  \n",
    "- **Preparación para aplicaciones reales**: Familiariza a los estudiantes con herramientas usadas en investigación (ej: Python para lógica simbólica).  \n",
    "\n",
    "---\n"
   ]
  },
  {
   "cell_type": "markdown",
   "id": "0602e6ee",
   "metadata": {},
   "source": [
    "\n",
    "### **Ejemplo concreto**  \n",
    "Un cuaderno podría incluir:  \n",
    "1. Una explicación de *modus ponens* con una fórmula predefinida (`p → q`, `p`, luego `q`).  \n",
    "2. Una celda interactiva donde el estudiante modifique `p` o `q` y observe cómo falla la regla si las premisas cambian.  \n",
    "3. Un ejercicio para programar un verificador de *modus ponens* usando diccionarios de Python.  \n"
   ]
  },
  {
   "cell_type": "markdown",
   "id": "70e1a505",
   "metadata": {},
   "source": [
    "\n",
    "Este enfoque transforma la lógica (a menudo abstracta) en una experiencia tangible y adaptable."
   ]
  },
  {
   "cell_type": "markdown",
   "id": "8396c0ed",
   "metadata": {},
   "source": [
    "# Presentación de la estructura de la clase  "
   ]
  },
  {
   "cell_type": "markdown",
   "id": "36bc2964",
   "metadata": {},
   "source": [
    "# Desarrollo de habilidades Metacognitivas en enseñanza con metodología IAE \n"
   ]
  },
  {
   "cell_type": "markdown",
   "id": "9c5cb582",
   "metadata": {},
   "source": [
    "\n",
    "Desarrollar habilidades metacognitivas en los estudiantes dentro de una **Investigación Acción Educativa (IAE)** implica un proceso cíclico de reflexión, acción y evaluación. Aquí te propongo una estrategia estructurada en fases, alineada con la IAE, para fomentar la metacognición:\n",
    "\n",
    "---\n"
   ]
  },
  {
   "cell_type": "markdown",
   "id": "42be70b3",
   "metadata": {},
   "source": [
    "\n",
    "### **1. Diagnóstico Inicial (Fase de Observación)**  \n",
    "- **Identifica el nivel metacognitivo actual**:  \n",
    "  - Realiza cuestionarios, entrevistas o actividades reflexivas (ej.: \"¿Cómo estudiaste para el último examen? ¿Qué te funcionó o no?\").  \n",
    "  - Observa si los estudiantes pueden explicar sus procesos de aprendizaje o identificar dificultades.  \n",
    "\n",
    "- **Registra evidencias**: Anota cómo los estudiantes planifican, monitorean y evalúan sus tareas (ej.: diarios de aprendizaje, grabaciones de debates).  \n",
    "\n",
    "---\n"
   ]
  },
  {
   "cell_type": "markdown",
   "id": "e252e7b1",
   "metadata": {},
   "source": [
    "\n",
    "### **2. Diseño de Intervenciones (Fase de Planificación)**"
   ]
  },
  {
   "cell_type": "markdown",
   "id": "4b036a02",
   "metadata": {},
   "source": [
    "  \n",
    "**a. Enseñanza explícita de estrategias metacognitivas**:  \n",
    "  - **Modelado**: Muestra cómo *tú* piensas al resolver un problema (\"Pensamiento en voz alta\"). Ejemplo:  \n",
    "    *\"Primero, voy a leer el objetivo de la clase. Luego, revisaré si entiendo los conceptos clave...\"*.  \n",
    "  - **Listas de verificación (checklists)**: Proporciona guías para autoevaluarse (ej.: \"¿Puedo explicar este tema con mis propias palabras?\").  \n"
   ]
  },
  {
   "cell_type": "markdown",
   "id": "1ba3c6a5",
   "metadata": {},
   "source": [
    "\n",
    "**b. Herramientas para la autorregulación**:  \n",
    "  - **Diarios de aprendizaje**: Pide que registren:  \n",
    "    - *\"¿Qué aprendí hoy?\"* (conocimiento).  \n",
    "    - *\"¿Cómo lo aprendí?\"* (proceso).  \n",
    "    - *\"¿Qué me falta por entender?\"* (brechas).  \n",
    "  - **Rúbricas de autoevaluación**: Incluye criterios como: *\"Puedo resolver ejercicios sin ayuda\"* o *\"Sé dónde buscar información confiable\"*.  \n",
    "\n",
    "**c. Espacios de reflexión colaborativa**:  \n",
    "  - **Debates metacognitivos**: En grupos, discuten: *\"¿Qué estrategia usamos? ¿Funcionó? ¿Por qué?\"*.  \n",
    "  - **Peer feedback**: Intercambian comentarios sobre sus procesos (ej.: \"Tú organizaste bien tus ideas, pero podrías revisar las fuentes\").  \n",
    "\n",
    "---\n"
   ]
  },
  {
   "cell_type": "markdown",
   "id": "0ed547ca",
   "metadata": {},
   "source": [
    "\n",
    "### **3. Implementación (Fase de Acción)**  \n",
    "- **Integra la metacognición en las actividades cotidianas**:  \n",
    "  - Antes de una tarea: *\"¿Qué sabes ya sobre este tema? ¿Cómo planeas abordarlo?\"*.  \n",
    "  - Durante la tarea: *\"¿Estás siguiendo tu plan? ¿Necesitas ajustarlo?\"*.  \n",
    "  - Después: *\"¿Lograste el objetivo? ¿Qué cambiarías la próxima vez?\"*.  \n",
    "- **Usa preguntas clave**:  \n",
    "  - *\"¿Qué parte fue más difícil? ¿Por qué?\"* (identificación de obstáculos).  \n",
    "  - *\"Si tuvieras que enseñarle esto a un compañero, ¿cómo lo harías?\"* (transferencia).  \n",
    "\n",
    "---\n",
    "\n",
    "### **4. Evaluación y Reflexión (Fase de Observación/Reflexión)**  \n",
    "- **Analiza el impacto**: Compara evidencias pre y post intervención (ej.: diarios, desempeño en tareas).  \n",
    "- **Reflexión grupal**: Realiza una sesión donde los estudiantes compartan:  \n",
    "  - *\"¿Qué estrategias metacognitivas les ayudaron más?\"*.  \n",
    "  - *\"¿Cómo se sintieron al gestionar su aprendizaje?\"*.  \n",
    "- **Ajusta la intervención**: Si notas que persisten dificultades, propón nuevas herramientas (ej.: mapas conceptuales para organizar ideas).  \n",
    "\n",
    "---\n",
    "\n",
    "### **5. Iteración (Ciclo de IAE)**  \n",
    "Repite el ciclo con ajustes basados en los hallazgos. Por ejemplo:  \n",
    "- Si los estudiantes no identifican errores, introduce actividades de *análisis de errores* (\"¿Por qué te equivocaste? ¿Cómo corregirlo?\").  \n",
    "- Si les cuesta planificar, usa herramientas visuales como *diagramas de flujo* para secuenciar pasos.  \n",
    "\n",
    "---\n",
    "\n",
    "### **Ejemplo Práctico**  \n",
    "**Situación**: Estudiantes no revisan sus errores en matemáticas.  \n",
    "- **Intervención**:  \n",
    "  1. **Modelado**: Resuelves un problema cometiendo un error adrede y muestras cómo detectarlo.  \n",
    "  2. **Checklist**: \"¿Revisé cada paso? ¿Mi respuesta tiene sentido?\".  \n",
    "  3. **Diario**: \"Hoy cometí un error en... Lo corregí cambiando...\".  \n",
    "\n",
    "---\n",
    "\n",
    "### **Claves para el Éxito**  \n",
    "- **Consistencia**: Integra la metacognición en todas las clases, no como actividad aislada.  \n",
    "- **Andamiaje**: Reduce gradualmente la guía del docente a medida que los estudiantes ganan autonomía.  \n",
    "- **Cultura de error**: Normaliza los errores como parte del aprendizaje (\"¿Qué podemos aprender de esto?\").  \n",
    "\n",
    "La metacognición no solo mejora el logro académico, sino que empodera a los estudiantes para ser aprendices autónomos y resilientes. En la IAE, este proceso se enriquece al ser colaborativo (docente-estudiantes) y basado en evidencia concreta.  \n",
    "\n",
    "¿Te gustaría profundizar en alguna herramienta específica o ajustar la estrategia a un nivel educativo en particular?"
   ]
  },
  {
   "cell_type": "markdown",
   "id": "239427f7",
   "metadata": {},
   "source": [
    "# Calendario Académico Semestre 2025-2  \n",
    "\n",
    "\n",
    "\n",
    "\n"
   ]
  },
  {
   "cell_type": "code",
   "execution_count": null,
   "id": "c804f8d3",
   "metadata": {},
   "outputs": [],
   "source": []
  },
  {
   "cell_type": "code",
   "execution_count": null,
   "id": "cc539357",
   "metadata": {},
   "outputs": [],
   "source": []
  },
  {
   "cell_type": "markdown",
   "id": "8ba64aed",
   "metadata": {},
   "source": [
    "# Cursos que orienta el profesor Marco Julio Cañas Campillo en 2025  \n",
    "\n",
    "1. Cálculo Vectorial para Ingeniería Agropecuaria\n",
    "2. Análisis Numérico para Licenciatura en Matemáticas. \n",
    "3. Práctica Pedagógica V para Licenciatura en Educación Infantil\n",
    "4. Fundamentos de Lógica para Licenciatura en Matemáticas \n"
   ]
  },
  {
   "cell_type": "markdown",
   "id": "8d41fe58",
   "metadata": {
    "slideshow": {
     "slide_type": "slide"
    }
   },
   "source": [
    "# Horario de clases del profesor Marco\n",
    "\n",
    "* Lunes 8-12: Cálculo Vectorial\n",
    "* Martes 8-12 M: Análisis Numérico. \n",
    "* Miércoles 10 a 11 M: Machine Learnig\n",
    "* Miércoles de 3 a 4 de la tarde: ARIMA\n",
    "* Jueves 2 a 6 PM: Práctica Pedagógica V: Desarrollo del pensamiento matemático en   \n",
    "  la infancia. \n",
    "* Viernes 8 - 12 M: Fundamentos de Lógica. \n",
    "* Sábados 8-12 Asesorías y espacio para retroalimentación y apoyo al trabajo independiente  \n",
    "  y desarrollo de habilidades metacognitivas. "
   ]
  },
  {
   "cell_type": "markdown",
   "id": "ae114e14",
   "metadata": {
    "slideshow": {
     "slide_type": "slide"
    }
   },
   "source": [
    "# Coordinador de los cursos de la Facultad de Educación para regiones:    \n",
    "\n",
    "Andrés Vélez: regioneducacion.fedu@udea.edu.co  \n",
    "Coordinador Regiones  \n",
    "Facultad de Educación  \n",
    "Universidad de Antioquia  "
   ]
  },
  {
   "cell_type": "markdown",
   "id": "b1db4b6c",
   "metadata": {
    "slideshow": {
     "slide_type": "slide"
    }
   },
   "source": [
    "## Monitores\n",
    "* Manuel San Juan Serrano: Contactar escribiendo al correo: manuel.serrano1@udea.edu.co\n",
    "* Yeifry Sebastián Uribe: Contactar escribiendo al correo: yeifry.uribe@udea.edu.co"
   ]
  },
  {
   "cell_type": "markdown",
   "id": "10bce0d0",
   "metadata": {
    "slideshow": {
     "slide_type": "slide"
    }
   },
   "source": [
    "## Referentes "
   ]
  },
  {
   "cell_type": "markdown",
   "id": "1db3c468",
   "metadata": {
    "slideshow": {
     "slide_type": "slide"
    }
   },
   "source": [
    "* [Jupyter Book de fundamentos_logica](file:///C:/Users/marco/Documentos/docencia/fundamentos_logica/fundamentos_logica_book/_build/html/index.html)\n",
    "\n",
    "\n",
    "* [Decargue Crocodile Clip aquí](https://crocodileclips.net/descargar-crocodile-clips/)\n",
    "\n",
    "* [Matemáticas discretas Una introducción abierta, 3ª edición](https://discrete.openmathbooks.org/dmoi3.html)  \n",
    "  \n",
    "* [Desarrollo del pensamiento matemático con calculadora Casio ](https://bibliotecadigital.udea.edu.co/entities/publication/17180405-9f1d-4800-aa7c-e6369779cece)\n",
    "\n",
    "* [CALCULO I DE UNA VARIABLE Ron Larson-Bruce Edwards. Mc Graw Hill. 9º Edición](https://www.academia.edu/42139251/CALCULO_I_DE_UNA_VARIABLE_Ron_Larson_Bruce_Edwards_Mc_Graw_Hill_9o_Edici%C3%B3n)   \n",
    "  \n",
    "\n",
    "* [Grajales Vanegas, L. M., Restrepo Estrada, C. E., Restrepo Ochoa, S. I., & Ruíz De Villalba, F. (2015). Matemáticas I para las ciencias económicas.](https://bibliotecadigital.udea.edu.co/handle/10495/3010)\n",
    "  \n",
    "* R. Duval y Semiosis y pensamiento humano, 2.ª ed. Cali, Colombia: Programa Editorial Universidad del Valle, 2017. [En línea]. Disponible en: https://programaeditorial.univalle.edu.co/gpd-semiosis-y-pensamiento-humano-9789587655278-63324cdb0f6b3.html\n",
    "\n",
    "* [Aylwin, C. U. (2011). Lógica, conjuntos y números. Universidad de los Andes, Consejo de Publicaciones, Colección: Ciencias Básicas, Serie: Matemáticas.](chrome-extension://efaidnbmnnnibpcajpcglclefindmkaj/https://www.u-cursos.cl/ciencias/2011/1/MC110/1/material_docente/bajar?id_material=574722)\n",
    "  \n",
    "* [Chollet, F. (2021). Deep learning with Python. Simon and Schuster.](chrome-extension://efaidnbmnnnibpcajpcglclefindmkaj/https://tanthiamhuat.wordpress.com/wp-content/uploads/2018/03/deeplearningwithpython.pdf)  \n",
    "  \n",
    "* [Watson, S., Stewart, J., & Redlin, L. (2009). Precálculo. Matemáticas para el cálculo.](chrome-extension://efaidnbmnnnibpcajpcglclefindmkaj/https://students.aiu.edu/submissions/profiles/resources/onlineBook/k6L8A3_precalculo_-_matematicas_para_el_calculo-1.pdf)  \n",
    "\n",
    "* [Purcell, E. J., Varberg, D., & Rigdon, S. E. (2007). Cálculo diferencial e integral. Pearson Educación.](https://github.com/marco-canas/calculo/blob/main/referents/purcell/purcell_calculo.pdf)\n",
    "\n",
    "  \n",
    "\n",
    "* [stewart cálculo](https://udeaeduco-my.sharepoint.com/:b:/g/personal/marco_canas_udea_edu_co/EZgXZjAp8QxPqOAim2hs6LcBNPLGjSHf-xwYnUVYkwa04w?e=RZdTCy)  \n",
    "\n",
    "\n",
    "* [Recomendación de la UNESCO sobre ciencia abierta](https://unesdoc.unesco.org/ark:/48223/pf0000379949_spa)\n",
    "\n",
    "* [chatGPT](https://openai.com/blog/chatgpt)  \n",
    "\n",
    "* [Géron, A. (2017). Hands-on machine learning with scikit-learn and tensorflow: Concepts. Tools, and Techniques to build intelligent systems.](chrome-extension://efaidnbmnnnibpcajpcglclefindmkaj/http://14.139.161.31/OddSem-0822-1122/Hands-On_Machine_Learning_with_Scikit-Learn-Keras-and-TensorFlow-2nd-Edition-Aurelien-Geron.pdf)   \n"
   ]
  },
  {
   "cell_type": "markdown",
   "id": "df925560",
   "metadata": {},
   "source": [
    "\n",
    "* [McKinney, W. (2012). Python for data analysis: Data wrangling with Pandas, NumPy, and IPython. \" O'Reilly Media, Inc.\".](https://wesmckinney.com/book/) "
   ]
  },
  {
   "cell_type": "markdown",
   "id": "8e65d6f9",
   "metadata": {},
   "source": [
    "# Como estudiante, encuentro que...   \n",
    "\n",
    "F: Mis Fortalezas son:     \n",
    "O: Mis Oportunidades son:    \n",
    "D: Mis Debilidades son:    \n",
    "A: Lo que Amenazas mi aprendizaje es:  "
   ]
  },
  {
   "cell_type": "markdown",
   "id": "6b9e56a8",
   "metadata": {
    "slideshow": {
     "slide_type": "slide"
    }
   },
   "source": [
    "### [Evaluamos al profesor Marco Cañas Aquí](https://forms.office.com/Pages/ResponsePage.aspx?id=IefhmYRxjkmK_7KtTlPBwkanXIs1i1FEujpsZgO6dXpUREJPV1kxUk1JV1ozTFJIQVNIQjY5WEY3US4u)"
   ]
  },
  {
   "cell_type": "markdown",
   "id": "10f43536",
   "metadata": {
    "slideshow": {
     "slide_type": "slide"
    }
   },
   "source": [
    "### Continue su aprendizaje en la siguiente clase a través del siguiente [vínculo]()"
   ]
  },
  {
   "cell_type": "markdown",
   "id": "53cc9115",
   "metadata": {
    "slideshow": {
     "slide_type": "slide"
    }
   },
   "source": [
    "## Agradecimientos  \n",
    "\n",
    "Doy gracias a Dios por la vida de mi Hijo Joseph Cañas Osorio y la madurez que ha alcanzado. Este hijo me enorgullece y me hace falta abrazarlo cada día. \n",
    "\n",
    "Y a mi esposa Yasmira Emperatriz Barboza Mogollón por su apoyo, orientación y acompañamiento. "
   ]
  }
 ],
 "metadata": {
  "celltoolbar": "Slideshow",
  "kernelspec": {
   "display_name": ".venv",
   "language": "python",
   "name": "python3"
  },
  "language_info": {
   "codemirror_mode": {
    "name": "ipython",
    "version": 3
   },
   "file_extension": ".py",
   "mimetype": "text/x-python",
   "name": "python",
   "nbconvert_exporter": "python",
   "pygments_lexer": "ipython3",
   "version": "3.11.9"
  },
  "rise": {
   "enable_chalkboard": true,
   "theme": "sky",
   "transition": "zoom"
  }
 },
 "nbformat": 4,
 "nbformat_minor": 5
}
