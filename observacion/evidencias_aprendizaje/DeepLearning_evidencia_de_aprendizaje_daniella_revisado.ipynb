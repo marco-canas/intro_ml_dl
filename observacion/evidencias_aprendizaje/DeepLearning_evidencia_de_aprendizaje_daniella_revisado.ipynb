{
 "cells": [
  {
   "cell_type": "markdown",
   "id": "082e9058",
   "metadata": {
    "id": "082e9058"
   },
   "source": [
    "<table align=\"left\">\n",
    "  <td>\n",
    "    <a href=\"https://colab.research.google.com/github/ageron/handson-ml3/blob/main/tools_numpy.ipynb\" target=\"_parent\"><img src=\"https://colab.research.google.com/assets/colab-badge.svg\" alt=\"Open In Colab\"/></a>\n",
    "  </td>\n",
    "  <td>\n",
    "    <a target=\"_blank\" href=\"https://kaggle.com/kernels/welcome?src=https://github.com/ageron/handson-ml3/blob/main/tools_numpy.ipynb\"><img src=\"https://kaggle.com/static/images/open-in-kaggle.svg\" /></a>\n",
    "  </td>\n",
    "</table>"
   ]
  },
  {
   "cell_type": "markdown",
   "id": "c3875164",
   "metadata": {
    "id": "c3875164"
   },
   "source": [
    "# Lectura Experimental al capítulo 10 de Geron"
   ]
  },
  {
   "cell_type": "markdown",
   "id": "76ca7628",
   "metadata": {
    "id": "76ca7628"
   },
   "source": [
    "\n",
    "\n",
    "### **Introducción a las Redes Neuronales Artificiales con Keras**  \n"
   ]
  },
  {
   "cell_type": "markdown",
   "id": "69a9b34a",
   "metadata": {
    "id": "69a9b34a"
   },
   "source": [
    "\n",
    "Los pájaros nos inspiraron para volar, los cardos inspiraron el velcro, y muchas otras invenciones surgieron de la naturaleza."
   ]
  },
  {
   "cell_type": "markdown",
   "id": "0a83ea3f",
   "metadata": {
    "id": "0a83ea3f"
   },
   "source": [
    "Parece lógico, entonces, buscar inspiración en la arquitectura del cerebro para construir máquinas inteligentes."
   ]
  },
  {
   "cell_type": "markdown",
   "id": "2dd2a0a6",
   "metadata": {
    "id": "2dd2a0a6"
   },
   "source": [
    "Esta es la idea clave que dio origen a las **redes neuronales artificiales (RNA)**."
   ]
  },
  {
   "cell_type": "markdown",
   "id": "fe04f341",
   "metadata": {
    "id": "fe04f341"
   },
   "source": [
    "Sin embargo, así como los aviones no necesitan batir sus alas aunque se inspiraron en las aves, las RNA también han evolucionado hasta distanciarse de sus parientes biológicos."
   ]
  },
  {
   "cell_type": "markdown",
   "id": "35a722b2",
   "metadata": {
    "id": "35a722b2"
   },
   "source": [
    " Algunos investigadores incluso argumentan que deberíamos abandonar la analogía biológica (por ejemplo, usando \"unidades\" en lugar de \"neuronas\") para no limitar nuestra creatividad a sistemas biológicamente plausibles.  \n"
   ]
  },
  {
   "cell_type": "markdown",
   "id": "085843b6",
   "metadata": {
    "id": "085843b6"
   },
   "source": [
    "\n",
    "Las RNA son el núcleo del **aprendizaje profundo (Deep Learning)**. Son versátiles, potentes y escalables, lo que las hace ideales para abordar tareas complejas de aprendizaje automático, como:  \n",
    "- Clasificar miles de millones de imágenes (ej. Google Images).  \n",
    "- Potenciar servicios de reconocimiento de voz (ej. Siri de Apple).  \n",
    "- Recomendar videos a cientos de millones de usuarios diariamente (ej. YouTube).  \n",
    "- Aprender a vencer al campeón mundial de Go mediante millones de partidas contra sí misma (ej. AlphaZero de DeepMind).  \n"
   ]
  },
  {
   "cell_type": "markdown",
   "id": "ca21ddb7",
   "metadata": {
    "id": "ca21ddb7"
   },
   "source": [
    "\n",
    "*Puedes aprovechar lo mejor de ambos mundos: inspirarte en la biología sin miedo a crear modelos no biológicos, siempre que funcionen bien.*  \n",
    "\n"
   ]
  },
  {
   "cell_type": "markdown",
   "id": "d5cca954",
   "metadata": {
    "id": "d5cca954"
   },
   "source": [
    "  \n",
    "\n",
    "### **Estructura del Capítulo**  \n",
    "En la primera parte, exploraremos las redes neuronales artificiales, comenzando con un recorrido por las primeras arquitecturas de RNA hasta llegar a los **Perceptrones Multicapa (MLP)**, ampliamente utilizados hoy (otras arquitecturas se analizarán en capítulos posteriores).  \n"
   ]
  },
  {
   "cell_type": "markdown",
   "id": "ab27bbb0",
   "metadata": {
    "id": "ab27bbb0"
   },
   "source": [
    "\n",
    "En la segunda parte, veremos cómo implementar redes neuronales usando la API de **Keras**, una interfaz elegante y sencilla para construir, entrenar, evaluar y ejecutar redes neuronales."
   ]
  },
  {
   "cell_type": "markdown",
   "id": "cf3823bb",
   "metadata": {
    "id": "cf3823bb"
   },
   "source": [
    "No te dejes engañar por su simplicidad: es lo suficientemente expresiva y flexible para crear una amplia variedad de arquitecturas."
   ]
  },
  {
   "cell_type": "markdown",
   "id": "1b3cb9fd",
   "metadata": {
    "id": "1b3cb9fd"
   },
   "source": [
    "De hecho, probablemente cubrirá la mayoría de tus necesidades. Y si requieres mayor flexibilidad, siempre puedes desarrollar componentes personalizados con la API de bajo nivel de Keras (como veremos en el Capítulo 12).  \n"
   ]
  },
  {
   "cell_type": "markdown",
   "id": "b1c5abc9",
   "metadata": {
    "id": "b1c5abc9"
   },
   "source": [
    "\n",
    "Pero primero, viajemos atrás en el tiempo para entender cómo surgieron las redes neuronales artificiales.  \n",
    "\n"
   ]
  },
  {
   "cell_type": "markdown",
   "id": "ce6e202e",
   "metadata": {
    "id": "ce6e202e"
   },
   "source": [
    "\n",
    "\n",
    "**Notas adicionales:**  \n",
    "- Se adaptaron términos técnicos (ej. *\"Early Release\"* → *\"lanzamiento anticipado\"*, *\"units\"* → *\"unidades\"*).  \n",
    "- Se mantuvo el tono pedagógico del original, con ejemplos concretos para claridad.  \n",
    "- Las referencias numéricas (como el <sup>1</sup>) se conservaron para coherencia.  \n",
    "\n"
   ]
  },
  {
   "cell_type": "markdown",
   "id": "15516671",
   "metadata": {
    "id": "15516671"
   },
   "source": []
  },
  {
   "cell_type": "markdown",
   "id": "SYPILMscOYy0",
   "metadata": {
    "id": "SYPILMscOYy0"
   },
   "source": [
    "# Intro Python para Administración de empresas del programa G-Líderes \n",
    "\n",
    "1. creación de variables y tipos de datos\n",
    "2. Cómo acceder al valor guardado en una variable. "
   ]
  },
  {
   "cell_type": "code",
   "execution_count": null,
   "id": "WAbS8Dw2Or6Y",
   "metadata": {
    "id": "WAbS8Dw2Or6Y"
   },
   "outputs": [],
   "source": [
    "nombre = 'Daniella'  # creado la variable nombre y asignado el valor 'Daniella'. Es variable de tipo str"
   ]
  },
  {
   "cell_type": "code",
   "execution_count": null,
   "id": "YN5wlwfWQUnf",
   "metadata": {
    "id": "YN5wlwfWQUnf"
   },
   "outputs": [],
   "source": [
    "edad = 17 # creado la variable edad y asignado el valor 17. esta será una variable tipo int "
   ]
  },
  {
   "cell_type": "code",
   "execution_count": 3,
   "id": "Kcd5tCGBQ3ow",
   "metadata": {
    "id": "Kcd5tCGBQ3ow"
   },
   "outputs": [],
   "source": [
    "estatura = 1.59"
   ]
  },
  {
   "cell_type": "markdown",
   "id": "f10162ec",
   "metadata": {},
   "source": [
    "# Cómo acceder a los valores guardados en la varible "
   ]
  },
  {
   "cell_type": "code",
   "execution_count": 4,
   "id": "5umRbDEMR0Y6",
   "metadata": {
    "colab": {
     "base_uri": "https://localhost:8080/",
     "height": 36
    },
    "executionInfo": {
     "elapsed": 116,
     "status": "ok",
     "timestamp": 1755824250848,
     "user": {
      "displayName": "DANIELLA YEPES CAMPO",
      "userId": "13290257837192111235"
     },
     "user_tz": 360
    },
    "id": "5umRbDEMR0Y6",
    "outputId": "fd98a8df-fabb-4407-bbf1-6623df165edd"
   },
   "outputs": [
    {
     "data": {
      "text/plain": [
       "'Daniella'"
      ]
     },
     "execution_count": 4,
     "metadata": {},
     "output_type": "execute_result"
    }
   ],
   "source": [
    "nombre"
   ]
  },
  {
   "cell_type": "code",
   "execution_count": 5,
   "id": "Wj-VAhzwRYwL",
   "metadata": {
    "colab": {
     "base_uri": "https://localhost:8080/"
    },
    "executionInfo": {
     "elapsed": 34,
     "status": "ok",
     "timestamp": 1755824271602,
     "user": {
      "displayName": "DANIELLA YEPES CAMPO",
      "userId": "13290257837192111235"
     },
     "user_tz": 360
    },
    "id": "Wj-VAhzwRYwL",
    "outputId": "062e4780-ae42-429f-935b-b2ec3ace4e91"
   },
   "outputs": [
    {
     "data": {
      "text/plain": [
       "17"
      ]
     },
     "execution_count": 5,
     "metadata": {},
     "output_type": "execute_result"
    }
   ],
   "source": [
    "edad"
   ]
  },
  {
   "cell_type": "code",
   "execution_count": 6,
   "id": "OTCsBwWaSqFs",
   "metadata": {
    "colab": {
     "base_uri": "https://localhost:8080/"
    },
    "executionInfo": {
     "elapsed": 69,
     "status": "ok",
     "timestamp": 1755824437507,
     "user": {
      "displayName": "DANIELLA YEPES CAMPO",
      "userId": "13290257837192111235"
     },
     "user_tz": 360
    },
    "id": "OTCsBwWaSqFs",
    "outputId": "3fa177a5-ff01-4db1-c621-3a0ccdab6864"
   },
   "outputs": [
    {
     "data": {
      "text/plain": [
       "1.59"
      ]
     },
     "execution_count": 6,
     "metadata": {},
     "output_type": "execute_result"
    }
   ],
   "source": [
    "estatura"
   ]
  },
  {
   "cell_type": "markdown",
   "id": "bdda67ee",
   "metadata": {},
   "source": [
    "# Cómo determinar el tipo de variable "
   ]
  },
  {
   "cell_type": "code",
   "execution_count": 7,
   "id": "HdRnfBUDSreO",
   "metadata": {
    "colab": {
     "base_uri": "https://localhost:8080/"
    },
    "executionInfo": {
     "elapsed": 64,
     "status": "ok",
     "timestamp": 1755824749368,
     "user": {
      "displayName": "DANIELLA YEPES CAMPO",
      "userId": "13290257837192111235"
     },
     "user_tz": 360
    },
    "id": "HdRnfBUDSreO",
    "outputId": "3695f029-f1cd-47ab-e32f-93419de14a2f"
   },
   "outputs": [
    {
     "data": {
      "text/plain": [
       "str"
      ]
     },
     "execution_count": 7,
     "metadata": {},
     "output_type": "execute_result"
    }
   ],
   "source": [
    "type(nombre)"
   ]
  },
  {
   "cell_type": "code",
   "execution_count": 8,
   "id": "9OW1VdhST3mJ",
   "metadata": {
    "colab": {
     "base_uri": "https://localhost:8080/"
    },
    "executionInfo": {
     "elapsed": 38,
     "status": "ok",
     "timestamp": 1755824779851,
     "user": {
      "displayName": "DANIELLA YEPES CAMPO",
      "userId": "13290257837192111235"
     },
     "user_tz": 360
    },
    "id": "9OW1VdhST3mJ",
    "outputId": "fee73eb2-e5f3-4f53-b80a-a8d7e8ad1607"
   },
   "outputs": [
    {
     "data": {
      "text/plain": [
       "int"
      ]
     },
     "execution_count": 8,
     "metadata": {},
     "output_type": "execute_result"
    }
   ],
   "source": [
    "type(edad)"
   ]
  },
  {
   "cell_type": "code",
   "execution_count": 9,
   "id": "cba7e1d1",
   "metadata": {},
   "outputs": [
    {
     "data": {
      "text/plain": [
       "float"
      ]
     },
     "execution_count": 9,
     "metadata": {},
     "output_type": "execute_result"
    }
   ],
   "source": [
    "type(estatura)"
   ]
  },
  {
   "cell_type": "markdown",
   "id": "2994e7b5",
   "metadata": {},
   "source": [
    "# Cómo defino funciones en Python"
   ]
  },
  {
   "cell_type": "markdown",
   "id": "2lyQXraaT_Dx",
   "metadata": {
    "id": "2lyQXraaT_Dx"
   },
   "source": [
    "$f(x) = 2x$"
   ]
  },
  {
   "cell_type": "markdown",
   "id": "2b66338d",
   "metadata": {},
   "source": [
    "## Funciones lambda de Python o funciones anónimas"
   ]
  },
  {
   "cell_type": "code",
   "execution_count": 13,
   "id": "H3oT4tSzYBGd",
   "metadata": {
    "id": "H3oT4tSzYBGd"
   },
   "outputs": [],
   "source": [
    "f = lambda x: 2*x"
   ]
  },
  {
   "cell_type": "code",
   "execution_count": 14,
   "id": "WoQzMgmBYFXs",
   "metadata": {
    "colab": {
     "base_uri": "https://localhost:8080/"
    },
    "executionInfo": {
     "elapsed": 50,
     "status": "ok",
     "timestamp": 1755825981188,
     "user": {
      "displayName": "DANIELLA YEPES CAMPO",
      "userId": "13290257837192111235"
     },
     "user_tz": 360
    },
    "id": "WoQzMgmBYFXs",
    "outputId": "3eb50d59-4f43-44c8-847c-01dd1c5cafb8"
   },
   "outputs": [
    {
     "data": {
      "text/plain": [
       "6"
      ]
     },
     "execution_count": 14,
     "metadata": {},
     "output_type": "execute_result"
    }
   ],
   "source": [
    "f(3)"
   ]
  },
  {
   "cell_type": "code",
   "execution_count": 15,
   "id": "QOb-3xt2YkWQ",
   "metadata": {
    "colab": {
     "base_uri": "https://localhost:8080/"
    },
    "executionInfo": {
     "elapsed": 18,
     "status": "ok",
     "timestamp": 1755826038464,
     "user": {
      "displayName": "DANIELLA YEPES CAMPO",
      "userId": "13290257837192111235"
     },
     "user_tz": 360
    },
    "id": "QOb-3xt2YkWQ",
    "outputId": "d6d9e8a5-fdb9-46f5-d445-6803bd358387"
   },
   "outputs": [
    {
     "data": {
      "text/plain": [
       "14"
      ]
     },
     "execution_count": 15,
     "metadata": {},
     "output_type": "execute_result"
    }
   ],
   "source": [
    "f (7)"
   ]
  },
  {
   "cell_type": "code",
   "execution_count": 16,
   "id": "q64U0nfkYyWF",
   "metadata": {
    "colab": {
     "base_uri": "https://localhost:8080/"
    },
    "executionInfo": {
     "elapsed": 68,
     "status": "ok",
     "timestamp": 1755826045261,
     "user": {
      "displayName": "DANIELLA YEPES CAMPO",
      "userId": "13290257837192111235"
     },
     "user_tz": 360
    },
    "id": "q64U0nfkYyWF",
    "outputId": "59595963-973f-4be8-caca-a5dc9d812526"
   },
   "outputs": [
    {
     "data": {
      "text/plain": [
       "20"
      ]
     },
     "execution_count": 16,
     "metadata": {},
     "output_type": "execute_result"
    }
   ],
   "source": [
    "f (10)"
   ]
  },
  {
   "cell_type": "code",
   "execution_count": 17,
   "id": "iAoogo6qYz_Z",
   "metadata": {
    "colab": {
     "base_uri": "https://localhost:8080/"
    },
    "executionInfo": {
     "elapsed": 19,
     "status": "ok",
     "timestamp": 1755826188493,
     "user": {
      "displayName": "DANIELLA YEPES CAMPO",
      "userId": "13290257837192111235"
     },
     "user_tz": 360
    },
    "id": "iAoogo6qYz_Z",
    "outputId": "23be37df-4af4-4779-f861-be485e3a35bc"
   },
   "outputs": [
    {
     "data": {
      "text/plain": [
       "(4, 6, 14, 20)"
      ]
     },
     "execution_count": 17,
     "metadata": {},
     "output_type": "execute_result"
    }
   ],
   "source": [
    "f(2), f(3), f(7), f(10)"
   ]
  },
  {
   "cell_type": "markdown",
   "id": "27465cf1",
   "metadata": {},
   "source": [
    "## Las funciones que se definen a través de la sentencia def  \n",
    "def f(x):\n",
    "    return 2*x"
   ]
  },
  {
   "cell_type": "code",
   "execution_count": 18,
   "id": "505cb932",
   "metadata": {},
   "outputs": [],
   "source": [
    "def f(x):\n",
    "    return 2*x "
   ]
  },
  {
   "cell_type": "code",
   "execution_count": 21,
   "id": "2044cfea",
   "metadata": {},
   "outputs": [
    {
     "data": {
      "text/plain": [
       "8"
      ]
     },
     "execution_count": 21,
     "metadata": {},
     "output_type": "execute_result"
    }
   ],
   "source": [
    "f(4)"
   ]
  },
  {
   "cell_type": "code",
   "execution_count": 23,
   "id": "kJYf-GDfZW-C",
   "metadata": {
    "id": "kJYf-GDfZW-C"
   },
   "outputs": [],
   "source": [
    "def g(x):\n",
    "  return 3*x"
   ]
  },
  {
   "cell_type": "code",
   "execution_count": 25,
   "id": "U-fiscz7adRS",
   "metadata": {
    "colab": {
     "base_uri": "https://localhost:8080/"
    },
    "executionInfo": {
     "elapsed": 42,
     "status": "ok",
     "timestamp": 1755827023529,
     "user": {
      "displayName": "DANIELLA YEPES CAMPO",
      "userId": "13290257837192111235"
     },
     "user_tz": 360
    },
    "id": "U-fiscz7adRS",
    "outputId": "414ed18d-1c64-42a7-f679-832326d494eb"
   },
   "outputs": [
    {
     "data": {
      "text/plain": [
       "(60, 120)"
      ]
     },
     "execution_count": 25,
     "metadata": {},
     "output_type": "execute_result"
    }
   ],
   "source": [
    "g(20), g(40)"
   ]
  },
  {
   "cell_type": "markdown",
   "id": "jzhfMmiIHCpJ",
   "metadata": {
    "id": "jzhfMmiIHCpJ"
   },
   "source": [
    "Listas ejercicio para reforzar el conocimiento de la clase pasadas\n",
    "\n",
    "```\n",
    "# This is formatted as code\n",
    "```\n",
    "\n"
   ]
  },
  {
   "cell_type": "code",
   "execution_count": null,
   "id": "SoymNSdkHLMp",
   "metadata": {
    "colab": {
     "base_uri": "https://localhost:8080/"
    },
    "executionInfo": {
     "elapsed": 36,
     "status": "ok",
     "timestamp": 1757533187016,
     "user": {
      "displayName": "DANIELLA YEPES CAMPO",
      "userId": "13290257837192111235"
     },
     "user_tz": 360
    },
    "id": "SoymNSdkHLMp",
    "outputId": "3107fbdf-b16d-4866-dfdf-009fbccedc61"
   },
   "outputs": [
    {
     "name": "stdout",
     "output_type": "stream",
     "text": [
      "ana\n"
     ]
    }
   ],
   "source": [
    "estudiantes = [\"ana\", \"jose\", \"juan\", \"carlos\"] #se creó lista\n",
    "print(estudiantes[0])   #ana"
   ]
  },
  {
   "cell_type": "code",
   "execution_count": null,
   "id": "pfCRYsddIGOS",
   "metadata": {
    "colab": {
     "base_uri": "https://localhost:8080/"
    },
    "executionInfo": {
     "elapsed": 28,
     "status": "ok",
     "timestamp": 1757533442915,
     "user": {
      "displayName": "DANIELLA YEPES CAMPO",
      "userId": "13290257837192111235"
     },
     "user_tz": 360
    },
    "id": "pfCRYsddIGOS",
    "outputId": "dd2b6282-23ad-402b-e881-a983ef663f0c"
   },
   "outputs": [
    {
     "name": "stdout",
     "output_type": "stream",
     "text": [
      "jose\n"
     ]
    }
   ],
   "source": [
    "print(estudiantes[1]) #como acceder a la info consignada en ella utilzando la notación de corchetes"
   ]
  },
  {
   "cell_type": "code",
   "execution_count": 28,
   "id": "rkW2j_sVJOEz",
   "metadata": {
    "colab": {
     "base_uri": "https://localhost:8080/"
    },
    "executionInfo": {
     "elapsed": 15,
     "status": "ok",
     "timestamp": 1757533296178,
     "user": {
      "displayName": "DANIELLA YEPES CAMPO",
      "userId": "13290257837192111235"
     },
     "user_tz": 360
    },
    "id": "rkW2j_sVJOEz",
    "outputId": "f508c612-32a8-46dd-ea55-9c8dae525eef"
   },
   "outputs": [
    {
     "name": "stdout",
     "output_type": "stream",
     "text": [
      "carlos\n"
     ]
    }
   ],
   "source": [
    "print(estudiantes[3])  #carlos"
   ]
  },
  {
   "cell_type": "code",
   "execution_count": 29,
   "id": "Q126f4JWJUXS",
   "metadata": {
    "colab": {
     "base_uri": "https://localhost:8080/"
    },
    "executionInfo": {
     "elapsed": 27,
     "status": "ok",
     "timestamp": 1757533323524,
     "user": {
      "displayName": "DANIELLA YEPES CAMPO",
      "userId": "13290257837192111235"
     },
     "user_tz": 360
    },
    "id": "Q126f4JWJUXS",
    "outputId": "2fe97c76-42cb-44de-e628-aa9bcfe68f1e"
   },
   "outputs": [
    {
     "name": "stdout",
     "output_type": "stream",
     "text": [
      "juan\n"
     ]
    }
   ],
   "source": [
    "print(estudiantes[2])  #juan"
   ]
  },
  {
   "cell_type": "code",
   "execution_count": 35,
   "id": "VTbBtWd7JkAC",
   "metadata": {
    "colab": {
     "base_uri": "https://localhost:8080/"
    },
    "executionInfo": {
     "elapsed": 43,
     "status": "ok",
     "timestamp": 1757533630878,
     "user": {
      "displayName": "DANIELLA YEPES CAMPO",
      "userId": "13290257837192111235"
     },
     "user_tz": 360
    },
    "id": "VTbBtWd7JkAC",
    "outputId": "6955f74d-4a38-4cdf-f163-bb2cbace8ca0"
   },
   "outputs": [
    {
     "name": "stdout",
     "output_type": "stream",
     "text": [
      "['ana', 'jose', 'juan', 'carlos', 'dani', 'dani', 'dani', 'dani', 'dani', 'dani']\n"
     ]
    }
   ],
   "source": [
    "estudiantes.append(\"dani\")  #como agragar datos a una lista con método append() y notación de punto.\n",
    "print(estudiantes)"
   ]
  },
  {
   "cell_type": "code",
   "execution_count": null,
   "id": "s9To4lrqKorn",
   "metadata": {
    "id": "s9To4lrqKorn"
   },
   "outputs": [],
   "source": []
  },
  {
   "cell_type": "code",
   "execution_count": null,
   "id": "EG11fsA_K5F2",
   "metadata": {
    "colab": {
     "base_uri": "https://localhost:8080/"
    },
    "executionInfo": {
     "elapsed": 57,
     "status": "ok",
     "timestamp": 1757533698848,
     "user": {
      "displayName": "DANIELLA YEPES CAMPO",
      "userId": "13290257837192111235"
     },
     "user_tz": 360
    },
    "id": "EG11fsA_K5F2",
    "outputId": "9e800191-3e42-4ba0-c137-9cf79ec0c784"
   },
   "outputs": [],
   "source": [
    "print (estudiantes [4])"
   ]
  },
  {
   "cell_type": "markdown",
   "id": "LKr2-qMPLIqE",
   "metadata": {
    "id": "LKr2-qMPLIqE"
   },
   "source": [
    "TUPLAS, acá  no se puede agregar elementos o datos a la estructura ya creada.\n"
   ]
  },
  {
   "cell_type": "code",
   "execution_count": null,
   "id": "096SDAthLRHK",
   "metadata": {
    "id": "096SDAthLRHK"
   },
   "outputs": [],
   "source": [
    "coordenada = (4, 5, 7)  #para modificarla, solo se puede hacer volviendo a crear la estructura con datos nuevos... SE USA PARA COORDENADAS O FECHAS"
   ]
  },
  {
   "cell_type": "code",
   "execution_count": null,
   "id": "jS4gWwp_LZdQ",
   "metadata": {
    "colab": {
     "base_uri": "https://localhost:8080/"
    },
    "executionInfo": {
     "elapsed": 50,
     "status": "ok",
     "timestamp": 1757534175771,
     "user": {
      "displayName": "DANIELLA YEPES CAMPO",
      "userId": "13290257837192111235"
     },
     "user_tz": 360
    },
    "id": "jS4gWwp_LZdQ",
    "outputId": "c2214a0a-7190-4517-f09e-c59a9a177d46"
   },
   "outputs": [],
   "source": [
    "print (coordenada [0]) #4\n",
    "#  coordenada[0] =7"
   ]
  },
  {
   "cell_type": "code",
   "execution_count": null,
   "id": "8UH-gK6bLuEa",
   "metadata": {
    "colab": {
     "base_uri": "https://localhost:8080/"
    },
    "executionInfo": {
     "elapsed": 18,
     "status": "ok",
     "timestamp": 1757534103374,
     "user": {
      "displayName": "DANIELLA YEPES CAMPO",
      "userId": "13290257837192111235"
     },
     "user_tz": 360
    },
    "id": "8UH-gK6bLuEa",
    "outputId": "900b613b-c50c-4721-fd12-43f1e0ded495"
   },
   "outputs": [],
   "source": [
    "print(coordenada[0])  #4"
   ]
  },
  {
   "cell_type": "markdown",
   "id": "AN00Fwi7M2Te",
   "metadata": {
    "id": "AN00Fwi7M2Te"
   },
   "source": [
    "CONJUNTOS, colecciones no ordenadas de elementos únicos (no son ordenados)"
   ]
  },
  {
   "cell_type": "code",
   "execution_count": null,
   "id": "dMwVSqr-NHrW",
   "metadata": {
    "colab": {
     "base_uri": "https://localhost:8080/"
    },
    "executionInfo": {
     "elapsed": 39,
     "status": "ok",
     "timestamp": 1757535594953,
     "user": {
      "displayName": "DANIELLA YEPES CAMPO",
      "userId": "13290257837192111235"
     },
     "user_tz": 360
    },
    "id": "dMwVSqr-NHrW",
    "outputId": "6c48318a-a6fa-4851-856e-18d4a1bb2671"
   },
   "outputs": [],
   "source": [
    "ejercicios_resueltos = {1, 2, 2, 3, 4, 5, 5, 6, 7}\n",
    "print(ejercicios_resueltos) # {1, 2, 3, 4, 5, 6, 7}"
   ]
  },
  {
   "cell_type": "markdown",
   "id": "ixN18kENRp0g",
   "metadata": {
    "id": "ixN18kENRp0g"
   },
   "source": [
    "se evita duplicados, útilies para comparar y hacer operaciones como unión e intersección\n",
    "\n"
   ]
  },
  {
   "cell_type": "code",
   "execution_count": null,
   "id": "bRW8FoT-RzAo",
   "metadata": {
    "id": "bRW8FoT-RzAo"
   },
   "outputs": [],
   "source": [
    "#productos vendidos en un dia\n",
    "productos_vendidos = {\"arroz, leche, huevos, pan, leche, arroz, avena, carne\"}\n"
   ]
  },
  {
   "cell_type": "code",
   "execution_count": null,
   "id": "KwGbg_XgTBTc",
   "metadata": {
    "colab": {
     "base_uri": "https://localhost:8080/"
    },
    "executionInfo": {
     "elapsed": 101,
     "status": "ok",
     "timestamp": 1757536041775,
     "user": {
      "displayName": "DANIELLA YEPES CAMPO",
      "userId": "13290257837192111235"
     },
     "user_tz": 360
    },
    "id": "KwGbg_XgTBTc",
    "outputId": "550722f2-934e-4527-959b-b29cdef5c488"
   },
   "outputs": [],
   "source": [
    "print (productos_vendidos)\n",
    "# {\"arroz\", \"leche\", \"huevos\", \"pan\", \"avena\", \"carne\"}"
   ]
  },
  {
   "cell_type": "markdown",
   "id": "5wJ3sH2sUABi",
   "metadata": {
    "id": "5wJ3sH2sUABi"
   },
   "source": [
    "DICCIONARIOS, pares clave-valor, es como \"mapa\" de datos ej: palabra con su significado."
   ]
  },
  {
   "cell_type": "code",
   "execution_count": null,
   "id": "c4EkepjkUgjX",
   "metadata": {
    "id": "c4EkepjkUgjX"
   },
   "outputs": [],
   "source": [
    "#\"diccionario de clientes y sus saldos pendientes (en pesos colombianos)\"\n",
    "clientes = {\"carlos\": 10000, \"jose\": 20000, \"juan\": 50000}\n"
   ]
  },
  {
   "cell_type": "code",
   "execution_count": null,
   "id": "IoUWb1rHVK24",
   "metadata": {
    "colab": {
     "base_uri": "https://localhost:8080/"
    },
    "executionInfo": {
     "elapsed": 92,
     "status": "ok",
     "timestamp": 1757538983255,
     "user": {
      "displayName": "DANIELLA YEPES CAMPO",
      "userId": "13290257837192111235"
     },
     "user_tz": 360
    },
    "id": "IoUWb1rHVK24",
    "outputId": "4298909e-c516-4ae9-c2ea-1ee611e0cfa1"
   },
   "outputs": [],
   "source": [
    "# consultar el saldo de jose\n",
    "print(clientes[\"jose\"]) # 20000"
   ]
  },
  {
   "cell_type": "code",
   "execution_count": null,
   "id": "VW3OMFAXV7WW",
   "metadata": {
    "colab": {
     "base_uri": "https://localhost:8080/"
    },
    "executionInfo": {
     "elapsed": 37,
     "status": "ok",
     "timestamp": 1757539046230,
     "user": {
      "displayName": "DANIELLA YEPES CAMPO",
      "userId": "13290257837192111235"
     },
     "user_tz": 360
    },
    "id": "VW3OMFAXV7WW",
    "outputId": "53e52df9-cebc-4a1e-d03c-7ba3510126dc"
   },
   "outputs": [],
   "source": [
    "print(clientes[\"carlos\"]) # 10000"
   ]
  },
  {
   "cell_type": "markdown",
   "id": "ELl83r-af7tZ",
   "metadata": {
    "id": "ELl83r-af7tZ"
   },
   "source": [
    "CADENAS, Sentimiento de la empresa - opiniones"
   ]
  },
  {
   "cell_type": "code",
   "execution_count": null,
   "id": "Eu1t8scYgBBT",
   "metadata": {
    "id": "Eu1t8scYgBBT"
   },
   "outputs": [],
   "source": [
    "mensaje = \"Dios es poderoso\""
   ]
  },
  {
   "cell_type": "code",
   "execution_count": null,
   "id": "eXOa1S0jga43",
   "metadata": {
    "colab": {
     "base_uri": "https://localhost:8080/"
    },
    "executionInfo": {
     "elapsed": 39,
     "status": "ok",
     "timestamp": 1757539334763,
     "user": {
      "displayName": "DANIELLA YEPES CAMPO",
      "userId": "13290257837192111235"
     },
     "user_tz": 360
    },
    "id": "eXOa1S0jga43",
    "outputId": "eda3e80e-9bb6-4b75-db6a-d318e8abf94f"
   },
   "outputs": [],
   "source": [
    "print(mensaje.split ())"
   ]
  },
  {
   "cell_type": "code",
   "execution_count": null,
   "id": "cX8FOE3ngIOn",
   "metadata": {
    "colab": {
     "base_uri": "https://localhost:8080/"
    },
    "executionInfo": {
     "elapsed": 13,
     "status": "ok",
     "timestamp": 1757539336828,
     "user": {
      "displayName": "DANIELLA YEPES CAMPO",
      "userId": "13290257837192111235"
     },
     "user_tz": 360
    },
    "id": "cX8FOE3ngIOn",
    "outputId": "70935465-1703-44b9-a2ab-aa1c754a7179"
   },
   "outputs": [],
   "source": [
    "print(mensaje.upper())"
   ]
  },
  {
   "cell_type": "markdown",
   "id": "5A79mn4shDMp",
   "metadata": {
    "id": "5A79mn4shDMp"
   },
   "source": [
    "EJERCIO DE PRACTICA"
   ]
  },
  {
   "cell_type": "markdown",
   "id": "5oul7d4eyosf",
   "metadata": {
    "id": "5oul7d4eyosf"
   },
   "source": [
    "1- LISTAS"
   ]
  },
  {
   "cell_type": "code",
   "execution_count": null,
   "id": "TR8tOKR3hE0j",
   "metadata": {
    "id": "TR8tOKR3hE0j"
   },
   "outputs": [],
   "source": [
    "#creaicon de lista\n",
    "trabajadores = [\"Anna\", \"Bob\", \"Charlie\", \"David\"]\n"
   ]
  },
  {
   "cell_type": "code",
   "execution_count": null,
   "id": "SpeHOEwBhXV_",
   "metadata": {
    "colab": {
     "base_uri": "https://localhost:8080/"
    },
    "executionInfo": {
     "elapsed": 9,
     "status": "ok",
     "timestamp": 1757540098852,
     "user": {
      "displayName": "DANIELLA YEPES CAMPO",
      "userId": "13290257837192111235"
     },
     "user_tz": 360
    },
    "id": "SpeHOEwBhXV_",
    "outputId": "e220b465-b169-4b48-a792-538204a07408"
   },
   "outputs": [],
   "source": [
    "print (trabajadores [3]) #anna"
   ]
  },
  {
   "cell_type": "code",
   "execution_count": null,
   "id": "n9u_PQXylF6Y",
   "metadata": {
    "colab": {
     "base_uri": "https://localhost:8080/"
    },
    "executionInfo": {
     "elapsed": 12,
     "status": "ok",
     "timestamp": 1757540573879,
     "user": {
      "displayName": "DANIELLA YEPES CAMPO",
      "userId": "13290257837192111235"
     },
     "user_tz": 360
    },
    "id": "n9u_PQXylF6Y",
    "outputId": "beb64d5f-95cf-4b36-deb0-bc4efcc547a4"
   },
   "outputs": [],
   "source": [
    "print(trabajadores [2]) #charlie"
   ]
  },
  {
   "cell_type": "code",
   "execution_count": null,
   "id": "V7cYBQlNlOH-",
   "metadata": {
    "colab": {
     "base_uri": "https://localhost:8080/"
    },
    "executionInfo": {
     "elapsed": 10,
     "status": "ok",
     "timestamp": 1757540621794,
     "user": {
      "displayName": "DANIELLA YEPES CAMPO",
      "userId": "13290257837192111235"
     },
     "user_tz": 360
    },
    "id": "V7cYBQlNlOH-",
    "outputId": "620d37c4-3ead-46e0-9bb2-eedc4c8e0b9c"
   },
   "outputs": [],
   "source": [
    "trabajadores.append(\"maria\")\n",
    "print(trabajadores)"
   ]
  },
  {
   "cell_type": "markdown",
   "id": "0_vi9cMPysN_",
   "metadata": {
    "id": "0_vi9cMPysN_"
   },
   "source": [
    "2-TUPLAS"
   ]
  },
  {
   "cell_type": "code",
   "execution_count": null,
   "id": "NIume2_clgPy",
   "metadata": {
    "colab": {
     "base_uri": "https://localhost:8080/"
    },
    "executionInfo": {
     "elapsed": 17,
     "status": "ok",
     "timestamp": 1757543143003,
     "user": {
      "displayName": "DANIELLA YEPES CAMPO",
      "userId": "13290257837192111235"
     },
     "user_tz": 360
    },
    "id": "NIume2_clgPy",
    "outputId": "2ab4934d-9614-431c-94de-adf783c5964f"
   },
   "outputs": [],
   "source": [
    "#creacion de tuplas\n",
    "#info de producto\n",
    "producto = (\"camisa\", 45000, 20)\n",
    "nombre = producto[0]\n",
    "precio = producto[1]\n",
    "cantidad = producto[2]\n",
    "print(\"Nombre:\", nombre)\n",
    "print(\"Precio:\", precio)\n",
    "print(\"Cantidad en inventario:\", cantidad)\n"
   ]
  },
  {
   "cell_type": "code",
   "execution_count": null,
   "id": "Ch4uRj0Pl54y",
   "metadata": {
    "colab": {
     "base_uri": "https://localhost:8080/"
    },
    "executionInfo": {
     "elapsed": 69,
     "status": "ok",
     "timestamp": 1757544021978,
     "user": {
      "displayName": "DANIELLA YEPES CAMPO",
      "userId": "13290257837192111235"
     },
     "user_tz": 360
    },
    "id": "Ch4uRj0Pl54y",
    "outputId": "5ab359ff-315f-45ed-e1bb-f848e0b17454"
   },
   "outputs": [],
   "source": [
    "producto = (\"zapato\", 50000, 100)\n",
    "nombre = producto [0]\n",
    "precio = producto [1]\n",
    "cantidad = producto [2]\n",
    "print (\"nombre:\", nombre)\n",
    "print (\"precio:\", precio)\n",
    "print (\"cantidad:\", cantidad)"
   ]
  },
  {
   "cell_type": "markdown",
   "id": "tfUMJcnEyhwu",
   "metadata": {
    "id": "tfUMJcnEyhwu"
   },
   "source": [
    "CONJUNTOS"
   ]
  },
  {
   "cell_type": "code",
   "execution_count": null,
   "id": "ul2UjBdnyv75",
   "metadata": {
    "colab": {
     "base_uri": "https://localhost:8080/"
    },
    "executionInfo": {
     "elapsed": 49,
     "status": "ok",
     "timestamp": 1758044054324,
     "user": {
      "displayName": "DANIELLA YEPES CAMPO",
      "userId": "13290257837192111235"
     },
     "user_tz": 360
    },
    "id": "ul2UjBdnyv75",
    "outputId": "598ce32a-c971-4006-840b-46d15b99ca09"
   },
   "outputs": [],
   "source": [
    "# Conjunto de productos vendidos en la mañana\n",
    "mañana = {\"Camisa\", \"Pantalón\", \"Zapatos\", \"Sombrero\"}\n",
    "\n",
    "# Conjunto de productos vendidos en la tarde\n",
    "tarde = {\"Zapatos\", \"Bolso\", \"Camisa\", \"Reloj\"}\n",
    "\n",
    "# Productos que se vendieron en ambos turnos (intersección)\n",
    "ambos_turnos = mañana & tarde   # o mañana.intersection(tarde)\n",
    "\n",
    "print(\"Productos vendidos en la mañana:\", mañana)\n",
    "print(\"Productos vendidos en la tarde:\", tarde)\n",
    "print(\"Productos vendidos en ambos turnos:\", ambos_turnos)\n"
   ]
  },
  {
   "cell_type": "markdown",
   "id": "68yv5p5AmVXB",
   "metadata": {
    "id": "68yv5p5AmVXB"
   },
   "source": [
    "DICCIONARIOS"
   ]
  },
  {
   "cell_type": "code",
   "execution_count": null,
   "id": "mCv8bZflmYYh",
   "metadata": {
    "colab": {
     "base_uri": "https://localhost:8080/"
    },
    "executionInfo": {
     "elapsed": 51,
     "status": "ok",
     "timestamp": 1758044198204,
     "user": {
      "displayName": "DANIELLA YEPES CAMPO",
      "userId": "13290257837192111235"
     },
     "user_tz": 360
    },
    "id": "mCv8bZflmYYh",
    "outputId": "79f9e54c-639d-41cc-be20-f3593616be11"
   },
   "outputs": [],
   "source": [
    "# Diccionario con clientes y sus saldos pendientes\n",
    "saldos = {\n",
    "    \"Pedro\": 10000,\n",
    "    \"Juan\": 35000,\n",
    "    \"María\": 15000,\n",
    "    \"Laura\": 5000\n",
    "}\n",
    "\n",
    "# Acceder al saldo de un cliente\n",
    "print(\"Saldo de Pedro:\", saldos[\"Pedro\"])\n",
    "print(\"Saldo de Juan:\", saldos[\"Juan\"])\n",
    "\n",
    "# Mostrar todos los clientes con su saldo\n",
    "for cliente, saldo in saldos.items():\n",
    "    print(cliente, \"tiene un saldo pendiente de\", saldo)\n"
   ]
  },
  {
   "cell_type": "markdown",
   "id": "hpIN_A1Zmosf",
   "metadata": {
    "id": "hpIN_A1Zmosf"
   },
   "source": [
    "CADENAS"
   ]
  },
  {
   "cell_type": "code",
   "execution_count": null,
   "id": "CE7jZXxbmZQA",
   "metadata": {
    "colab": {
     "base_uri": "https://localhost:8080/"
    },
    "executionInfo": {
     "elapsed": 63,
     "status": "ok",
     "timestamp": 1758044272693,
     "user": {
      "displayName": "DANIELLA YEPES CAMPO",
      "userId": "13290257837192111235"
     },
     "user_tz": 360
    },
    "id": "CE7jZXxbmZQA",
    "outputId": "12eb6fd9-14d9-41fe-9e37-ea6ddf831ff0"
   },
   "outputs": [],
   "source": [
    "# Texto de un anuncio publicitario\n",
    "texto = \"Calidad y confianza para toda la familia\"\n",
    "\n",
    "# Separar el texto en palabras\n",
    "palabras = texto.split()\n",
    "\n",
    "# Contar la cantidad de palabras\n",
    "cantidad = len(palabras)\n",
    "\n",
    "print(\"Texto:\", texto)\n",
    "print(\"Número de palabras:\", cantidad)\n"
   ]
  },
  {
   "cell_type": "code",
   "execution_count": null,
   "id": "1mPUnC9PmrbO",
   "metadata": {
    "id": "1mPUnC9PmrbO"
   },
   "outputs": [],
   "source": []
  }
 ],
 "metadata": {
  "colab": {
   "provenance": [
    {
     "file_id": "https://github.com/marco-canas/ml_dl_intro/blob/main/2_planificacion/3_dl/geron/10_chapter/pagina_303.ipynb",
     "timestamp": 1755822600452
    }
   ]
  },
  "kernelspec": {
   "display_name": ".venv",
   "language": "python",
   "name": "python3"
  },
  "language_info": {
   "codemirror_mode": {
    "name": "ipython",
    "version": 3
   },
   "file_extension": ".py",
   "mimetype": "text/x-python",
   "name": "python",
   "nbconvert_exporter": "python",
   "pygments_lexer": "ipython3",
   "version": "3.11.9"
  }
 },
 "nbformat": 4,
 "nbformat_minor": 5
}
